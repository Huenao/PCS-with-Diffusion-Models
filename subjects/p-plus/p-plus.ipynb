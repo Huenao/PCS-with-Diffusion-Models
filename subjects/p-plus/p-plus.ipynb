{
 "cells": [
  {
   "cell_type": "code",
   "execution_count": 1,
   "metadata": {},
   "outputs": [
    {
     "name": "stderr",
     "output_type": "stream",
     "text": [
      "/home/huwentao/anaconda3/envs/pplus/lib/python3.9/site-packages/tqdm/auto.py:21: TqdmWarning: IProgress not found. Please update jupyter and ipywidgets. See https://ipywidgets.readthedocs.io/en/stable/user_install.html\n",
      "  from .autonotebook import tqdm as notebook_tqdm\n"
     ]
    },
    {
     "name": "stdout",
     "output_type": "stream",
     "text": [
      "placeholder_token: <new1>\n"
     ]
    },
    {
     "name": "stderr",
     "output_type": "stream",
     "text": [
      "/home/huwentao/anaconda3/envs/pplus/lib/python3.9/site-packages/huggingface_hub/file_download.py:1132: FutureWarning: `resume_download` is deprecated and will be removed in version 1.0.0. Downloads always resume when possible. If you want to force a new download, use `force_download=True`.\n",
      "  warnings.warn(\n",
      "/home/huwentao/hwt/project/pcs/PCS-with-Diffusion-Models/subjects/p-plus/prompt_plus/prompt_plus_pipeline_stable_diffusion.py:341: FutureWarning: Accessing config attribute `in_channels` directly via 'PPlusUNet2DConditionModel' object attribute is deprecated. Please access 'in_channels' over 'PPlusUNet2DConditionModel's config object instead, e.g. 'unet.config.in_channels'.\n",
      "  num_channels_latents = self.unet.in_channels\n",
      "100%|██████████| 50/50 [00:14<00:00,  3.52it/s]\n",
      "/home/huwentao/anaconda3/envs/pplus/lib/python3.9/site-packages/diffusers/pipelines/stable_diffusion/pipeline_stable_diffusion.py:471: FutureWarning: The decode_latents method is deprecated and will be removed in a future version. Please use VaeImageProcessor instead\n",
      "  warnings.warn(\n"
     ]
    }
   ],
   "source": [
    "import os\n",
    "os.environ[\"CUDA_VISIBLE_DEVICES\"] = \"7\"\n",
    "\n",
    "import sys\n",
    "utils_path = os.path.abspath(os.path.join('../..'))\n",
    "sys.path.append(utils_path)\n",
    "from prompt_plus import PPlusStableDiffusionPipeline\n",
    "\n",
    "pipe = PPlusStableDiffusionPipeline.from_learned_embed(\n",
    "    pretrained_model_name_or_path=\"CompVis/stable-diffusion-v1-4\",\n",
    "    learned_embed_name_or_path=\"/home/huwentao/hwt/project/pcs/PCS-with-Diffusion-Models/logs/subjects/p-plus/barn\"\n",
    ").to(\"cuda\")\n",
    "prompt = \"A red <new> barn\"\n",
    "image = pipe(prompt, num_inference_steps=50, guidance_scale=7.5).images[0]\n",
    "image.save(\"barn.png\")"
   ]
  },
  {
   "cell_type": "code",
   "execution_count": null,
   "metadata": {},
   "outputs": [],
   "source": []
  }
 ],
 "metadata": {
  "kernelspec": {
   "display_name": "base",
   "language": "python",
   "name": "python3"
  },
  "language_info": {
   "codemirror_mode": {
    "name": "ipython",
    "version": 3
   },
   "file_extension": ".py",
   "mimetype": "text/x-python",
   "name": "python",
   "nbconvert_exporter": "python",
   "pygments_lexer": "ipython3",
   "version": "3.9.18"
  }
 },
 "nbformat": 4,
 "nbformat_minor": 2
}
