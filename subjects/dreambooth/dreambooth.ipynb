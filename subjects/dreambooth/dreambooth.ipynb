{
 "cells": [
  {
   "cell_type": "markdown",
   "metadata": {},
   "source": [
    "## Generate images for evaluation"
   ]
  },
  {
   "cell_type": "code",
   "execution_count": null,
   "metadata": {},
   "outputs": [],
   "source": [
    "import os,json\n",
    "os.environ[\"CUDA_VISIBLE_DEVICES\"] = \"7\"\n",
    "\n",
    "import sys\n",
    "utils_path = os.path.abspath(os.path.join('../..'))\n",
    "sys.path.append(utils_path)\n",
    "\n",
    "import torch\n",
    "from diffusers import DiffusionPipeline, UNet2DConditionModel\n",
    "from transformers import CLIPTextModel\n",
    "from utils.dataset_info import get_subjects_prompts_info\n",
    "\n",
    "\n",
    "# Single Subject Generation\n",
    "single_subject = []                            # \"backpack\"\n",
    "# Single Prompt Generation\n",
    "single_prompt = []                            # e.g. [\"a {0} {1} near the pool\"]\n",
    "\n",
    "num_generation = 4\n",
    "\n",
    "\n",
    "output_path = \"../../outputs/subjects/dreambooth\"\n",
    "embedding_folds = os.listdir(\"../../logs/subjects/dreambooth/\")\n",
    "dataset_info_path = \"../../pcs_dataset/info.json\"\n",
    "os.makedirs(output_path, exist_ok=True)\n",
    "\n",
    "prompts_info = get_subjects_prompts_info(dataset_info_path)\n",
    "\n",
    "if len(single_subject):\n",
    "    subjects = single_subject\n",
    "\n",
    "for subject in subjects:\n",
    "\n",
    "    if subject not in os.listdir(output_path):\n",
    "\n",
    "        print(f\"***** Subject: {subject} *****\")\n",
    "\n",
    "        # Load the pipeline with the same arguments (model, revision) that were used for training\n",
    "        unet = UNet2DConditionModel.from_pretrained(f\"../../logs/subjects/dreambooth/{subject}/checkpoint-500/unet\")\n",
    "        # if you have trained with `--args.train_text_encoder` make sure to also load the text encoder\n",
    "        # text_encoder = CLIPTextModel.from_pretrained(\"/sddata/dreambooth/daruma-v2-1/checkpoint-100/text_encoder\")\n",
    "        pipeline = DiffusionPipeline.from_pretrained(\"CompVis/stable-diffusion-v1-4\", unet=unet, dtype=torch.float16, use_safetensors=True)\n",
    "        pipeline.to(\"cuda\")\n",
    "\n",
    "        if len(single_prompt):\n",
    "            prompts = single_prompt\n",
    "        else:\n",
    "            prompts = prompts_info[subject][\"prompts\"]\n",
    "\n",
    "        for prompt in prompts:\n",
    "            prompt = prompt.replace(\"{0}\", \"sks\")\n",
    "            prompt = prompt.replace(\"{1}\", f\"{prompts_info[subject]['class']}\")\n",
    "            print(f\"**Prompt**: {prompt}\")\n",
    "\n",
    "            image = pipeline(prompt, num_inference_steps=50, num_images_per_prompt=4).images\n",
    "\n",
    "            save_path = os.path.join(output_path, subject, f\"{prompt}\")\n",
    "            os.makedirs(save_path, exist_ok=True)\n",
    "\n",
    "            for img_idx, img in enumerate(image):\n",
    "                img.save(os.path.join(save_path, f\"{img_idx:04d}.jpg\"))\n",
    "        \n",
    "        print(f\"Finished dreambooth in subject: {subject}!\")"
   ]
  },
  {
   "cell_type": "markdown",
   "metadata": {},
   "source": [
    "## Evaluation"
   ]
  },
  {
   "cell_type": "markdown",
   "metadata": {},
   "source": [
    "Calculate img to img similarity and text to img similarity by CLIP Evaluator"
   ]
  },
  {
   "cell_type": "code",
   "execution_count": 3,
   "metadata": {},
   "outputs": [],
   "source": [
    "import os, sys, json\n",
    "\n",
    "os.environ[\"CUDA_VISIBLE_DEVICES\"] = \"5\"\n",
    "\n",
    "utils_path = os.path.abspath(os.path.join('../..'))\n",
    "sys.path.append(utils_path)\n",
    "\n",
    "import numpy as np\n",
    "from utils.clip_eval import CLIPEvaluator, evaluate_i2i, evaluate_t2i\n",
    "import re\n",
    "from utils.dataset_info import get_subjects_prompts_info"
   ]
  },
  {
   "cell_type": "code",
   "execution_count": 4,
   "metadata": {},
   "outputs": [],
   "source": [
    "def extract_id(folder_name):\n",
    "    match = re.search(r'\\d+', folder_name)\n",
    "    if match:\n",
    "        return int(match.group())\n",
    "    return None\n",
    "\n",
    "def convert_to_native(data):\n",
    "    if isinstance(data, np.ndarray):\n",
    "        return data.tolist()\n",
    "    elif isinstance(data, np.generic):\n",
    "        return data.item()\n",
    "    elif isinstance(data, dict):\n",
    "        return {key: convert_to_native(value) for key, value in data.items()}\n",
    "    elif isinstance(data, list):\n",
    "        return [convert_to_native(item) for item in data]\n",
    "    else:\n",
    "        return data"
   ]
  },
  {
   "cell_type": "code",
   "execution_count": null,
   "metadata": {},
   "outputs": [],
   "source": [
    "outputs_path = \"../../outputs/subjects/dreambooth\"\n",
    "eval_res_path = \"../../eval_results/subjects/dreambooth\"\n",
    "dataset_path = \"../../pcs_dataset/subjects\"\n",
    "dataset_info_path = \"../../pcs_dataset/info.json\"\n",
    "\n",
    "prompts_info, prompts = get_subjects_prompts_info(dataset_info_path)\n",
    "\n",
    "subjects_list = os.listdir(outputs_path)\n",
    "\n",
    "evaluation_res = dict()\n",
    "for subject in subjects_list:\n",
    "    print(\"process subject: \", subject)\n",
    "\n",
    "    res_for_each_subject =dict()\n",
    "\n",
    "    for sub_dir in os.listdir(os.path.join(outputs_path, subject)):\n",
    "        print(\"prompt: \", sub_dir)\n",
    "\n",
    "        prompt = prompts[prompts_info[subject][\"prompt_type\"]][extract_id(sub_dir)]\n",
    "        prompt = prompt.replace(\"{0} {1}\", prompts_info[subject][\"class\"])\n",
    "        res_for_each_prompt =dict()\n",
    "\n",
    "        for generate_img_name in os.listdir(os.path.join(outputs_path, subject, sub_dir)):\n",
    "            generate_img_path = os.path.join(outputs_path, subject, sub_dir, generate_img_name)\n",
    "            res_for_each_prompt[generate_img_name] = [evaluate_i2i(generate_img_path, os.path.join(dataset_path, subject)), evaluate_t2i(generate_img_path, prompt)]\n",
    "        \n",
    "        res_for_each_subject[prompt] = res_for_each_prompt\n",
    "\n",
    "        print(res_for_each_prompt)\n",
    "\n",
    "    evaluation_res[subject] = res_for_each_subject\n",
    "\n",
    "os.makedirs(eval_res_path, exist_ok=True)\n",
    "\n",
    "with open(os.path.join(eval_res_path, \"evaluation_results.json\"), \"w\") as json_file:\n",
    "    json.dump(convert_to_native(evaluation_res), json_file, indent=4)"
   ]
  }
 ],
 "metadata": {
  "kernelspec": {
   "display_name": "pcs",
   "language": "python",
   "name": "python3"
  },
  "language_info": {
   "codemirror_mode": {
    "name": "ipython",
    "version": 3
   },
   "file_extension": ".py",
   "mimetype": "text/x-python",
   "name": "python",
   "nbconvert_exporter": "python",
   "pygments_lexer": "ipython3",
   "version": "3.8.19"
  }
 },
 "nbformat": 4,
 "nbformat_minor": 2
}
