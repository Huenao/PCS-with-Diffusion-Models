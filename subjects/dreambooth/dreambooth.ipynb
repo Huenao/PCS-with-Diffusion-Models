{
 "cells": [
  {
   "cell_type": "markdown",
   "metadata": {},
   "source": [
    "## Generate images for evaluation"
   ]
  },
  {
   "cell_type": "code",
   "execution_count": 5,
   "metadata": {},
   "outputs": [
    {
     "name": "stderr",
     "output_type": "stream",
     "text": [
      "Keyword arguments {'dtype': torch.float16} are not expected by StableDiffusionPipeline and will be ignored.\n",
      "Loading pipeline components...: 100%|██████████| 7/7 [00:00<00:00, 14.66it/s]\n"
     ]
    },
    {
     "name": "stdout",
     "output_type": "stream",
     "text": [
      "prompt:  a sks statue in the jungle\n"
     ]
    },
    {
     "name": "stderr",
     "output_type": "stream",
     "text": [
      "100%|██████████| 50/50 [00:49<00:00,  1.02it/s]\n"
     ]
    },
    {
     "name": "stdout",
     "output_type": "stream",
     "text": [
      "prompt:  a sks statue in the snow\n"
     ]
    },
    {
     "name": "stderr",
     "output_type": "stream",
     "text": [
      "100%|██████████| 50/50 [00:48<00:00,  1.02it/s]\n"
     ]
    },
    {
     "name": "stdout",
     "output_type": "stream",
     "text": [
      "prompt:  a sks statue on the beach\n"
     ]
    },
    {
     "name": "stderr",
     "output_type": "stream",
     "text": [
      "100%|██████████| 50/50 [00:48<00:00,  1.02it/s]\n"
     ]
    },
    {
     "name": "stdout",
     "output_type": "stream",
     "text": [
      "prompt:  a sks statue on a cobblestone street\n"
     ]
    },
    {
     "name": "stderr",
     "output_type": "stream",
     "text": [
      "100%|██████████| 50/50 [00:44<00:00,  1.12it/s]\n"
     ]
    },
    {
     "name": "stdout",
     "output_type": "stream",
     "text": [
      "prompt:  a sks statue on top of pink fabric\n"
     ]
    },
    {
     "name": "stderr",
     "output_type": "stream",
     "text": [
      "100%|██████████| 50/50 [00:48<00:00,  1.02it/s]\n"
     ]
    },
    {
     "name": "stdout",
     "output_type": "stream",
     "text": [
      "prompt:  a sks statue on top of a wooden floor\n"
     ]
    },
    {
     "name": "stderr",
     "output_type": "stream",
     "text": [
      "100%|██████████| 50/50 [00:48<00:00,  1.02it/s]\n"
     ]
    },
    {
     "name": "stdout",
     "output_type": "stream",
     "text": [
      "prompt:  a sks statue with a city in the background\n"
     ]
    },
    {
     "name": "stderr",
     "output_type": "stream",
     "text": [
      "100%|██████████| 50/50 [00:49<00:00,  1.02it/s]\n"
     ]
    },
    {
     "name": "stdout",
     "output_type": "stream",
     "text": [
      "prompt:  a sks statue with a mountain in the background\n"
     ]
    },
    {
     "name": "stderr",
     "output_type": "stream",
     "text": [
      "100%|██████████| 50/50 [00:49<00:00,  1.02it/s]\n"
     ]
    },
    {
     "name": "stdout",
     "output_type": "stream",
     "text": [
      "prompt:  a sks statue with a blue house in the background\n"
     ]
    },
    {
     "name": "stderr",
     "output_type": "stream",
     "text": [
      "100%|██████████| 50/50 [00:48<00:00,  1.02it/s]\n"
     ]
    },
    {
     "name": "stdout",
     "output_type": "stream",
     "text": [
      "prompt:  a sks statue on top of a purple rug in a forest\n"
     ]
    },
    {
     "name": "stderr",
     "output_type": "stream",
     "text": [
      "100%|██████████| 50/50 [00:48<00:00,  1.02it/s]\n"
     ]
    },
    {
     "name": "stdout",
     "output_type": "stream",
     "text": [
      "prompt:  a sks statue with a wheat field in the background\n"
     ]
    },
    {
     "name": "stderr",
     "output_type": "stream",
     "text": [
      "100%|██████████| 50/50 [00:44<00:00,  1.13it/s]\n"
     ]
    },
    {
     "name": "stdout",
     "output_type": "stream",
     "text": [
      "prompt:  a sks statue with a tree and autumn leaves in the background\n"
     ]
    },
    {
     "name": "stderr",
     "output_type": "stream",
     "text": [
      "100%|██████████| 50/50 [00:48<00:00,  1.03it/s]\n"
     ]
    },
    {
     "name": "stdout",
     "output_type": "stream",
     "text": [
      "prompt:  a sks statue with the Eiffel Tower in the background\n"
     ]
    },
    {
     "name": "stderr",
     "output_type": "stream",
     "text": [
      "100%|██████████| 50/50 [00:48<00:00,  1.02it/s]\n"
     ]
    },
    {
     "name": "stdout",
     "output_type": "stream",
     "text": [
      "prompt:  a sks statue floating on top of water\n"
     ]
    },
    {
     "name": "stderr",
     "output_type": "stream",
     "text": [
      "100%|██████████| 50/50 [00:48<00:00,  1.02it/s]\n"
     ]
    },
    {
     "name": "stdout",
     "output_type": "stream",
     "text": [
      "prompt:  a sks statue floating in an ocean of milk\n"
     ]
    },
    {
     "name": "stderr",
     "output_type": "stream",
     "text": [
      "100%|██████████| 50/50 [00:48<00:00,  1.02it/s]\n"
     ]
    },
    {
     "name": "stdout",
     "output_type": "stream",
     "text": [
      "prompt:  a sks statue on top of green grass with sunflowers around it\n"
     ]
    },
    {
     "name": "stderr",
     "output_type": "stream",
     "text": [
      "100%|██████████| 50/50 [00:49<00:00,  1.02it/s]\n"
     ]
    },
    {
     "name": "stdout",
     "output_type": "stream",
     "text": [
      "prompt:  a sks statue on top of a mirror\n"
     ]
    },
    {
     "name": "stderr",
     "output_type": "stream",
     "text": [
      "100%|██████████| 50/50 [00:48<00:00,  1.02it/s]\n"
     ]
    },
    {
     "name": "stdout",
     "output_type": "stream",
     "text": [
      "prompt:  a sks statue on top of the sidewalk in a crowded street\n"
     ]
    },
    {
     "name": "stderr",
     "output_type": "stream",
     "text": [
      "100%|██████████| 50/50 [00:44<00:00,  1.11it/s]\n"
     ]
    },
    {
     "name": "stdout",
     "output_type": "stream",
     "text": [
      "prompt:  a sks statue on top of a dirt road\n"
     ]
    },
    {
     "name": "stderr",
     "output_type": "stream",
     "text": [
      "100%|██████████| 50/50 [00:49<00:00,  1.02it/s]\n"
     ]
    },
    {
     "name": "stdout",
     "output_type": "stream",
     "text": [
      "prompt:  a sks statue on top of a white rug\n"
     ]
    },
    {
     "name": "stderr",
     "output_type": "stream",
     "text": [
      "100%|██████████| 50/50 [00:49<00:00,  1.02it/s]\n"
     ]
    },
    {
     "name": "stdout",
     "output_type": "stream",
     "text": [
      "prompt:  a red sks statue\n"
     ]
    },
    {
     "name": "stderr",
     "output_type": "stream",
     "text": [
      "100%|██████████| 50/50 [00:49<00:00,  1.02it/s]\n"
     ]
    },
    {
     "name": "stdout",
     "output_type": "stream",
     "text": [
      "prompt:  a purple sks statue\n"
     ]
    },
    {
     "name": "stderr",
     "output_type": "stream",
     "text": [
      "100%|██████████| 50/50 [00:49<00:00,  1.02it/s]\n"
     ]
    },
    {
     "name": "stdout",
     "output_type": "stream",
     "text": [
      "prompt:  a shiny sks statue\n"
     ]
    },
    {
     "name": "stderr",
     "output_type": "stream",
     "text": [
      "100%|██████████| 50/50 [00:48<00:00,  1.02it/s]\n"
     ]
    },
    {
     "name": "stdout",
     "output_type": "stream",
     "text": [
      "prompt:  a wet sks statue\n"
     ]
    },
    {
     "name": "stderr",
     "output_type": "stream",
     "text": [
      "100%|██████████| 50/50 [00:48<00:00,  1.02it/s]\n"
     ]
    },
    {
     "name": "stdout",
     "output_type": "stream",
     "text": [
      "prompt:  a cube shaped sks statue\n"
     ]
    },
    {
     "name": "stderr",
     "output_type": "stream",
     "text": [
      "100%|██████████| 50/50 [00:44<00:00,  1.12it/s]\n"
     ]
    },
    {
     "name": "stdout",
     "output_type": "stream",
     "text": [
      "Finished dreambooth in subject: mug_skulls!\n"
     ]
    },
    {
     "name": "stderr",
     "output_type": "stream",
     "text": [
      "Keyword arguments {'dtype': torch.float16} are not expected by StableDiffusionPipeline and will be ignored.\n",
      "Loading pipeline components...: 100%|██████████| 7/7 [00:00<00:00, 17.59it/s]\n"
     ]
    },
    {
     "name": "stdout",
     "output_type": "stream",
     "text": [
      "prompt:  a sks teapot in the jungle\n"
     ]
    },
    {
     "name": "stderr",
     "output_type": "stream",
     "text": [
      "100%|██████████| 50/50 [00:48<00:00,  1.03it/s]\n"
     ]
    },
    {
     "name": "stdout",
     "output_type": "stream",
     "text": [
      "prompt:  a sks teapot in the snow\n"
     ]
    },
    {
     "name": "stderr",
     "output_type": "stream",
     "text": [
      "100%|██████████| 50/50 [00:48<00:00,  1.02it/s]\n"
     ]
    },
    {
     "name": "stdout",
     "output_type": "stream",
     "text": [
      "prompt:  a sks teapot on the beach\n"
     ]
    },
    {
     "name": "stderr",
     "output_type": "stream",
     "text": [
      "100%|██████████| 50/50 [00:48<00:00,  1.03it/s]\n"
     ]
    },
    {
     "name": "stdout",
     "output_type": "stream",
     "text": [
      "prompt:  a sks teapot on a cobblestone street\n"
     ]
    },
    {
     "name": "stderr",
     "output_type": "stream",
     "text": [
      "100%|██████████| 50/50 [00:48<00:00,  1.03it/s]\n"
     ]
    },
    {
     "name": "stdout",
     "output_type": "stream",
     "text": [
      "prompt:  a sks teapot on top of pink fabric\n"
     ]
    },
    {
     "name": "stderr",
     "output_type": "stream",
     "text": [
      "100%|██████████| 50/50 [00:48<00:00,  1.02it/s]\n"
     ]
    },
    {
     "name": "stdout",
     "output_type": "stream",
     "text": [
      "prompt:  a sks teapot on top of a wooden floor\n"
     ]
    },
    {
     "name": "stderr",
     "output_type": "stream",
     "text": [
      "100%|██████████| 50/50 [00:48<00:00,  1.03it/s]\n"
     ]
    },
    {
     "name": "stdout",
     "output_type": "stream",
     "text": [
      "prompt:  a sks teapot with a city in the background\n"
     ]
    },
    {
     "name": "stderr",
     "output_type": "stream",
     "text": [
      "100%|██████████| 50/50 [00:44<00:00,  1.12it/s]\n"
     ]
    },
    {
     "name": "stdout",
     "output_type": "stream",
     "text": [
      "prompt:  a sks teapot with a mountain in the background\n"
     ]
    },
    {
     "name": "stderr",
     "output_type": "stream",
     "text": [
      "100%|██████████| 50/50 [00:48<00:00,  1.02it/s]\n"
     ]
    },
    {
     "name": "stdout",
     "output_type": "stream",
     "text": [
      "prompt:  a sks teapot with a blue house in the background\n"
     ]
    },
    {
     "name": "stderr",
     "output_type": "stream",
     "text": [
      "100%|██████████| 50/50 [00:48<00:00,  1.03it/s]\n"
     ]
    },
    {
     "name": "stdout",
     "output_type": "stream",
     "text": [
      "prompt:  a sks teapot on top of a purple rug in a forest\n"
     ]
    },
    {
     "name": "stderr",
     "output_type": "stream",
     "text": [
      "100%|██████████| 50/50 [00:48<00:00,  1.03it/s]\n"
     ]
    },
    {
     "name": "stdout",
     "output_type": "stream",
     "text": [
      "prompt:  a sks teapot with a wheat field in the background\n"
     ]
    },
    {
     "name": "stderr",
     "output_type": "stream",
     "text": [
      "100%|██████████| 50/50 [00:48<00:00,  1.02it/s]\n"
     ]
    },
    {
     "name": "stdout",
     "output_type": "stream",
     "text": [
      "prompt:  a sks teapot with a tree and autumn leaves in the background\n"
     ]
    },
    {
     "name": "stderr",
     "output_type": "stream",
     "text": [
      "100%|██████████| 50/50 [00:48<00:00,  1.03it/s]\n"
     ]
    },
    {
     "name": "stdout",
     "output_type": "stream",
     "text": [
      "prompt:  a sks teapot with the Eiffel Tower in the background\n"
     ]
    },
    {
     "name": "stderr",
     "output_type": "stream",
     "text": [
      "100%|██████████| 50/50 [00:48<00:00,  1.02it/s]\n"
     ]
    },
    {
     "name": "stdout",
     "output_type": "stream",
     "text": [
      "prompt:  a sks teapot floating on top of water\n"
     ]
    },
    {
     "name": "stderr",
     "output_type": "stream",
     "text": [
      "100%|██████████| 50/50 [00:45<00:00,  1.10it/s]\n"
     ]
    },
    {
     "name": "stdout",
     "output_type": "stream",
     "text": [
      "prompt:  a sks teapot floating in an ocean of milk\n"
     ]
    },
    {
     "name": "stderr",
     "output_type": "stream",
     "text": [
      "100%|██████████| 50/50 [00:48<00:00,  1.03it/s]\n"
     ]
    },
    {
     "name": "stdout",
     "output_type": "stream",
     "text": [
      "prompt:  a sks teapot on top of green grass with sunflowers around it\n"
     ]
    },
    {
     "name": "stderr",
     "output_type": "stream",
     "text": [
      "100%|██████████| 50/50 [00:48<00:00,  1.03it/s]\n"
     ]
    },
    {
     "name": "stdout",
     "output_type": "stream",
     "text": [
      "prompt:  a sks teapot on top of a mirror\n"
     ]
    },
    {
     "name": "stderr",
     "output_type": "stream",
     "text": [
      "100%|██████████| 50/50 [00:48<00:00,  1.02it/s]\n"
     ]
    },
    {
     "name": "stdout",
     "output_type": "stream",
     "text": [
      "prompt:  a sks teapot on top of the sidewalk in a crowded street\n"
     ]
    },
    {
     "name": "stderr",
     "output_type": "stream",
     "text": [
      "100%|██████████| 50/50 [00:48<00:00,  1.02it/s]\n"
     ]
    },
    {
     "name": "stdout",
     "output_type": "stream",
     "text": [
      "prompt:  a sks teapot on top of a dirt road\n"
     ]
    },
    {
     "name": "stderr",
     "output_type": "stream",
     "text": [
      "100%|██████████| 50/50 [00:48<00:00,  1.02it/s]\n"
     ]
    },
    {
     "name": "stdout",
     "output_type": "stream",
     "text": [
      "prompt:  a sks teapot on top of a white rug\n"
     ]
    },
    {
     "name": "stderr",
     "output_type": "stream",
     "text": [
      "100%|██████████| 50/50 [00:48<00:00,  1.02it/s]\n"
     ]
    },
    {
     "name": "stdout",
     "output_type": "stream",
     "text": [
      "prompt:  a red sks teapot\n"
     ]
    },
    {
     "name": "stderr",
     "output_type": "stream",
     "text": [
      "100%|██████████| 50/50 [00:47<00:00,  1.05it/s]\n"
     ]
    },
    {
     "name": "stdout",
     "output_type": "stream",
     "text": [
      "prompt:  a purple sks teapot\n"
     ]
    },
    {
     "name": "stderr",
     "output_type": "stream",
     "text": [
      "100%|██████████| 50/50 [00:46<00:00,  1.07it/s]\n"
     ]
    },
    {
     "name": "stdout",
     "output_type": "stream",
     "text": [
      "prompt:  a shiny sks teapot\n"
     ]
    },
    {
     "name": "stderr",
     "output_type": "stream",
     "text": [
      "100%|██████████| 50/50 [00:48<00:00,  1.02it/s]\n"
     ]
    },
    {
     "name": "stdout",
     "output_type": "stream",
     "text": [
      "prompt:  a wet sks teapot\n"
     ]
    },
    {
     "name": "stderr",
     "output_type": "stream",
     "text": [
      "100%|██████████| 50/50 [00:48<00:00,  1.03it/s]\n"
     ]
    },
    {
     "name": "stdout",
     "output_type": "stream",
     "text": [
      "prompt:  a cube shaped sks teapot\n"
     ]
    },
    {
     "name": "stderr",
     "output_type": "stream",
     "text": [
      "100%|██████████| 50/50 [00:48<00:00,  1.03it/s]\n"
     ]
    },
    {
     "name": "stdout",
     "output_type": "stream",
     "text": [
      "Finished dreambooth in subject: red_teapot!\n"
     ]
    },
    {
     "name": "stderr",
     "output_type": "stream",
     "text": [
      "Keyword arguments {'dtype': torch.float16} are not expected by StableDiffusionPipeline and will be ignored.\n",
      "Loading pipeline components...: 100%|██████████| 7/7 [00:00<00:00, 16.99it/s]\n"
     ]
    },
    {
     "name": "stdout",
     "output_type": "stream",
     "text": [
      "prompt:  a sks toy in the jungle\n"
     ]
    },
    {
     "name": "stderr",
     "output_type": "stream",
     "text": [
      "100%|██████████| 50/50 [00:48<00:00,  1.03it/s]\n"
     ]
    },
    {
     "name": "stdout",
     "output_type": "stream",
     "text": [
      "prompt:  a sks toy in the snow\n"
     ]
    },
    {
     "name": "stderr",
     "output_type": "stream",
     "text": [
      "100%|██████████| 50/50 [00:48<00:00,  1.02it/s]\n"
     ]
    },
    {
     "name": "stdout",
     "output_type": "stream",
     "text": [
      "prompt:  a sks toy on the beach\n"
     ]
    },
    {
     "name": "stderr",
     "output_type": "stream",
     "text": [
      "100%|██████████| 50/50 [00:46<00:00,  1.09it/s]\n"
     ]
    },
    {
     "name": "stdout",
     "output_type": "stream",
     "text": [
      "prompt:  a sks toy on a cobblestone street\n"
     ]
    },
    {
     "name": "stderr",
     "output_type": "stream",
     "text": [
      "100%|██████████| 50/50 [00:48<00:00,  1.04it/s]\n"
     ]
    },
    {
     "name": "stdout",
     "output_type": "stream",
     "text": [
      "prompt:  a sks toy on top of pink fabric\n"
     ]
    },
    {
     "name": "stderr",
     "output_type": "stream",
     "text": [
      "100%|██████████| 50/50 [00:48<00:00,  1.03it/s]\n"
     ]
    },
    {
     "name": "stdout",
     "output_type": "stream",
     "text": [
      "prompt:  a sks toy on top of a wooden floor\n"
     ]
    },
    {
     "name": "stderr",
     "output_type": "stream",
     "text": [
      "100%|██████████| 50/50 [00:48<00:00,  1.02it/s]\n"
     ]
    },
    {
     "name": "stdout",
     "output_type": "stream",
     "text": [
      "prompt:  a sks toy with a city in the background\n"
     ]
    },
    {
     "name": "stderr",
     "output_type": "stream",
     "text": [
      "100%|██████████| 50/50 [00:48<00:00,  1.02it/s]\n"
     ]
    },
    {
     "name": "stdout",
     "output_type": "stream",
     "text": [
      "prompt:  a sks toy with a mountain in the background\n"
     ]
    },
    {
     "name": "stderr",
     "output_type": "stream",
     "text": [
      "100%|██████████| 50/50 [00:48<00:00,  1.02it/s]\n"
     ]
    },
    {
     "name": "stdout",
     "output_type": "stream",
     "text": [
      "prompt:  a sks toy with a blue house in the background\n"
     ]
    },
    {
     "name": "stderr",
     "output_type": "stream",
     "text": [
      "100%|██████████| 50/50 [00:48<00:00,  1.02it/s]\n"
     ]
    },
    {
     "name": "stdout",
     "output_type": "stream",
     "text": [
      "prompt:  a sks toy on top of a purple rug in a forest\n"
     ]
    },
    {
     "name": "stderr",
     "output_type": "stream",
     "text": [
      "100%|██████████| 50/50 [00:48<00:00,  1.03it/s]\n"
     ]
    },
    {
     "name": "stdout",
     "output_type": "stream",
     "text": [
      "prompt:  a sks toy with a wheat field in the background\n"
     ]
    },
    {
     "name": "stderr",
     "output_type": "stream",
     "text": [
      "100%|██████████| 50/50 [00:45<00:00,  1.10it/s]\n"
     ]
    },
    {
     "name": "stdout",
     "output_type": "stream",
     "text": [
      "prompt:  a sks toy with a tree and autumn leaves in the background\n"
     ]
    },
    {
     "name": "stderr",
     "output_type": "stream",
     "text": [
      "100%|██████████| 50/50 [00:48<00:00,  1.02it/s]\n"
     ]
    },
    {
     "name": "stdout",
     "output_type": "stream",
     "text": [
      "prompt:  a sks toy with the Eiffel Tower in the background\n"
     ]
    },
    {
     "name": "stderr",
     "output_type": "stream",
     "text": [
      "100%|██████████| 50/50 [00:48<00:00,  1.02it/s]\n"
     ]
    },
    {
     "name": "stdout",
     "output_type": "stream",
     "text": [
      "prompt:  a sks toy floating on top of water\n"
     ]
    },
    {
     "name": "stderr",
     "output_type": "stream",
     "text": [
      "100%|██████████| 50/50 [00:48<00:00,  1.02it/s]\n"
     ]
    },
    {
     "name": "stdout",
     "output_type": "stream",
     "text": [
      "prompt:  a sks toy floating in an ocean of milk\n"
     ]
    },
    {
     "name": "stderr",
     "output_type": "stream",
     "text": [
      "100%|██████████| 50/50 [00:48<00:00,  1.02it/s]\n"
     ]
    },
    {
     "name": "stdout",
     "output_type": "stream",
     "text": [
      "prompt:  a sks toy on top of green grass with sunflowers around it\n"
     ]
    },
    {
     "name": "stderr",
     "output_type": "stream",
     "text": [
      "100%|██████████| 50/50 [00:48<00:00,  1.03it/s]\n"
     ]
    },
    {
     "name": "stdout",
     "output_type": "stream",
     "text": [
      "prompt:  a sks toy on top of a mirror\n"
     ]
    },
    {
     "name": "stderr",
     "output_type": "stream",
     "text": [
      "100%|██████████| 50/50 [00:48<00:00,  1.02it/s]\n"
     ]
    },
    {
     "name": "stdout",
     "output_type": "stream",
     "text": [
      "prompt:  a sks toy on top of the sidewalk in a crowded street\n"
     ]
    },
    {
     "name": "stderr",
     "output_type": "stream",
     "text": [
      "100%|██████████| 50/50 [00:44<00:00,  1.12it/s]\n"
     ]
    },
    {
     "name": "stdout",
     "output_type": "stream",
     "text": [
      "prompt:  a sks toy on top of a dirt road\n"
     ]
    },
    {
     "name": "stderr",
     "output_type": "stream",
     "text": [
      "100%|██████████| 50/50 [00:48<00:00,  1.03it/s]\n"
     ]
    },
    {
     "name": "stdout",
     "output_type": "stream",
     "text": [
      "prompt:  a sks toy on top of a white rug\n"
     ]
    },
    {
     "name": "stderr",
     "output_type": "stream",
     "text": [
      "100%|██████████| 50/50 [00:48<00:00,  1.02it/s]\n"
     ]
    },
    {
     "name": "stdout",
     "output_type": "stream",
     "text": [
      "prompt:  a red sks toy\n"
     ]
    },
    {
     "name": "stderr",
     "output_type": "stream",
     "text": [
      "100%|██████████| 50/50 [00:48<00:00,  1.02it/s]\n"
     ]
    },
    {
     "name": "stdout",
     "output_type": "stream",
     "text": [
      "prompt:  a purple sks toy\n"
     ]
    },
    {
     "name": "stderr",
     "output_type": "stream",
     "text": [
      "100%|██████████| 50/50 [00:48<00:00,  1.02it/s]\n"
     ]
    },
    {
     "name": "stdout",
     "output_type": "stream",
     "text": [
      "prompt:  a shiny sks toy\n"
     ]
    },
    {
     "name": "stderr",
     "output_type": "stream",
     "text": [
      "100%|██████████| 50/50 [00:48<00:00,  1.02it/s]\n"
     ]
    },
    {
     "name": "stdout",
     "output_type": "stream",
     "text": [
      "prompt:  a wet sks toy\n"
     ]
    },
    {
     "name": "stderr",
     "output_type": "stream",
     "text": [
      "100%|██████████| 50/50 [00:48<00:00,  1.03it/s]\n"
     ]
    },
    {
     "name": "stdout",
     "output_type": "stream",
     "text": [
      "prompt:  a cube shaped sks toy\n"
     ]
    },
    {
     "name": "stderr",
     "output_type": "stream",
     "text": [
      "100%|██████████| 50/50 [00:44<00:00,  1.11it/s]\n"
     ]
    },
    {
     "name": "stdout",
     "output_type": "stream",
     "text": [
      "Finished dreambooth in subject: robot_toy!\n"
     ]
    },
    {
     "name": "stderr",
     "output_type": "stream",
     "text": [
      "Keyword arguments {'dtype': torch.float16} are not expected by StableDiffusionPipeline and will be ignored.\n",
      "Loading pipeline components...: 100%|██████████| 7/7 [00:00<00:00, 17.16it/s]\n"
     ]
    },
    {
     "name": "stdout",
     "output_type": "stream",
     "text": [
      "prompt:  a sks statue in the jungle\n"
     ]
    },
    {
     "name": "stderr",
     "output_type": "stream",
     "text": [
      "100%|██████████| 50/50 [00:48<00:00,  1.03it/s]\n"
     ]
    },
    {
     "name": "stdout",
     "output_type": "stream",
     "text": [
      "prompt:  a sks statue in the snow\n"
     ]
    },
    {
     "name": "stderr",
     "output_type": "stream",
     "text": [
      "100%|██████████| 50/50 [00:48<00:00,  1.03it/s]\n"
     ]
    },
    {
     "name": "stdout",
     "output_type": "stream",
     "text": [
      "prompt:  a sks statue on the beach\n"
     ]
    },
    {
     "name": "stderr",
     "output_type": "stream",
     "text": [
      "100%|██████████| 50/50 [00:48<00:00,  1.02it/s]\n"
     ]
    },
    {
     "name": "stdout",
     "output_type": "stream",
     "text": [
      "prompt:  a sks statue on a cobblestone street\n"
     ]
    },
    {
     "name": "stderr",
     "output_type": "stream",
     "text": [
      "100%|██████████| 50/50 [00:48<00:00,  1.02it/s]\n"
     ]
    },
    {
     "name": "stdout",
     "output_type": "stream",
     "text": [
      "prompt:  a sks statue on top of pink fabric\n"
     ]
    },
    {
     "name": "stderr",
     "output_type": "stream",
     "text": [
      "100%|██████████| 50/50 [00:48<00:00,  1.02it/s]\n",
      "Potential NSFW content was detected in one or more images. A black image will be returned instead. Try again with a different prompt and/or seed.\n"
     ]
    },
    {
     "name": "stdout",
     "output_type": "stream",
     "text": [
      "prompt:  a sks statue on top of a wooden floor\n"
     ]
    },
    {
     "name": "stderr",
     "output_type": "stream",
     "text": [
      "100%|██████████| 50/50 [00:48<00:00,  1.02it/s]\n",
      "Potential NSFW content was detected in one or more images. A black image will be returned instead. Try again with a different prompt and/or seed.\n"
     ]
    },
    {
     "name": "stdout",
     "output_type": "stream",
     "text": [
      "prompt:  a sks statue with a city in the background\n"
     ]
    },
    {
     "name": "stderr",
     "output_type": "stream",
     "text": [
      "100%|██████████| 50/50 [00:44<00:00,  1.12it/s]\n"
     ]
    },
    {
     "name": "stdout",
     "output_type": "stream",
     "text": [
      "prompt:  a sks statue with a mountain in the background\n"
     ]
    },
    {
     "name": "stderr",
     "output_type": "stream",
     "text": [
      "100%|██████████| 50/50 [00:48<00:00,  1.02it/s]\n"
     ]
    },
    {
     "name": "stdout",
     "output_type": "stream",
     "text": [
      "prompt:  a sks statue with a blue house in the background\n"
     ]
    },
    {
     "name": "stderr",
     "output_type": "stream",
     "text": [
      "100%|██████████| 50/50 [00:48<00:00,  1.02it/s]\n"
     ]
    },
    {
     "name": "stdout",
     "output_type": "stream",
     "text": [
      "prompt:  a sks statue on top of a purple rug in a forest\n"
     ]
    },
    {
     "name": "stderr",
     "output_type": "stream",
     "text": [
      "100%|██████████| 50/50 [00:48<00:00,  1.03it/s]\n"
     ]
    },
    {
     "name": "stdout",
     "output_type": "stream",
     "text": [
      "prompt:  a sks statue with a wheat field in the background\n"
     ]
    },
    {
     "name": "stderr",
     "output_type": "stream",
     "text": [
      "100%|██████████| 50/50 [00:48<00:00,  1.02it/s]\n"
     ]
    },
    {
     "name": "stdout",
     "output_type": "stream",
     "text": [
      "prompt:  a sks statue with a tree and autumn leaves in the background\n"
     ]
    },
    {
     "name": "stderr",
     "output_type": "stream",
     "text": [
      "100%|██████████| 50/50 [00:48<00:00,  1.02it/s]\n"
     ]
    },
    {
     "name": "stdout",
     "output_type": "stream",
     "text": [
      "prompt:  a sks statue with the Eiffel Tower in the background\n"
     ]
    },
    {
     "name": "stderr",
     "output_type": "stream",
     "text": [
      "100%|██████████| 50/50 [00:48<00:00,  1.02it/s]\n"
     ]
    },
    {
     "name": "stdout",
     "output_type": "stream",
     "text": [
      "prompt:  a sks statue floating on top of water\n"
     ]
    },
    {
     "name": "stderr",
     "output_type": "stream",
     "text": [
      "100%|██████████| 50/50 [00:44<00:00,  1.12it/s]\n"
     ]
    },
    {
     "name": "stdout",
     "output_type": "stream",
     "text": [
      "prompt:  a sks statue floating in an ocean of milk\n"
     ]
    },
    {
     "name": "stderr",
     "output_type": "stream",
     "text": [
      "100%|██████████| 50/50 [00:48<00:00,  1.02it/s]\n"
     ]
    },
    {
     "name": "stdout",
     "output_type": "stream",
     "text": [
      "prompt:  a sks statue on top of green grass with sunflowers around it\n"
     ]
    },
    {
     "name": "stderr",
     "output_type": "stream",
     "text": [
      "100%|██████████| 50/50 [00:48<00:00,  1.02it/s]\n"
     ]
    },
    {
     "name": "stdout",
     "output_type": "stream",
     "text": [
      "prompt:  a sks statue on top of a mirror\n"
     ]
    },
    {
     "name": "stderr",
     "output_type": "stream",
     "text": [
      "100%|██████████| 50/50 [00:48<00:00,  1.03it/s]\n"
     ]
    },
    {
     "name": "stdout",
     "output_type": "stream",
     "text": [
      "prompt:  a sks statue on top of the sidewalk in a crowded street\n"
     ]
    },
    {
     "name": "stderr",
     "output_type": "stream",
     "text": [
      "100%|██████████| 50/50 [00:48<00:00,  1.02it/s]\n"
     ]
    },
    {
     "name": "stdout",
     "output_type": "stream",
     "text": [
      "prompt:  a sks statue on top of a dirt road\n"
     ]
    },
    {
     "name": "stderr",
     "output_type": "stream",
     "text": [
      "100%|██████████| 50/50 [00:48<00:00,  1.03it/s]\n"
     ]
    },
    {
     "name": "stdout",
     "output_type": "stream",
     "text": [
      "prompt:  a sks statue on top of a white rug\n"
     ]
    },
    {
     "name": "stderr",
     "output_type": "stream",
     "text": [
      "100%|██████████| 50/50 [00:48<00:00,  1.02it/s]\n",
      "Potential NSFW content was detected in one or more images. A black image will be returned instead. Try again with a different prompt and/or seed.\n"
     ]
    },
    {
     "name": "stdout",
     "output_type": "stream",
     "text": [
      "prompt:  a red sks statue\n"
     ]
    },
    {
     "name": "stderr",
     "output_type": "stream",
     "text": [
      "100%|██████████| 50/50 [00:31<00:00,  1.61it/s]\n"
     ]
    },
    {
     "name": "stdout",
     "output_type": "stream",
     "text": [
      "prompt:  a purple sks statue\n"
     ]
    },
    {
     "name": "stderr",
     "output_type": "stream",
     "text": [
      "100%|██████████| 50/50 [00:22<00:00,  2.20it/s]\n"
     ]
    },
    {
     "name": "stdout",
     "output_type": "stream",
     "text": [
      "prompt:  a shiny sks statue\n"
     ]
    },
    {
     "name": "stderr",
     "output_type": "stream",
     "text": [
      "100%|██████████| 50/50 [00:22<00:00,  2.20it/s]\n"
     ]
    },
    {
     "name": "stdout",
     "output_type": "stream",
     "text": [
      "prompt:  a wet sks statue\n"
     ]
    },
    {
     "name": "stderr",
     "output_type": "stream",
     "text": [
      "100%|██████████| 50/50 [00:22<00:00,  2.20it/s]\n"
     ]
    },
    {
     "name": "stdout",
     "output_type": "stream",
     "text": [
      "prompt:  a cube shaped sks statue\n"
     ]
    },
    {
     "name": "stderr",
     "output_type": "stream",
     "text": [
      "100%|██████████| 50/50 [00:22<00:00,  2.20it/s]\n"
     ]
    },
    {
     "name": "stdout",
     "output_type": "stream",
     "text": [
      "Finished dreambooth in subject: thin_bird!\n"
     ]
    },
    {
     "name": "stderr",
     "output_type": "stream",
     "text": [
      "Keyword arguments {'dtype': torch.float16} are not expected by StableDiffusionPipeline and will be ignored.\n",
      "Loading pipeline components...: 100%|██████████| 7/7 [00:00<00:00, 17.34it/s]\n"
     ]
    },
    {
     "name": "stdout",
     "output_type": "stream",
     "text": [
      "prompt:  a sks toy in the jungle\n"
     ]
    },
    {
     "name": "stderr",
     "output_type": "stream",
     "text": [
      "100%|██████████| 50/50 [00:22<00:00,  2.20it/s]\n"
     ]
    },
    {
     "name": "stdout",
     "output_type": "stream",
     "text": [
      "prompt:  a sks toy in the snow\n"
     ]
    },
    {
     "name": "stderr",
     "output_type": "stream",
     "text": [
      "100%|██████████| 50/50 [00:22<00:00,  2.20it/s]\n"
     ]
    },
    {
     "name": "stdout",
     "output_type": "stream",
     "text": [
      "prompt:  a sks toy on the beach\n"
     ]
    },
    {
     "name": "stderr",
     "output_type": "stream",
     "text": [
      "100%|██████████| 50/50 [00:22<00:00,  2.20it/s]\n"
     ]
    },
    {
     "name": "stdout",
     "output_type": "stream",
     "text": [
      "prompt:  a sks toy on a cobblestone street\n"
     ]
    },
    {
     "name": "stderr",
     "output_type": "stream",
     "text": [
      "100%|██████████| 50/50 [00:22<00:00,  2.20it/s]\n"
     ]
    },
    {
     "name": "stdout",
     "output_type": "stream",
     "text": [
      "prompt:  a sks toy on top of pink fabric\n"
     ]
    },
    {
     "name": "stderr",
     "output_type": "stream",
     "text": [
      "100%|██████████| 50/50 [00:22<00:00,  2.20it/s]\n"
     ]
    },
    {
     "name": "stdout",
     "output_type": "stream",
     "text": [
      "prompt:  a sks toy on top of a wooden floor\n"
     ]
    },
    {
     "name": "stderr",
     "output_type": "stream",
     "text": [
      "100%|██████████| 50/50 [00:22<00:00,  2.20it/s]\n"
     ]
    },
    {
     "name": "stdout",
     "output_type": "stream",
     "text": [
      "prompt:  a sks toy with a city in the background\n"
     ]
    },
    {
     "name": "stderr",
     "output_type": "stream",
     "text": [
      "100%|██████████| 50/50 [00:22<00:00,  2.20it/s]\n"
     ]
    },
    {
     "name": "stdout",
     "output_type": "stream",
     "text": [
      "prompt:  a sks toy with a mountain in the background\n"
     ]
    },
    {
     "name": "stderr",
     "output_type": "stream",
     "text": [
      "100%|██████████| 50/50 [00:22<00:00,  2.20it/s]\n"
     ]
    },
    {
     "name": "stdout",
     "output_type": "stream",
     "text": [
      "prompt:  a sks toy with a blue house in the background\n"
     ]
    },
    {
     "name": "stderr",
     "output_type": "stream",
     "text": [
      "100%|██████████| 50/50 [00:22<00:00,  2.20it/s]\n"
     ]
    },
    {
     "name": "stdout",
     "output_type": "stream",
     "text": [
      "prompt:  a sks toy on top of a purple rug in a forest\n"
     ]
    },
    {
     "name": "stderr",
     "output_type": "stream",
     "text": [
      "100%|██████████| 50/50 [00:22<00:00,  2.20it/s]\n"
     ]
    },
    {
     "name": "stdout",
     "output_type": "stream",
     "text": [
      "prompt:  a sks toy with a wheat field in the background\n"
     ]
    },
    {
     "name": "stderr",
     "output_type": "stream",
     "text": [
      "100%|██████████| 50/50 [00:22<00:00,  2.20it/s]\n"
     ]
    },
    {
     "name": "stdout",
     "output_type": "stream",
     "text": [
      "prompt:  a sks toy with a tree and autumn leaves in the background\n"
     ]
    },
    {
     "name": "stderr",
     "output_type": "stream",
     "text": [
      "100%|██████████| 50/50 [00:22<00:00,  2.20it/s]\n"
     ]
    },
    {
     "name": "stdout",
     "output_type": "stream",
     "text": [
      "prompt:  a sks toy with the Eiffel Tower in the background\n"
     ]
    },
    {
     "name": "stderr",
     "output_type": "stream",
     "text": [
      "100%|██████████| 50/50 [00:22<00:00,  2.20it/s]\n"
     ]
    },
    {
     "name": "stdout",
     "output_type": "stream",
     "text": [
      "prompt:  a sks toy floating on top of water\n"
     ]
    },
    {
     "name": "stderr",
     "output_type": "stream",
     "text": [
      "100%|██████████| 50/50 [00:22<00:00,  2.20it/s]\n"
     ]
    },
    {
     "name": "stdout",
     "output_type": "stream",
     "text": [
      "prompt:  a sks toy floating in an ocean of milk\n"
     ]
    },
    {
     "name": "stderr",
     "output_type": "stream",
     "text": [
      "100%|██████████| 50/50 [00:22<00:00,  2.20it/s]\n"
     ]
    },
    {
     "name": "stdout",
     "output_type": "stream",
     "text": [
      "prompt:  a sks toy on top of green grass with sunflowers around it\n"
     ]
    },
    {
     "name": "stderr",
     "output_type": "stream",
     "text": [
      "100%|██████████| 50/50 [00:22<00:00,  2.20it/s]\n"
     ]
    },
    {
     "name": "stdout",
     "output_type": "stream",
     "text": [
      "prompt:  a sks toy on top of a mirror\n"
     ]
    },
    {
     "name": "stderr",
     "output_type": "stream",
     "text": [
      "100%|██████████| 50/50 [00:22<00:00,  2.20it/s]\n"
     ]
    },
    {
     "name": "stdout",
     "output_type": "stream",
     "text": [
      "prompt:  a sks toy on top of the sidewalk in a crowded street\n"
     ]
    },
    {
     "name": "stderr",
     "output_type": "stream",
     "text": [
      "100%|██████████| 50/50 [00:22<00:00,  2.20it/s]\n"
     ]
    },
    {
     "name": "stdout",
     "output_type": "stream",
     "text": [
      "prompt:  a sks toy on top of a dirt road\n"
     ]
    },
    {
     "name": "stderr",
     "output_type": "stream",
     "text": [
      "100%|██████████| 50/50 [00:22<00:00,  2.20it/s]\n"
     ]
    },
    {
     "name": "stdout",
     "output_type": "stream",
     "text": [
      "prompt:  a sks toy on top of a white rug\n"
     ]
    },
    {
     "name": "stderr",
     "output_type": "stream",
     "text": [
      "100%|██████████| 50/50 [00:22<00:00,  2.20it/s]\n"
     ]
    },
    {
     "name": "stdout",
     "output_type": "stream",
     "text": [
      "prompt:  a red sks toy\n"
     ]
    },
    {
     "name": "stderr",
     "output_type": "stream",
     "text": [
      "100%|██████████| 50/50 [00:22<00:00,  2.20it/s]\n"
     ]
    },
    {
     "name": "stdout",
     "output_type": "stream",
     "text": [
      "prompt:  a purple sks toy\n"
     ]
    },
    {
     "name": "stderr",
     "output_type": "stream",
     "text": [
      "100%|██████████| 50/50 [00:22<00:00,  2.20it/s]\n"
     ]
    },
    {
     "name": "stdout",
     "output_type": "stream",
     "text": [
      "prompt:  a shiny sks toy\n"
     ]
    },
    {
     "name": "stderr",
     "output_type": "stream",
     "text": [
      "100%|██████████| 50/50 [00:22<00:00,  2.20it/s]\n"
     ]
    },
    {
     "name": "stdout",
     "output_type": "stream",
     "text": [
      "prompt:  a wet sks toy\n"
     ]
    },
    {
     "name": "stderr",
     "output_type": "stream",
     "text": [
      "100%|██████████| 50/50 [00:22<00:00,  2.20it/s]\n"
     ]
    },
    {
     "name": "stdout",
     "output_type": "stream",
     "text": [
      "prompt:  a cube shaped sks toy\n"
     ]
    },
    {
     "name": "stderr",
     "output_type": "stream",
     "text": [
      "100%|██████████| 50/50 [00:22<00:00,  2.20it/s]\n"
     ]
    },
    {
     "name": "stdout",
     "output_type": "stream",
     "text": [
      "Finished dreambooth in subject: rc_car!\n"
     ]
    },
    {
     "name": "stderr",
     "output_type": "stream",
     "text": [
      "Keyword arguments {'dtype': torch.float16} are not expected by StableDiffusionPipeline and will be ignored.\n",
      "Loading pipeline components...: 100%|██████████| 7/7 [00:00<00:00, 16.94it/s]\n"
     ]
    },
    {
     "name": "stdout",
     "output_type": "stream",
     "text": [
      "prompt:  a sks statue in the jungle\n"
     ]
    },
    {
     "name": "stderr",
     "output_type": "stream",
     "text": [
      "100%|██████████| 50/50 [00:22<00:00,  2.20it/s]\n"
     ]
    },
    {
     "name": "stdout",
     "output_type": "stream",
     "text": [
      "prompt:  a sks statue in the snow\n"
     ]
    },
    {
     "name": "stderr",
     "output_type": "stream",
     "text": [
      "100%|██████████| 50/50 [00:22<00:00,  2.20it/s]\n"
     ]
    },
    {
     "name": "stdout",
     "output_type": "stream",
     "text": [
      "prompt:  a sks statue on the beach\n"
     ]
    },
    {
     "name": "stderr",
     "output_type": "stream",
     "text": [
      "100%|██████████| 50/50 [00:22<00:00,  2.20it/s]\n"
     ]
    },
    {
     "name": "stdout",
     "output_type": "stream",
     "text": [
      "prompt:  a sks statue on a cobblestone street\n"
     ]
    },
    {
     "name": "stderr",
     "output_type": "stream",
     "text": [
      "100%|██████████| 50/50 [00:22<00:00,  2.20it/s]\n"
     ]
    },
    {
     "name": "stdout",
     "output_type": "stream",
     "text": [
      "prompt:  a sks statue on top of pink fabric\n"
     ]
    },
    {
     "name": "stderr",
     "output_type": "stream",
     "text": [
      "100%|██████████| 50/50 [00:22<00:00,  2.20it/s]\n"
     ]
    },
    {
     "name": "stdout",
     "output_type": "stream",
     "text": [
      "prompt:  a sks statue on top of a wooden floor\n"
     ]
    },
    {
     "name": "stderr",
     "output_type": "stream",
     "text": [
      "100%|██████████| 50/50 [00:22<00:00,  2.20it/s]\n"
     ]
    },
    {
     "name": "stdout",
     "output_type": "stream",
     "text": [
      "prompt:  a sks statue with a city in the background\n"
     ]
    },
    {
     "name": "stderr",
     "output_type": "stream",
     "text": [
      "100%|██████████| 50/50 [00:22<00:00,  2.20it/s]\n"
     ]
    },
    {
     "name": "stdout",
     "output_type": "stream",
     "text": [
      "prompt:  a sks statue with a mountain in the background\n"
     ]
    },
    {
     "name": "stderr",
     "output_type": "stream",
     "text": [
      "100%|██████████| 50/50 [00:22<00:00,  2.20it/s]\n"
     ]
    },
    {
     "name": "stdout",
     "output_type": "stream",
     "text": [
      "prompt:  a sks statue with a blue house in the background\n"
     ]
    },
    {
     "name": "stderr",
     "output_type": "stream",
     "text": [
      "100%|██████████| 50/50 [00:22<00:00,  2.20it/s]\n"
     ]
    },
    {
     "name": "stdout",
     "output_type": "stream",
     "text": [
      "prompt:  a sks statue on top of a purple rug in a forest\n"
     ]
    },
    {
     "name": "stderr",
     "output_type": "stream",
     "text": [
      "100%|██████████| 50/50 [00:22<00:00,  2.20it/s]\n"
     ]
    },
    {
     "name": "stdout",
     "output_type": "stream",
     "text": [
      "prompt:  a sks statue with a wheat field in the background\n"
     ]
    },
    {
     "name": "stderr",
     "output_type": "stream",
     "text": [
      "100%|██████████| 50/50 [00:22<00:00,  2.20it/s]\n"
     ]
    },
    {
     "name": "stdout",
     "output_type": "stream",
     "text": [
      "prompt:  a sks statue with a tree and autumn leaves in the background\n"
     ]
    },
    {
     "name": "stderr",
     "output_type": "stream",
     "text": [
      "100%|██████████| 50/50 [00:22<00:00,  2.20it/s]\n"
     ]
    },
    {
     "name": "stdout",
     "output_type": "stream",
     "text": [
      "prompt:  a sks statue with the Eiffel Tower in the background\n"
     ]
    },
    {
     "name": "stderr",
     "output_type": "stream",
     "text": [
      "100%|██████████| 50/50 [00:22<00:00,  2.20it/s]\n"
     ]
    },
    {
     "name": "stdout",
     "output_type": "stream",
     "text": [
      "prompt:  a sks statue floating on top of water\n"
     ]
    },
    {
     "name": "stderr",
     "output_type": "stream",
     "text": [
      "100%|██████████| 50/50 [00:22<00:00,  2.20it/s]\n"
     ]
    },
    {
     "name": "stdout",
     "output_type": "stream",
     "text": [
      "prompt:  a sks statue floating in an ocean of milk\n"
     ]
    },
    {
     "name": "stderr",
     "output_type": "stream",
     "text": [
      "100%|██████████| 50/50 [00:22<00:00,  2.20it/s]\n"
     ]
    },
    {
     "name": "stdout",
     "output_type": "stream",
     "text": [
      "prompt:  a sks statue on top of green grass with sunflowers around it\n"
     ]
    },
    {
     "name": "stderr",
     "output_type": "stream",
     "text": [
      "100%|██████████| 50/50 [00:22<00:00,  2.20it/s]\n"
     ]
    },
    {
     "name": "stdout",
     "output_type": "stream",
     "text": [
      "prompt:  a sks statue on top of a mirror\n"
     ]
    },
    {
     "name": "stderr",
     "output_type": "stream",
     "text": [
      "100%|██████████| 50/50 [00:22<00:00,  2.20it/s]\n"
     ]
    },
    {
     "name": "stdout",
     "output_type": "stream",
     "text": [
      "prompt:  a sks statue on top of the sidewalk in a crowded street\n"
     ]
    },
    {
     "name": "stderr",
     "output_type": "stream",
     "text": [
      "100%|██████████| 50/50 [00:22<00:00,  2.20it/s]\n"
     ]
    },
    {
     "name": "stdout",
     "output_type": "stream",
     "text": [
      "prompt:  a sks statue on top of a dirt road\n"
     ]
    },
    {
     "name": "stderr",
     "output_type": "stream",
     "text": [
      "100%|██████████| 50/50 [00:22<00:00,  2.20it/s]\n"
     ]
    },
    {
     "name": "stdout",
     "output_type": "stream",
     "text": [
      "prompt:  a sks statue on top of a white rug\n"
     ]
    },
    {
     "name": "stderr",
     "output_type": "stream",
     "text": [
      "100%|██████████| 50/50 [00:22<00:00,  2.20it/s]\n"
     ]
    },
    {
     "name": "stdout",
     "output_type": "stream",
     "text": [
      "prompt:  a red sks statue\n"
     ]
    },
    {
     "name": "stderr",
     "output_type": "stream",
     "text": [
      "100%|██████████| 50/50 [00:22<00:00,  2.20it/s]\n"
     ]
    },
    {
     "name": "stdout",
     "output_type": "stream",
     "text": [
      "prompt:  a purple sks statue\n"
     ]
    },
    {
     "name": "stderr",
     "output_type": "stream",
     "text": [
      "100%|██████████| 50/50 [00:22<00:00,  2.20it/s]\n"
     ]
    },
    {
     "name": "stdout",
     "output_type": "stream",
     "text": [
      "prompt:  a shiny sks statue\n"
     ]
    },
    {
     "name": "stderr",
     "output_type": "stream",
     "text": [
      "100%|██████████| 50/50 [00:22<00:00,  2.20it/s]\n"
     ]
    },
    {
     "name": "stdout",
     "output_type": "stream",
     "text": [
      "prompt:  a wet sks statue\n"
     ]
    },
    {
     "name": "stderr",
     "output_type": "stream",
     "text": [
      "100%|██████████| 50/50 [00:22<00:00,  2.20it/s]\n"
     ]
    },
    {
     "name": "stdout",
     "output_type": "stream",
     "text": [
      "prompt:  a cube shaped sks statue\n"
     ]
    },
    {
     "name": "stderr",
     "output_type": "stream",
     "text": [
      "100%|██████████| 50/50 [00:22<00:00,  2.20it/s]\n"
     ]
    },
    {
     "name": "stdout",
     "output_type": "stream",
     "text": [
      "Finished dreambooth in subject: elephant!\n"
     ]
    },
    {
     "ename": "OSError",
     "evalue": "We couldn't connect to 'https://huggingface.co' to load this model, couldn't find it in the cached files and it looks like ../../logs/subjects/dreambooth/clock2/checkpoint-500/unet is not the path to a directory containing a config.json file.\nCheckout your internet connection or see how to run the library in offline mode at 'https://huggingface.co/docs/diffusers/installation#offline-mode'.",
     "output_type": "error",
     "traceback": [
      "\u001b[0;31m---------------------------------------------------------------------------\u001b[0m",
      "\u001b[0;31mHFValidationError\u001b[0m                         Traceback (most recent call last)",
      "File \u001b[0;32m~/anaconda3/envs/pcs/lib/python3.8/site-packages/diffusers/configuration_utils.py:383\u001b[0m, in \u001b[0;36mConfigMixin.load_config\u001b[0;34m(cls, pretrained_model_name_or_path, return_unused_kwargs, return_commit_hash, **kwargs)\u001b[0m\n\u001b[1;32m    381\u001b[0m \u001b[38;5;28;01mtry\u001b[39;00m:\n\u001b[1;32m    382\u001b[0m     \u001b[38;5;66;03m# Load from URL or cache if already cached\u001b[39;00m\n\u001b[0;32m--> 383\u001b[0m     config_file \u001b[38;5;241m=\u001b[39m \u001b[43mhf_hub_download\u001b[49m\u001b[43m(\u001b[49m\n\u001b[1;32m    384\u001b[0m \u001b[43m        \u001b[49m\u001b[43mpretrained_model_name_or_path\u001b[49m\u001b[43m,\u001b[49m\n\u001b[1;32m    385\u001b[0m \u001b[43m        \u001b[49m\u001b[43mfilename\u001b[49m\u001b[38;5;241;43m=\u001b[39;49m\u001b[38;5;28;43mcls\u001b[39;49m\u001b[38;5;241;43m.\u001b[39;49m\u001b[43mconfig_name\u001b[49m\u001b[43m,\u001b[49m\n\u001b[1;32m    386\u001b[0m \u001b[43m        \u001b[49m\u001b[43mcache_dir\u001b[49m\u001b[38;5;241;43m=\u001b[39;49m\u001b[43mcache_dir\u001b[49m\u001b[43m,\u001b[49m\n\u001b[1;32m    387\u001b[0m \u001b[43m        \u001b[49m\u001b[43mforce_download\u001b[49m\u001b[38;5;241;43m=\u001b[39;49m\u001b[43mforce_download\u001b[49m\u001b[43m,\u001b[49m\n\u001b[1;32m    388\u001b[0m \u001b[43m        \u001b[49m\u001b[43mproxies\u001b[49m\u001b[38;5;241;43m=\u001b[39;49m\u001b[43mproxies\u001b[49m\u001b[43m,\u001b[49m\n\u001b[1;32m    389\u001b[0m \u001b[43m        \u001b[49m\u001b[43mresume_download\u001b[49m\u001b[38;5;241;43m=\u001b[39;49m\u001b[43mresume_download\u001b[49m\u001b[43m,\u001b[49m\n\u001b[1;32m    390\u001b[0m \u001b[43m        \u001b[49m\u001b[43mlocal_files_only\u001b[49m\u001b[38;5;241;43m=\u001b[39;49m\u001b[43mlocal_files_only\u001b[49m\u001b[43m,\u001b[49m\n\u001b[1;32m    391\u001b[0m \u001b[43m        \u001b[49m\u001b[43mtoken\u001b[49m\u001b[38;5;241;43m=\u001b[39;49m\u001b[43mtoken\u001b[49m\u001b[43m,\u001b[49m\n\u001b[1;32m    392\u001b[0m \u001b[43m        \u001b[49m\u001b[43muser_agent\u001b[49m\u001b[38;5;241;43m=\u001b[39;49m\u001b[43muser_agent\u001b[49m\u001b[43m,\u001b[49m\n\u001b[1;32m    393\u001b[0m \u001b[43m        \u001b[49m\u001b[43msubfolder\u001b[49m\u001b[38;5;241;43m=\u001b[39;49m\u001b[43msubfolder\u001b[49m\u001b[43m,\u001b[49m\n\u001b[1;32m    394\u001b[0m \u001b[43m        \u001b[49m\u001b[43mrevision\u001b[49m\u001b[38;5;241;43m=\u001b[39;49m\u001b[43mrevision\u001b[49m\u001b[43m,\u001b[49m\n\u001b[1;32m    395\u001b[0m \u001b[43m        \u001b[49m\u001b[43mlocal_dir\u001b[49m\u001b[38;5;241;43m=\u001b[39;49m\u001b[43mlocal_dir\u001b[49m\u001b[43m,\u001b[49m\n\u001b[1;32m    396\u001b[0m \u001b[43m        \u001b[49m\u001b[43mlocal_dir_use_symlinks\u001b[49m\u001b[38;5;241;43m=\u001b[39;49m\u001b[43mlocal_dir_use_symlinks\u001b[49m\u001b[43m,\u001b[49m\n\u001b[1;32m    397\u001b[0m \u001b[43m    \u001b[49m\u001b[43m)\u001b[49m\n\u001b[1;32m    398\u001b[0m \u001b[38;5;28;01mexcept\u001b[39;00m RepositoryNotFoundError:\n",
      "File \u001b[0;32m~/anaconda3/envs/pcs/lib/python3.8/site-packages/huggingface_hub/utils/_validators.py:106\u001b[0m, in \u001b[0;36mvalidate_hf_hub_args.<locals>._inner_fn\u001b[0;34m(*args, **kwargs)\u001b[0m\n\u001b[1;32m    105\u001b[0m \u001b[38;5;28;01mif\u001b[39;00m arg_name \u001b[38;5;129;01min\u001b[39;00m [\u001b[38;5;124m\"\u001b[39m\u001b[38;5;124mrepo_id\u001b[39m\u001b[38;5;124m\"\u001b[39m, \u001b[38;5;124m\"\u001b[39m\u001b[38;5;124mfrom_id\u001b[39m\u001b[38;5;124m\"\u001b[39m, \u001b[38;5;124m\"\u001b[39m\u001b[38;5;124mto_id\u001b[39m\u001b[38;5;124m\"\u001b[39m]:\n\u001b[0;32m--> 106\u001b[0m     \u001b[43mvalidate_repo_id\u001b[49m\u001b[43m(\u001b[49m\u001b[43marg_value\u001b[49m\u001b[43m)\u001b[49m\n\u001b[1;32m    108\u001b[0m \u001b[38;5;28;01melif\u001b[39;00m arg_name \u001b[38;5;241m==\u001b[39m \u001b[38;5;124m\"\u001b[39m\u001b[38;5;124mtoken\u001b[39m\u001b[38;5;124m\"\u001b[39m \u001b[38;5;129;01mand\u001b[39;00m arg_value \u001b[38;5;129;01mis\u001b[39;00m \u001b[38;5;129;01mnot\u001b[39;00m \u001b[38;5;28;01mNone\u001b[39;00m:\n",
      "File \u001b[0;32m~/anaconda3/envs/pcs/lib/python3.8/site-packages/huggingface_hub/utils/_validators.py:154\u001b[0m, in \u001b[0;36mvalidate_repo_id\u001b[0;34m(repo_id)\u001b[0m\n\u001b[1;32m    153\u001b[0m \u001b[38;5;28;01mif\u001b[39;00m repo_id\u001b[38;5;241m.\u001b[39mcount(\u001b[38;5;124m\"\u001b[39m\u001b[38;5;124m/\u001b[39m\u001b[38;5;124m\"\u001b[39m) \u001b[38;5;241m>\u001b[39m \u001b[38;5;241m1\u001b[39m:\n\u001b[0;32m--> 154\u001b[0m     \u001b[38;5;28;01mraise\u001b[39;00m HFValidationError(\n\u001b[1;32m    155\u001b[0m         \u001b[38;5;124m\"\u001b[39m\u001b[38;5;124mRepo id must be in the form \u001b[39m\u001b[38;5;124m'\u001b[39m\u001b[38;5;124mrepo_name\u001b[39m\u001b[38;5;124m'\u001b[39m\u001b[38;5;124m or \u001b[39m\u001b[38;5;124m'\u001b[39m\u001b[38;5;124mnamespace/repo_name\u001b[39m\u001b[38;5;124m'\u001b[39m\u001b[38;5;124m:\u001b[39m\u001b[38;5;124m\"\u001b[39m\n\u001b[1;32m    156\u001b[0m         \u001b[38;5;124mf\u001b[39m\u001b[38;5;124m\"\u001b[39m\u001b[38;5;124m \u001b[39m\u001b[38;5;124m'\u001b[39m\u001b[38;5;132;01m{\u001b[39;00mrepo_id\u001b[38;5;132;01m}\u001b[39;00m\u001b[38;5;124m'\u001b[39m\u001b[38;5;124m. Use `repo_type` argument if needed.\u001b[39m\u001b[38;5;124m\"\u001b[39m\n\u001b[1;32m    157\u001b[0m     )\n\u001b[1;32m    159\u001b[0m \u001b[38;5;28;01mif\u001b[39;00m \u001b[38;5;129;01mnot\u001b[39;00m REPO_ID_REGEX\u001b[38;5;241m.\u001b[39mmatch(repo_id):\n",
      "\u001b[0;31mHFValidationError\u001b[0m: Repo id must be in the form 'repo_name' or 'namespace/repo_name': '../../logs/subjects/dreambooth/clock2/checkpoint-500/unet'. Use `repo_type` argument if needed.",
      "\nDuring handling of the above exception, another exception occurred:\n",
      "\u001b[0;31mOSError\u001b[0m                                   Traceback (most recent call last)",
      "Cell \u001b[0;32mIn[5], line 26\u001b[0m\n\u001b[1;32m     22\u001b[0m \u001b[38;5;28;01mfor\u001b[39;00m subject \u001b[38;5;129;01min\u001b[39;00m embedding_folds:\n\u001b[1;32m     23\u001b[0m \n\u001b[1;32m     24\u001b[0m     \u001b[38;5;66;03m# Load the pipeline with the same arguments (model, revision) that were used for training\u001b[39;00m\n\u001b[1;32m     25\u001b[0m     model_id \u001b[38;5;241m=\u001b[39m \u001b[38;5;124m\"\u001b[39m\u001b[38;5;124mrunwayml/stable-diffusion-v1-5\u001b[39m\u001b[38;5;124m\"\u001b[39m\n\u001b[0;32m---> 26\u001b[0m     unet \u001b[38;5;241m=\u001b[39m \u001b[43mUNet2DConditionModel\u001b[49m\u001b[38;5;241;43m.\u001b[39;49m\u001b[43mfrom_pretrained\u001b[49m\u001b[43m(\u001b[49m\u001b[38;5;124;43mf\u001b[39;49m\u001b[38;5;124;43m\"\u001b[39;49m\u001b[38;5;124;43m../../logs/subjects/dreambooth/\u001b[39;49m\u001b[38;5;132;43;01m{\u001b[39;49;00m\u001b[43msubject\u001b[49m\u001b[38;5;132;43;01m}\u001b[39;49;00m\u001b[38;5;124;43m/checkpoint-500/unet\u001b[39;49m\u001b[38;5;124;43m\"\u001b[39;49m\u001b[43m)\u001b[49m\n\u001b[1;32m     28\u001b[0m     \u001b[38;5;66;03m# if you have trained with `--args.train_text_encoder` make sure to also load the text encoder\u001b[39;00m\n\u001b[1;32m     29\u001b[0m     \u001b[38;5;66;03m# text_encoder = CLIPTextModel.from_pretrained(\"/sddata/dreambooth/daruma-v2-1/checkpoint-100/text_encoder\")\u001b[39;00m\n\u001b[1;32m     30\u001b[0m     pipeline \u001b[38;5;241m=\u001b[39m DiffusionPipeline\u001b[38;5;241m.\u001b[39mfrom_pretrained(model_id, unet\u001b[38;5;241m=\u001b[39munet, dtype\u001b[38;5;241m=\u001b[39mtorch\u001b[38;5;241m.\u001b[39mfloat16, use_safetensors\u001b[38;5;241m=\u001b[39m\u001b[38;5;28;01mTrue\u001b[39;00m)\n",
      "File \u001b[0;32m~/anaconda3/envs/pcs/lib/python3.8/site-packages/huggingface_hub/utils/_validators.py:114\u001b[0m, in \u001b[0;36mvalidate_hf_hub_args.<locals>._inner_fn\u001b[0;34m(*args, **kwargs)\u001b[0m\n\u001b[1;32m    111\u001b[0m \u001b[38;5;28;01mif\u001b[39;00m check_use_auth_token:\n\u001b[1;32m    112\u001b[0m     kwargs \u001b[38;5;241m=\u001b[39m smoothly_deprecate_use_auth_token(fn_name\u001b[38;5;241m=\u001b[39mfn\u001b[38;5;241m.\u001b[39m\u001b[38;5;18m__name__\u001b[39m, has_token\u001b[38;5;241m=\u001b[39mhas_token, kwargs\u001b[38;5;241m=\u001b[39mkwargs)\n\u001b[0;32m--> 114\u001b[0m \u001b[38;5;28;01mreturn\u001b[39;00m \u001b[43mfn\u001b[49m\u001b[43m(\u001b[49m\u001b[38;5;241;43m*\u001b[39;49m\u001b[43margs\u001b[49m\u001b[43m,\u001b[49m\u001b[43m \u001b[49m\u001b[38;5;241;43m*\u001b[39;49m\u001b[38;5;241;43m*\u001b[39;49m\u001b[43mkwargs\u001b[49m\u001b[43m)\u001b[49m\n",
      "File \u001b[0;32m~/anaconda3/envs/pcs/lib/python3.8/site-packages/diffusers/models/modeling_utils.py:616\u001b[0m, in \u001b[0;36mModelMixin.from_pretrained\u001b[0;34m(cls, pretrained_model_name_or_path, **kwargs)\u001b[0m\n\u001b[1;32m    609\u001b[0m user_agent \u001b[38;5;241m=\u001b[39m {\n\u001b[1;32m    610\u001b[0m     \u001b[38;5;124m\"\u001b[39m\u001b[38;5;124mdiffusers\u001b[39m\u001b[38;5;124m\"\u001b[39m: __version__,\n\u001b[1;32m    611\u001b[0m     \u001b[38;5;124m\"\u001b[39m\u001b[38;5;124mfile_type\u001b[39m\u001b[38;5;124m\"\u001b[39m: \u001b[38;5;124m\"\u001b[39m\u001b[38;5;124mmodel\u001b[39m\u001b[38;5;124m\"\u001b[39m,\n\u001b[1;32m    612\u001b[0m     \u001b[38;5;124m\"\u001b[39m\u001b[38;5;124mframework\u001b[39m\u001b[38;5;124m\"\u001b[39m: \u001b[38;5;124m\"\u001b[39m\u001b[38;5;124mpytorch\u001b[39m\u001b[38;5;124m\"\u001b[39m,\n\u001b[1;32m    613\u001b[0m }\n\u001b[1;32m    615\u001b[0m \u001b[38;5;66;03m# load config\u001b[39;00m\n\u001b[0;32m--> 616\u001b[0m config, unused_kwargs, commit_hash \u001b[38;5;241m=\u001b[39m \u001b[38;5;28;43mcls\u001b[39;49m\u001b[38;5;241;43m.\u001b[39;49m\u001b[43mload_config\u001b[49m\u001b[43m(\u001b[49m\n\u001b[1;32m    617\u001b[0m \u001b[43m    \u001b[49m\u001b[43mconfig_path\u001b[49m\u001b[43m,\u001b[49m\n\u001b[1;32m    618\u001b[0m \u001b[43m    \u001b[49m\u001b[43mcache_dir\u001b[49m\u001b[38;5;241;43m=\u001b[39;49m\u001b[43mcache_dir\u001b[49m\u001b[43m,\u001b[49m\n\u001b[1;32m    619\u001b[0m \u001b[43m    \u001b[49m\u001b[43mreturn_unused_kwargs\u001b[49m\u001b[38;5;241;43m=\u001b[39;49m\u001b[38;5;28;43;01mTrue\u001b[39;49;00m\u001b[43m,\u001b[49m\n\u001b[1;32m    620\u001b[0m \u001b[43m    \u001b[49m\u001b[43mreturn_commit_hash\u001b[49m\u001b[38;5;241;43m=\u001b[39;49m\u001b[38;5;28;43;01mTrue\u001b[39;49;00m\u001b[43m,\u001b[49m\n\u001b[1;32m    621\u001b[0m \u001b[43m    \u001b[49m\u001b[43mforce_download\u001b[49m\u001b[38;5;241;43m=\u001b[39;49m\u001b[43mforce_download\u001b[49m\u001b[43m,\u001b[49m\n\u001b[1;32m    622\u001b[0m \u001b[43m    \u001b[49m\u001b[43mresume_download\u001b[49m\u001b[38;5;241;43m=\u001b[39;49m\u001b[43mresume_download\u001b[49m\u001b[43m,\u001b[49m\n\u001b[1;32m    623\u001b[0m \u001b[43m    \u001b[49m\u001b[43mproxies\u001b[49m\u001b[38;5;241;43m=\u001b[39;49m\u001b[43mproxies\u001b[49m\u001b[43m,\u001b[49m\n\u001b[1;32m    624\u001b[0m \u001b[43m    \u001b[49m\u001b[43mlocal_files_only\u001b[49m\u001b[38;5;241;43m=\u001b[39;49m\u001b[43mlocal_files_only\u001b[49m\u001b[43m,\u001b[49m\n\u001b[1;32m    625\u001b[0m \u001b[43m    \u001b[49m\u001b[43mtoken\u001b[49m\u001b[38;5;241;43m=\u001b[39;49m\u001b[43mtoken\u001b[49m\u001b[43m,\u001b[49m\n\u001b[1;32m    626\u001b[0m \u001b[43m    \u001b[49m\u001b[43mrevision\u001b[49m\u001b[38;5;241;43m=\u001b[39;49m\u001b[43mrevision\u001b[49m\u001b[43m,\u001b[49m\n\u001b[1;32m    627\u001b[0m \u001b[43m    \u001b[49m\u001b[43msubfolder\u001b[49m\u001b[38;5;241;43m=\u001b[39;49m\u001b[43msubfolder\u001b[49m\u001b[43m,\u001b[49m\n\u001b[1;32m    628\u001b[0m \u001b[43m    \u001b[49m\u001b[43muser_agent\u001b[49m\u001b[38;5;241;43m=\u001b[39;49m\u001b[43muser_agent\u001b[49m\u001b[43m,\u001b[49m\n\u001b[1;32m    629\u001b[0m \u001b[43m    \u001b[49m\u001b[38;5;241;43m*\u001b[39;49m\u001b[38;5;241;43m*\u001b[39;49m\u001b[43mkwargs\u001b[49m\u001b[43m,\u001b[49m\n\u001b[1;32m    630\u001b[0m \u001b[43m\u001b[49m\u001b[43m)\u001b[49m\n\u001b[1;32m    632\u001b[0m \u001b[38;5;66;03m# Determine if we're loading from a directory of sharded checkpoints.\u001b[39;00m\n\u001b[1;32m    633\u001b[0m is_sharded \u001b[38;5;241m=\u001b[39m \u001b[38;5;28;01mFalse\u001b[39;00m\n",
      "File \u001b[0;32m~/anaconda3/envs/pcs/lib/python3.8/site-packages/huggingface_hub/utils/_validators.py:114\u001b[0m, in \u001b[0;36mvalidate_hf_hub_args.<locals>._inner_fn\u001b[0;34m(*args, **kwargs)\u001b[0m\n\u001b[1;32m    111\u001b[0m \u001b[38;5;28;01mif\u001b[39;00m check_use_auth_token:\n\u001b[1;32m    112\u001b[0m     kwargs \u001b[38;5;241m=\u001b[39m smoothly_deprecate_use_auth_token(fn_name\u001b[38;5;241m=\u001b[39mfn\u001b[38;5;241m.\u001b[39m\u001b[38;5;18m__name__\u001b[39m, has_token\u001b[38;5;241m=\u001b[39mhas_token, kwargs\u001b[38;5;241m=\u001b[39mkwargs)\n\u001b[0;32m--> 114\u001b[0m \u001b[38;5;28;01mreturn\u001b[39;00m \u001b[43mfn\u001b[49m\u001b[43m(\u001b[49m\u001b[38;5;241;43m*\u001b[39;49m\u001b[43margs\u001b[49m\u001b[43m,\u001b[49m\u001b[43m \u001b[49m\u001b[38;5;241;43m*\u001b[39;49m\u001b[38;5;241;43m*\u001b[39;49m\u001b[43mkwargs\u001b[49m\u001b[43m)\u001b[49m\n",
      "File \u001b[0;32m~/anaconda3/envs/pcs/lib/python3.8/site-packages/diffusers/configuration_utils.py:420\u001b[0m, in \u001b[0;36mConfigMixin.load_config\u001b[0;34m(cls, pretrained_model_name_or_path, return_unused_kwargs, return_commit_hash, **kwargs)\u001b[0m\n\u001b[1;32m    415\u001b[0m     \u001b[38;5;28;01mraise\u001b[39;00m \u001b[38;5;167;01mEnvironmentError\u001b[39;00m(\n\u001b[1;32m    416\u001b[0m         \u001b[38;5;124m\"\u001b[39m\u001b[38;5;124mThere was a specific connection error when trying to load\u001b[39m\u001b[38;5;124m\"\u001b[39m\n\u001b[1;32m    417\u001b[0m         \u001b[38;5;124mf\u001b[39m\u001b[38;5;124m\"\u001b[39m\u001b[38;5;124m \u001b[39m\u001b[38;5;132;01m{\u001b[39;00mpretrained_model_name_or_path\u001b[38;5;132;01m}\u001b[39;00m\u001b[38;5;124m:\u001b[39m\u001b[38;5;130;01m\\n\u001b[39;00m\u001b[38;5;132;01m{\u001b[39;00merr\u001b[38;5;132;01m}\u001b[39;00m\u001b[38;5;124m\"\u001b[39m\n\u001b[1;32m    418\u001b[0m     )\n\u001b[1;32m    419\u001b[0m \u001b[38;5;28;01mexcept\u001b[39;00m \u001b[38;5;167;01mValueError\u001b[39;00m:\n\u001b[0;32m--> 420\u001b[0m     \u001b[38;5;28;01mraise\u001b[39;00m \u001b[38;5;167;01mEnvironmentError\u001b[39;00m(\n\u001b[1;32m    421\u001b[0m         \u001b[38;5;124mf\u001b[39m\u001b[38;5;124m\"\u001b[39m\u001b[38;5;124mWe couldn\u001b[39m\u001b[38;5;124m'\u001b[39m\u001b[38;5;124mt connect to \u001b[39m\u001b[38;5;124m'\u001b[39m\u001b[38;5;132;01m{\u001b[39;00mHUGGINGFACE_CO_RESOLVE_ENDPOINT\u001b[38;5;132;01m}\u001b[39;00m\u001b[38;5;124m'\u001b[39m\u001b[38;5;124m to load this model, couldn\u001b[39m\u001b[38;5;124m'\u001b[39m\u001b[38;5;124mt find it\u001b[39m\u001b[38;5;124m\"\u001b[39m\n\u001b[1;32m    422\u001b[0m         \u001b[38;5;124mf\u001b[39m\u001b[38;5;124m\"\u001b[39m\u001b[38;5;124m in the cached files and it looks like \u001b[39m\u001b[38;5;132;01m{\u001b[39;00mpretrained_model_name_or_path\u001b[38;5;132;01m}\u001b[39;00m\u001b[38;5;124m is not the path to a\u001b[39m\u001b[38;5;124m\"\u001b[39m\n\u001b[1;32m    423\u001b[0m         \u001b[38;5;124mf\u001b[39m\u001b[38;5;124m\"\u001b[39m\u001b[38;5;124m directory containing a \u001b[39m\u001b[38;5;132;01m{\u001b[39;00m\u001b[38;5;28mcls\u001b[39m\u001b[38;5;241m.\u001b[39mconfig_name\u001b[38;5;132;01m}\u001b[39;00m\u001b[38;5;124m file.\u001b[39m\u001b[38;5;130;01m\\n\u001b[39;00m\u001b[38;5;124mCheckout your internet connection or see how to\u001b[39m\u001b[38;5;124m\"\u001b[39m\n\u001b[1;32m    424\u001b[0m         \u001b[38;5;124m\"\u001b[39m\u001b[38;5;124m run the library in offline mode at\u001b[39m\u001b[38;5;124m\"\u001b[39m\n\u001b[1;32m    425\u001b[0m         \u001b[38;5;124m\"\u001b[39m\u001b[38;5;124m \u001b[39m\u001b[38;5;124m'\u001b[39m\u001b[38;5;124mhttps://huggingface.co/docs/diffusers/installation#offline-mode\u001b[39m\u001b[38;5;124m'\u001b[39m\u001b[38;5;124m.\u001b[39m\u001b[38;5;124m\"\u001b[39m\n\u001b[1;32m    426\u001b[0m     )\n\u001b[1;32m    427\u001b[0m \u001b[38;5;28;01mexcept\u001b[39;00m \u001b[38;5;167;01mEnvironmentError\u001b[39;00m:\n\u001b[1;32m    428\u001b[0m     \u001b[38;5;28;01mraise\u001b[39;00m \u001b[38;5;167;01mEnvironmentError\u001b[39;00m(\n\u001b[1;32m    429\u001b[0m         \u001b[38;5;124mf\u001b[39m\u001b[38;5;124m\"\u001b[39m\u001b[38;5;124mCan\u001b[39m\u001b[38;5;124m'\u001b[39m\u001b[38;5;124mt load config for \u001b[39m\u001b[38;5;124m'\u001b[39m\u001b[38;5;132;01m{\u001b[39;00mpretrained_model_name_or_path\u001b[38;5;132;01m}\u001b[39;00m\u001b[38;5;124m'\u001b[39m\u001b[38;5;124m. If you were trying to load it from \u001b[39m\u001b[38;5;124m\"\u001b[39m\n\u001b[1;32m    430\u001b[0m         \u001b[38;5;124m\"\u001b[39m\u001b[38;5;124m'\u001b[39m\u001b[38;5;124mhttps://huggingface.co/models\u001b[39m\u001b[38;5;124m'\u001b[39m\u001b[38;5;124m, make sure you don\u001b[39m\u001b[38;5;124m'\u001b[39m\u001b[38;5;124mt have a local directory with the same name. \u001b[39m\u001b[38;5;124m\"\u001b[39m\n\u001b[1;32m    431\u001b[0m         \u001b[38;5;124mf\u001b[39m\u001b[38;5;124m\"\u001b[39m\u001b[38;5;124mOtherwise, make sure \u001b[39m\u001b[38;5;124m'\u001b[39m\u001b[38;5;132;01m{\u001b[39;00mpretrained_model_name_or_path\u001b[38;5;132;01m}\u001b[39;00m\u001b[38;5;124m'\u001b[39m\u001b[38;5;124m is the correct path to a directory \u001b[39m\u001b[38;5;124m\"\u001b[39m\n\u001b[1;32m    432\u001b[0m         \u001b[38;5;124mf\u001b[39m\u001b[38;5;124m\"\u001b[39m\u001b[38;5;124mcontaining a \u001b[39m\u001b[38;5;132;01m{\u001b[39;00m\u001b[38;5;28mcls\u001b[39m\u001b[38;5;241m.\u001b[39mconfig_name\u001b[38;5;132;01m}\u001b[39;00m\u001b[38;5;124m file\u001b[39m\u001b[38;5;124m\"\u001b[39m\n\u001b[1;32m    433\u001b[0m     )\n",
      "\u001b[0;31mOSError\u001b[0m: We couldn't connect to 'https://huggingface.co' to load this model, couldn't find it in the cached files and it looks like ../../logs/subjects/dreambooth/clock2/checkpoint-500/unet is not the path to a directory containing a config.json file.\nCheckout your internet connection or see how to run the library in offline mode at 'https://huggingface.co/docs/diffusers/installation#offline-mode'."
     ]
    }
   ],
   "source": [
    "import os,json\n",
    "os.environ[\"CUDA_VISIBLE_DEVICES\"] = \"7\"\n",
    "\n",
    "import sys\n",
    "utils_path = os.path.abspath(os.path.join('../..'))\n",
    "sys.path.append(utils_path)\n",
    "\n",
    "import torch\n",
    "from diffusers import DiffusionPipeline, UNet2DConditionModel\n",
    "from transformers import CLIPTextModel\n",
    "from utils.dataset_info import get_subjects_prompts_info\n",
    "\n",
    "output_path = \"../../outputs/subjects/dreambooth\"\n",
    "\n",
    "embedding_folds = os.listdir(\"../../logs/subjects/dreambooth/\")\n",
    "\n",
    "dataset_info_path = \"../../pcs_dataset/info.json\"\n",
    "\n",
    "prompts_info, prompts = get_subjects_prompts_info(dataset_info_path)\n",
    "\n",
    "\n",
    "for subject in embedding_folds:\n",
    "\n",
    "    # Load the pipeline with the same arguments (model, revision) that were used for training\n",
    "    model_id = \"runwayml/stable-diffusion-v1-5\"\n",
    "    unet = UNet2DConditionModel.from_pretrained(f\"../../logs/subjects/dreambooth/{subject}/checkpoint-500/unet\")\n",
    "\n",
    "    # if you have trained with `--args.train_text_encoder` make sure to also load the text encoder\n",
    "    # text_encoder = CLIPTextModel.from_pretrained(\"/sddata/dreambooth/daruma-v2-1/checkpoint-100/text_encoder\")\n",
    "    pipeline = DiffusionPipeline.from_pretrained(model_id, unet=unet, dtype=torch.float16, use_safetensors=True)\n",
    "    pipeline.to(\"cuda\")\n",
    "\n",
    "    for idx, prompt in enumerate(prompts[prompts_info[subject][\"prompt_type\"]]):\n",
    "        prompt = prompt.replace(\"{0}\", \"sks\")\n",
    "        prompt = prompt.replace(\"{1}\", f\"{prompts_info[subject]['class']}\")\n",
    "        print(\"prompt: \", prompt)\n",
    "\n",
    "        image = pipeline(prompt, num_inference_steps=50, num_images_per_prompt=4).images\n",
    "\n",
    "        save_path = os.path.join(output_path, subject, f\"prompt{idx}\")\n",
    "        os.makedirs(save_path, exist_ok=True)\n",
    "\n",
    "        for img_idx, img in enumerate(image):\n",
    "            img.save(os.path.join(save_path, f\"{img_idx:04d}.jpg\"))\n",
    "    \n",
    "    print(f\"Finished dreambooth in subject: {subject}!\")"
   ]
  },
  {
   "cell_type": "markdown",
   "metadata": {},
   "source": [
    "## Evaluation"
   ]
  },
  {
   "cell_type": "markdown",
   "metadata": {},
   "source": [
    "Calculate img to img similarity and text to img similarity by CLIP Evaluator"
   ]
  },
  {
   "cell_type": "code",
   "execution_count": 14,
   "metadata": {},
   "outputs": [],
   "source": [
    "import os, sys, json\n",
    "\n",
    "os.environ[\"CUDA_VISIBLE_DEVICES\"] = \"5\"\n",
    "\n",
    "utils_path = os.path.abspath(os.path.join('../..'))\n",
    "sys.path.append(utils_path)\n",
    "\n",
    "import numpy as np\n",
    "from utils.clip_eval import CLIPEvaluator, evaluate_i2i, evaluate_t2i\n",
    "import re\n",
    "from utils.dataset_info import get_subjects_prompts_info"
   ]
  },
  {
   "cell_type": "code",
   "execution_count": 15,
   "metadata": {},
   "outputs": [],
   "source": [
    "def extract_id(folder_name):\n",
    "    match = re.search(r'\\d+', folder_name)\n",
    "    if match:\n",
    "        return int(match.group())\n",
    "    return None\n",
    "\n",
    "def convert_to_native(data):\n",
    "    if isinstance(data, np.ndarray):\n",
    "        return data.tolist()\n",
    "    elif isinstance(data, np.generic):\n",
    "        return data.item()\n",
    "    elif isinstance(data, dict):\n",
    "        return {key: convert_to_native(value) for key, value in data.items()}\n",
    "    elif isinstance(data, list):\n",
    "        return [convert_to_native(item) for item in data]\n",
    "    else:\n",
    "        return data"
   ]
  },
  {
   "cell_type": "code",
   "execution_count": 16,
   "metadata": {},
   "outputs": [
    {
     "name": "stdout",
     "output_type": "stream",
     "text": [
      "process subject:  mug_skulls\n",
      "prompt:  prompt13\n",
      "{'0003.jpg': [0.617, 0.3213], '0000.jpg': [0.545, 0.3525], '0002.jpg': [0.545, 0.3464], '0001.jpg': [0.588, 0.3115]}\n",
      "prompt:  prompt8\n",
      "{'0003.jpg': [0.659, 0.3003], '0000.jpg': [0.746, 0.2094], '0002.jpg': [0.5645, 0.3262], '0001.jpg': [0.479, 0.3145]}\n",
      "prompt:  prompt17\n",
      "{'0003.jpg': [0.5034, 0.2778], '0000.jpg': [0.626, 0.269], '0002.jpg': [0.6157, 0.2416], '0001.jpg': [0.5137, 0.2734]}\n",
      "prompt:  prompt19\n",
      "{'0003.jpg': [0.835, 0.229], '0000.jpg': [0.7646, 0.2227], '0002.jpg': [0.843, 0.2148], '0001.jpg': [0.8057, 0.2192]}\n",
      "prompt:  prompt10\n",
      "{'0003.jpg': [0.515, 0.3506], '0000.jpg': [0.397, 0.2666], '0002.jpg': [0.4565, 0.3555], '0001.jpg': [0.634, 0.2573]}\n",
      "prompt:  prompt2\n",
      "{'0003.jpg': [0.538, 0.313], '0000.jpg': [0.59, 0.2776], '0002.jpg': [0.6353, 0.2905], '0001.jpg': [0.498, 0.2969]}\n",
      "prompt:  prompt15\n",
      "{'0003.jpg': [0.5586, 0.3286], '0000.jpg': [0.549, 0.3342], '0002.jpg': [0.5645, 0.2896], '0001.jpg': [0.6533, 0.3386]}\n",
      "prompt:  prompt22\n",
      "{'0003.jpg': [0.757, 0.2336], '0000.jpg': [0.778, 0.256], '0002.jpg': [0.7676, 0.2717], '0001.jpg': [0.793, 0.2484]}\n",
      "prompt:  prompt1\n",
      "{'0003.jpg': [0.6914, 0.2795], '0000.jpg': [0.7207, 0.2756], '0002.jpg': [0.6523, 0.2864], '0001.jpg': [0.587, 0.3088]}\n",
      "prompt:  prompt14\n",
      "{'0003.jpg': [0.831, 0.2322], '0000.jpg': [0.843, 0.2396], '0002.jpg': [0.813, 0.2544], '0001.jpg': [0.817, 0.2496]}\n",
      "prompt:  prompt6\n",
      "{'0003.jpg': [0.4763, 0.2925], '0000.jpg': [0.7534, 0.242], '0002.jpg': [0.722, 0.251], '0001.jpg': [0.6167, 0.2534]}\n",
      "prompt:  prompt5\n",
      "{'0003.jpg': [0.717, 0.305], '0000.jpg': [0.8184, 0.3157], '0002.jpg': [0.784, 0.3093], '0001.jpg': [0.8145, 0.314]}\n",
      "prompt:  prompt11\n",
      "{'0003.jpg': [0.6655, 0.2998], '0000.jpg': [0.659, 0.2617], '0002.jpg': [0.411, 0.2664], '0001.jpg': [0.493, 0.3093]}\n",
      "prompt:  prompt7\n",
      "{'0003.jpg': [0.5986, 0.2744], '0000.jpg': [0.4148, 0.3298], '0002.jpg': [0.611, 0.2593], '0001.jpg': [0.4578, 0.313]}\n",
      "prompt:  prompt21\n",
      "{'0003.jpg': [0.8125, 0.256], '0000.jpg': [0.797, 0.2568], '0002.jpg': [0.811, 0.2603], '0001.jpg': [0.7715, 0.2659]}\n",
      "prompt:  prompt12\n",
      "{'0003.jpg': [0.5776, 0.2625], '0000.jpg': [0.498, 0.3203], '0002.jpg': [0.4106, 0.2778], '0001.jpg': [0.4358, 0.3035]}\n",
      "prompt:  prompt20\n",
      "{'0003.jpg': [0.744, 0.2822], '0000.jpg': [0.7773, 0.2673], '0002.jpg': [0.801, 0.2318], '0001.jpg': [0.5986, 0.276]}\n",
      "prompt:  prompt4\n",
      "{'0003.jpg': [0.872, 0.2358], '0000.jpg': [0.8438, 0.2437], '0002.jpg': [0.8027, 0.2292], '0001.jpg': [0.836, 0.251]}\n",
      "prompt:  prompt3\n",
      "{'0003.jpg': [0.5854, 0.321], '0000.jpg': [0.482, 0.3582], '0002.jpg': [0.694, 0.2979], '0001.jpg': [0.6543, 0.3157]}\n",
      "prompt:  prompt23\n",
      "{'0003.jpg': [0.7974, 0.2281], '0000.jpg': [0.8433, 0.2397], '0002.jpg': [0.826, 0.2186], '0001.jpg': [0.8564, 0.2205]}\n",
      "prompt:  prompt0\n",
      "{'0003.jpg': [0.776, 0.2654], '0000.jpg': [0.7007, 0.2998], '0002.jpg': [0.7163, 0.2896], '0001.jpg': [0.6914, 0.306]}\n",
      "prompt:  prompt18\n",
      "{'0003.jpg': [0.7354, 0.2634], '0000.jpg': [0.6523, 0.303], '0002.jpg': [0.71, 0.2412], '0001.jpg': [0.7397, 0.2673]}\n",
      "prompt:  prompt16\n",
      "{'0003.jpg': [0.6445, 0.296], '0000.jpg': [0.728, 0.2593], '0002.jpg': [0.5894, 0.2822], '0001.jpg': [0.5967, 0.2418]}\n",
      "prompt:  prompt24\n",
      "{'0003.jpg': [0.7, 0.2856], '0000.jpg': [0.7754, 0.2408], '0002.jpg': [0.7354, 0.2368], '0001.jpg': [0.747, 0.238]}\n",
      "prompt:  prompt9\n",
      "{'0003.jpg': [0.7056, 0.2634], '0000.jpg': [0.711, 0.258], '0002.jpg': [0.8057, 0.2086], '0001.jpg': [0.7866, 0.2786]}\n",
      "process subject:  red_teapot\n",
      "prompt:  prompt13\n",
      "{'0003.jpg': [0.6055, 0.3555], '0000.jpg': [0.725, 0.3276], '0002.jpg': [0.675, 0.3457], '0001.jpg': [0.6504, 0.3718]}\n",
      "prompt:  prompt8\n",
      "{'0003.jpg': [0.6265, 0.376], '0000.jpg': [0.797, 0.3252], '0002.jpg': [0.6665, 0.3755], '0001.jpg': [0.65, 0.3804]}\n",
      "prompt:  prompt17\n",
      "{'0003.jpg': [0.614, 0.3528], '0000.jpg': [0.6387, 0.349], '0002.jpg': [0.6157, 0.3584], '0001.jpg': [0.652, 0.3357]}\n",
      "prompt:  prompt19\n",
      "{'0003.jpg': [0.8066, 0.3276], '0000.jpg': [0.7417, 0.3618], '0002.jpg': [0.73, 0.3574], '0001.jpg': [0.78, 0.3525]}\n",
      "prompt:  prompt10\n",
      "{'0003.jpg': [0.6226, 0.4143], '0000.jpg': [0.4968, 0.2812], '0002.jpg': [0.616, 0.3845], '0001.jpg': [0.552, 0.3843]}\n",
      "prompt:  prompt2\n",
      "{'0003.jpg': [0.696, 0.3855], '0000.jpg': [0.655, 0.399], '0002.jpg': [0.6562, 0.3777], '0001.jpg': [0.7256, 0.3787]}\n",
      "prompt:  prompt15\n",
      "{'0003.jpg': [0.6084, 0.3584], '0000.jpg': [0.625, 0.3467], '0002.jpg': [0.6333, 0.4128], '0001.jpg': [0.5933, 0.3633]}\n",
      "prompt:  prompt22\n",
      "{'0003.jpg': [0.8145, 0.3198], '0000.jpg': [0.826, 0.3079], '0002.jpg': [0.8413, 0.318], '0001.jpg': [0.844, 0.3218]}\n",
      "prompt:  prompt1\n",
      "{'0003.jpg': [0.647, 0.3735], '0000.jpg': [0.707, 0.389], '0002.jpg': [0.713, 0.3977], '0001.jpg': [0.663, 0.3735]}\n",
      "prompt:  prompt14\n",
      "{'0003.jpg': [0.5664, 0.263], '0000.jpg': [0.6177, 0.346], '0002.jpg': [0.6143, 0.308], '0001.jpg': [0.661, 0.3494]}\n",
      "prompt:  prompt6\n",
      "{'0003.jpg': [0.748, 0.3354], '0000.jpg': [0.7505, 0.3887], '0002.jpg': [0.7188, 0.4019], '0001.jpg': [0.6865, 0.3577]}\n",
      "prompt:  prompt5\n",
      "{'0003.jpg': [0.6885, 0.3176], '0000.jpg': [0.694, 0.352], '0002.jpg': [0.7134, 0.3398], '0001.jpg': [0.682, 0.3438]}\n",
      "prompt:  prompt11\n",
      "{'0003.jpg': [0.663, 0.374], '0000.jpg': [0.6646, 0.356], '0002.jpg': [0.6655, 0.3716], '0001.jpg': [0.624, 0.3757]}\n",
      "prompt:  prompt7\n",
      "{'0003.jpg': [0.6426, 0.3667], '0000.jpg': [0.711, 0.3774], '0002.jpg': [0.6187, 0.3972], '0001.jpg': [0.6826, 0.3699]}\n",
      "prompt:  prompt21\n",
      "{'0003.jpg': [0.7847, 0.363], '0000.jpg': [0.8013, 0.3728], '0002.jpg': [0.786, 0.3735], '0001.jpg': [0.799, 0.361]}\n",
      "prompt:  prompt12\n",
      "{'0003.jpg': [0.6426, 0.39], '0000.jpg': [0.79, 0.3738], '0002.jpg': [0.6436, 0.4023], '0001.jpg': [0.569, 0.3623]}\n",
      "prompt:  prompt20\n",
      "{'0003.jpg': [0.8286, 0.3347], '0000.jpg': [0.6978, 0.3594], '0002.jpg': [0.83, 0.331], '0001.jpg': [0.735, 0.3557]}\n",
      "prompt:  prompt4\n",
      "{'0003.jpg': [0.845, 0.339], '0000.jpg': [0.8013, 0.343], '0002.jpg': [0.838, 0.3572], '0001.jpg': [0.824, 0.3296]}\n",
      "prompt:  prompt3\n",
      "{'0003.jpg': [0.6587, 0.41], '0000.jpg': [0.6094, 0.367], '0002.jpg': [0.574, 0.416], '0001.jpg': [0.624, 0.3694]}\n",
      "prompt:  prompt23\n",
      "{'0003.jpg': [0.773, 0.2954], '0000.jpg': [0.8315, 0.301], '0002.jpg': [0.85, 0.298], '0001.jpg': [0.8784, 0.2896]}\n",
      "prompt:  prompt0\n",
      "{'0003.jpg': [0.7207, 0.3354], '0000.jpg': [0.685, 0.3555], '0002.jpg': [0.7427, 0.3665], '0001.jpg': [0.645, 0.3464]}\n",
      "prompt:  prompt18\n",
      "{'0003.jpg': [0.637, 0.3826], '0000.jpg': [0.595, 0.3818], '0002.jpg': [0.619, 0.3735], '0001.jpg': [0.6567, 0.3958]}\n",
      "prompt:  prompt16\n",
      "{'0003.jpg': [0.712, 0.3179], '0000.jpg': [0.7896, 0.336], '0002.jpg': [0.8745, 0.304], '0001.jpg': [0.651, 0.3015]}\n",
      "prompt:  prompt24\n",
      "{'0003.jpg': [0.7285, 0.349], '0000.jpg': [0.7847, 0.3083], '0002.jpg': [0.7236, 0.3335], '0001.jpg': [0.78, 0.3145]}\n",
      "prompt:  prompt9\n",
      "{'0003.jpg': [0.694, 0.3394], '0000.jpg': [0.679, 0.3848], '0002.jpg': [0.766, 0.3792], '0001.jpg': [0.755, 0.403]}\n",
      "process subject:  robot_toy\n",
      "prompt:  prompt13\n",
      "{'0003.jpg': [0.6987, 0.2646], '0000.jpg': [0.6553, 0.2659], '0002.jpg': [0.649, 0.3193], '0001.jpg': [0.6924, 0.2935]}\n",
      "prompt:  prompt8\n",
      "{'0003.jpg': [0.6045, 0.3066], '0000.jpg': [0.821, 0.2844], '0002.jpg': [0.6514, 0.3389], '0001.jpg': [0.598, 0.3284]}\n",
      "prompt:  prompt17\n",
      "{'0003.jpg': [0.7764, 0.285], '0000.jpg': [0.7524, 0.287], '0002.jpg': [0.745, 0.2927], '0001.jpg': [0.7876, 0.2744]}\n",
      "prompt:  prompt19\n",
      "{'0003.jpg': [0.798, 0.2576], '0000.jpg': [0.8154, 0.2737], '0002.jpg': [0.7153, 0.3003], '0001.jpg': [0.7344, 0.302]}\n",
      "prompt:  prompt10\n",
      "{'0003.jpg': [0.55, 0.3076], '0000.jpg': [0.7217, 0.3257], '0002.jpg': [0.638, 0.3706], '0001.jpg': [0.5356, 0.3674]}\n",
      "prompt:  prompt2\n",
      "{'0003.jpg': [0.8037, 0.301], '0000.jpg': [0.794, 0.2954], '0002.jpg': [0.753, 0.283], '0001.jpg': [0.8057, 0.287]}\n",
      "prompt:  prompt15\n",
      "{'0003.jpg': [0.6763, 0.3486], '0000.jpg': [0.754, 0.3586], '0002.jpg': [0.7173, 0.3252], '0001.jpg': [0.727, 0.332]}\n",
      "prompt:  prompt22\n",
      "{'0003.jpg': [0.6177, 0.2488], '0000.jpg': [0.5806, 0.2394], '0002.jpg': [0.7837, 0.245], '0001.jpg': [0.5903, 0.2432]}\n",
      "prompt:  prompt1\n",
      "{'0003.jpg': [0.716, 0.2917], '0000.jpg': [0.68, 0.311], '0002.jpg': [0.542, 0.2874], '0001.jpg': [0.735, 0.3057]}\n",
      "prompt:  prompt14\n",
      "{'0003.jpg': [0.6187, 0.2644], '0000.jpg': [0.777, 0.2358], '0002.jpg': [0.651, 0.2734], '0001.jpg': [0.51, 0.271]}\n",
      "prompt:  prompt6\n",
      "{'0003.jpg': [0.7666, 0.3428], '0000.jpg': [0.7573, 0.317], '0002.jpg': [0.7593, 0.3213], '0001.jpg': [0.771, 0.3118]}\n",
      "prompt:  prompt5\n",
      "{'0003.jpg': [0.7886, 0.2725], '0000.jpg': [0.758, 0.3147], '0002.jpg': [0.729, 0.2668], '0001.jpg': [0.7856, 0.2947]}\n",
      "prompt:  prompt11\n",
      "{'0003.jpg': [0.628, 0.3252], '0000.jpg': [0.687, 0.3542], '0002.jpg': [0.7393, 0.354], '0001.jpg': [0.6865, 0.3345]}\n",
      "prompt:  prompt7\n",
      "{'0003.jpg': [0.6772, 0.3174], '0000.jpg': [0.7114, 0.3328], '0002.jpg': [0.7886, 0.3103], '0001.jpg': [0.7563, 0.2688]}\n",
      "prompt:  prompt21\n",
      "{'0003.jpg': [0.7056, 0.3137], '0000.jpg': [0.727, 0.3347], '0002.jpg': [0.8403, 0.2957], '0001.jpg': [0.805, 0.314]}\n",
      "prompt:  prompt12\n",
      "{'0003.jpg': [0.5825, 0.361], '0000.jpg': [0.582, 0.3538], '0002.jpg': [0.677, 0.3438], '0001.jpg': [0.5386, 0.3503]}\n",
      "prompt:  prompt20\n",
      "{'0003.jpg': [0.792, 0.2825], '0000.jpg': [0.8306, 0.2583], '0002.jpg': [0.787, 0.2281], '0001.jpg': [0.7866, 0.3005]}\n",
      "prompt:  prompt4\n",
      "{'0003.jpg': [0.822, 0.2659], '0000.jpg': [0.822, 0.2517], '0002.jpg': [0.7993, 0.2422], '0001.jpg': [0.7783, 0.2576]}\n",
      "prompt:  prompt3\n",
      "{'0003.jpg': [0.5913, 0.3079], '0000.jpg': [0.7505, 0.348], '0002.jpg': [0.4854, 0.3083], '0001.jpg': [0.644, 0.3855]}\n",
      "prompt:  prompt23\n",
      "{'0003.jpg': [0.8203, 0.245], '0000.jpg': [0.7754, 0.2668], '0002.jpg': [0.827, 0.2216], '0001.jpg': [0.7817, 0.266]}\n",
      "prompt:  prompt0\n",
      "{'0003.jpg': [0.8306, 0.2585], '0000.jpg': [0.808, 0.281], '0002.jpg': [0.7476, 0.2869], '0001.jpg': [0.782, 0.2803]}\n",
      "prompt:  prompt18\n",
      "{'0003.jpg': [0.7295, 0.2822], '0000.jpg': [0.7603, 0.2788], '0002.jpg': [0.7236, 0.3276], '0001.jpg': [0.798, 0.289]}\n",
      "prompt:  prompt16\n",
      "{'0003.jpg': [0.7188, 0.2998], '0000.jpg': [0.841, 0.2299], '0002.jpg': [0.8315, 0.2266], '0001.jpg': [0.8003, 0.2617]}\n",
      "prompt:  prompt24\n",
      "{'0003.jpg': [0.7495, 0.2893], '0000.jpg': [0.654, 0.331], '0002.jpg': [0.7295, 0.3271], '0001.jpg': [0.6367, 0.3477]}\n",
      "prompt:  prompt9\n",
      "{'0003.jpg': [0.7524, 0.3232], '0000.jpg': [0.733, 0.29], '0002.jpg': [0.683, 0.3418], '0001.jpg': [0.791, 0.304]}\n",
      "process subject:  thin_bird\n",
      "prompt:  prompt13\n",
      "{'0003.jpg': [0.7554, 0.2878], '0000.jpg': [0.7393, 0.2815], '0002.jpg': [0.7207, 0.3125], '0001.jpg': [0.754, 0.2917]}\n",
      "prompt:  prompt8\n",
      "{'0003.jpg': [0.8203, 0.2306], '0000.jpg': [0.5884, 0.2705], '0002.jpg': [0.8105, 0.2262], '0001.jpg': [0.49, 0.313]}\n",
      "prompt:  prompt17\n",
      "{'0003.jpg': [0.663, 0.2386], '0000.jpg': [0.8315, 0.221], '0002.jpg': [0.7754, 0.2426], '0001.jpg': [0.7324, 0.247]}\n",
      "prompt:  prompt19\n",
      "{'0003.jpg': [0.853, 0.2343], '0000.jpg': [0.569, 0.222], '0002.jpg': [0.569, 0.222], '0001.jpg': [0.842, 0.2527]}\n",
      "prompt:  prompt10\n",
      "{'0003.jpg': [0.688, 0.3022], '0000.jpg': [0.7056, 0.274], '0002.jpg': [0.6167, 0.2054], '0001.jpg': [0.635, 0.2896]}\n",
      "prompt:  prompt2\n",
      "{'0003.jpg': [0.792, 0.279], '0000.jpg': [0.7666, 0.2708], '0002.jpg': [0.75, 0.2527], '0001.jpg': [0.785, 0.2964]}\n",
      "prompt:  prompt15\n",
      "{'0003.jpg': [0.755, 0.2725], '0000.jpg': [0.576, 0.3523], '0002.jpg': [0.67, 0.295], '0001.jpg': [0.6167, 0.3699]}\n",
      "prompt:  prompt22\n",
      "{'0003.jpg': [0.839, 0.2515], '0000.jpg': [0.868, 0.2686], '0002.jpg': [0.8296, 0.2354], '0001.jpg': [0.8135, 0.2517]}\n",
      "prompt:  prompt1\n",
      "{'0003.jpg': [0.6562, 0.2854], '0000.jpg': [0.656, 0.2812], '0002.jpg': [0.619, 0.2998], '0001.jpg': [0.661, 0.288]}\n",
      "prompt:  prompt14\n",
      "{'0003.jpg': [0.858, 0.273], '0000.jpg': [0.862, 0.2437], '0002.jpg': [0.8325, 0.2174], '0001.jpg': [0.86, 0.261]}\n",
      "prompt:  prompt6\n",
      "{'0003.jpg': [0.596, 0.279], '0000.jpg': [0.78, 0.2498], '0002.jpg': [0.703, 0.2544], '0001.jpg': [0.737, 0.2437]}\n",
      "prompt:  prompt5\n",
      "{'0003.jpg': [0.8154, 0.2727], '0000.jpg': [0.8145, 0.288], '0002.jpg': [0.8354, 0.2766], '0001.jpg': [0.569, 0.2306]}\n",
      "prompt:  prompt11\n",
      "{'0003.jpg': [0.5205, 0.3245], '0000.jpg': [0.592, 0.3], '0002.jpg': [0.573, 0.2817], '0001.jpg': [0.522, 0.2688]}\n",
      "prompt:  prompt7\n",
      "{'0003.jpg': [0.6836, 0.2727], '0000.jpg': [0.5713, 0.3147], '0002.jpg': [0.7515, 0.266], '0001.jpg': [0.7217, 0.2644]}\n",
      "prompt:  prompt21\n",
      "{'0003.jpg': [0.839, 0.299], '0000.jpg': [0.828, 0.1978], '0002.jpg': [0.8276, 0.3066], '0001.jpg': [0.8276, 0.278]}\n",
      "prompt:  prompt12\n",
      "{'0003.jpg': [0.5015, 0.3125], '0000.jpg': [0.506, 0.3076], '0002.jpg': [0.5815, 0.32], '0001.jpg': [0.531, 0.3027]}\n",
      "prompt:  prompt20\n",
      "{'0003.jpg': [0.863, 0.2034], '0000.jpg': [0.799, 0.2827], '0002.jpg': [0.816, 0.2788], '0001.jpg': [0.8154, 0.2698]}\n",
      "prompt:  prompt4\n",
      "{'0003.jpg': [0.569, 0.2136], '0000.jpg': [0.827, 0.2651], '0002.jpg': [0.862, 0.2021], '0001.jpg': [0.779, 0.251]}\n",
      "prompt:  prompt3\n",
      "{'0003.jpg': [0.79, 0.2488], '0000.jpg': [0.8213, 0.242], '0002.jpg': [0.8286, 0.2627], '0001.jpg': [0.8276, 0.2482]}\n",
      "prompt:  prompt23\n",
      "{'0003.jpg': [0.8457, 0.2002], '0000.jpg': [0.836, 0.2148], '0002.jpg': [0.8564, 0.2256], '0001.jpg': [0.812, 0.2133]}\n",
      "prompt:  prompt0\n",
      "{'0003.jpg': [0.764, 0.2374], '0000.jpg': [0.724, 0.2883], '0002.jpg': [0.6045, 0.3325], '0001.jpg': [0.7476, 0.266]}\n",
      "prompt:  prompt18\n",
      "{'0003.jpg': [0.637, 0.2585], '0000.jpg': [0.668, 0.22], '0002.jpg': [0.7275, 0.272], '0001.jpg': [0.758, 0.2354]}\n",
      "prompt:  prompt16\n",
      "{'0003.jpg': [0.836, 0.2559], '0000.jpg': [0.71, 0.294], '0002.jpg': [0.8047, 0.244], '0001.jpg': [0.6934, 0.3047]}\n",
      "prompt:  prompt24\n",
      "{'0003.jpg': [0.788, 0.2434], '0000.jpg': [0.829, 0.2505], '0002.jpg': [0.7827, 0.2196], '0001.jpg': [0.71, 0.3196]}\n",
      "prompt:  prompt9\n",
      "{'0003.jpg': [0.784, 0.2168], '0000.jpg': [0.6113, 0.2927], '0002.jpg': [0.848, 0.1819], '0001.jpg': [0.769, 0.2491]}\n",
      "process subject:  rc_car\n",
      "prompt:  prompt13\n",
      "{'0003.jpg': [0.688, 0.3074], '0000.jpg': [0.6685, 0.3142], '0002.jpg': [0.76, 0.3225], '0001.jpg': [0.708, 0.3044]}\n",
      "prompt:  prompt8\n",
      "{'0003.jpg': [0.7544, 0.3105], '0000.jpg': [0.7734, 0.3232], '0002.jpg': [0.6704, 0.3396], '0001.jpg': [0.755, 0.3147]}\n",
      "prompt:  prompt17\n",
      "{'0003.jpg': [0.7974, 0.3035], '0000.jpg': [0.7163, 0.307], '0002.jpg': [0.7114, 0.3135], '0001.jpg': [0.7603, 0.3066]}\n",
      "prompt:  prompt19\n",
      "{'0003.jpg': [0.793, 0.3052], '0000.jpg': [0.7593, 0.2832], '0002.jpg': [0.7163, 0.2932], '0001.jpg': [0.776, 0.2886]}\n",
      "prompt:  prompt10\n",
      "{'0003.jpg': [0.4937, 0.2854], '0000.jpg': [0.473, 0.2617], '0002.jpg': [0.6274, 0.33], '0001.jpg': [0.7065, 0.3557]}\n",
      "prompt:  prompt2\n",
      "{'0003.jpg': [0.737, 0.3118], '0000.jpg': [0.745, 0.3086], '0002.jpg': [0.708, 0.291], '0001.jpg': [0.732, 0.2932]}\n",
      "prompt:  prompt15\n",
      "{'0003.jpg': [0.751, 0.3484], '0000.jpg': [0.72, 0.3403], '0002.jpg': [0.74, 0.327], '0001.jpg': [0.7524, 0.3416]}\n",
      "prompt:  prompt22\n",
      "{'0003.jpg': [0.4885, 0.2286], '0000.jpg': [0.4714, 0.2106], '0002.jpg': [0.515, 0.232], '0001.jpg': [0.4773, 0.2146]}\n",
      "prompt:  prompt1\n",
      "{'0003.jpg': [0.7046, 0.278], '0000.jpg': [0.685, 0.313], '0002.jpg': [0.5664, 0.273], '0001.jpg': [0.692, 0.296]}\n",
      "prompt:  prompt14\n",
      "{'0003.jpg': [0.652, 0.2605], '0000.jpg': [0.684, 0.2683], '0002.jpg': [0.6455, 0.281], '0001.jpg': [0.629, 0.2732]}\n",
      "prompt:  prompt6\n",
      "{'0003.jpg': [0.751, 0.2903], '0000.jpg': [0.781, 0.325], '0002.jpg': [0.6953, 0.3699], '0001.jpg': [0.735, 0.3252]}\n",
      "prompt:  prompt5\n",
      "{'0003.jpg': [0.813, 0.2888], '0000.jpg': [0.7866, 0.3008], '0002.jpg': [0.795, 0.289], '0001.jpg': [0.8037, 0.2878]}\n",
      "prompt:  prompt11\n",
      "{'0003.jpg': [0.6924, 0.3262], '0000.jpg': [0.727, 0.3535], '0002.jpg': [0.6855, 0.3237], '0001.jpg': [0.6484, 0.3267]}\n",
      "prompt:  prompt7\n",
      "{'0003.jpg': [0.6675, 0.343], '0000.jpg': [0.6074, 0.3494], '0002.jpg': [0.728, 0.295], '0001.jpg': [0.605, 0.3362]}\n",
      "prompt:  prompt21\n",
      "{'0003.jpg': [0.7847, 0.3115], '0000.jpg': [0.742, 0.2715], '0002.jpg': [0.46, 0.3005], '0001.jpg': [0.4634, 0.3115]}\n",
      "prompt:  prompt12\n",
      "{'0003.jpg': [0.711, 0.3494], '0000.jpg': [0.7188, 0.3555], '0002.jpg': [0.709, 0.3464], '0001.jpg': [0.6685, 0.342]}\n",
      "prompt:  prompt20\n",
      "{'0003.jpg': [0.801, 0.2712], '0000.jpg': [0.6367, 0.2993], '0002.jpg': [0.5522, 0.2598], '0001.jpg': [0.8276, 0.2769]}\n",
      "prompt:  prompt4\n",
      "{'0003.jpg': [0.7754, 0.305], '0000.jpg': [0.749, 0.2382], '0002.jpg': [0.795, 0.2612], '0001.jpg': [0.8184, 0.2595]}\n",
      "prompt:  prompt3\n",
      "{'0003.jpg': [0.575, 0.3381], '0000.jpg': [0.6167, 0.3674], '0002.jpg': [0.653, 0.3672], '0001.jpg': [0.686, 0.3564]}\n",
      "prompt:  prompt23\n",
      "{'0003.jpg': [0.647, 0.2426], '0000.jpg': [0.644, 0.2673], '0002.jpg': [0.787, 0.2808], '0001.jpg': [0.5825, 0.2605]}\n",
      "prompt:  prompt0\n",
      "{'0003.jpg': [0.644, 0.2646], '0000.jpg': [0.5293, 0.2534], '0002.jpg': [0.715, 0.2817], '0001.jpg': [0.747, 0.2903]}\n",
      "prompt:  prompt18\n",
      "{'0003.jpg': [0.768, 0.3447], '0000.jpg': [0.714, 0.312], '0002.jpg': [0.7646, 0.332], '0001.jpg': [0.722, 0.355]}\n",
      "prompt:  prompt16\n",
      "{'0003.jpg': [0.708, 0.2722], '0000.jpg': [0.7715, 0.3386], '0002.jpg': [0.7866, 0.267], '0001.jpg': [0.621, 0.2322]}\n",
      "prompt:  prompt24\n",
      "{'0003.jpg': [0.7017, 0.3403], '0000.jpg': [0.6846, 0.3613], '0002.jpg': [0.6436, 0.3215], '0001.jpg': [0.7354, 0.3364]}\n",
      "prompt:  prompt9\n",
      "{'0003.jpg': [0.7246, 0.3374], '0000.jpg': [0.789, 0.35], '0002.jpg': [0.7534, 0.3774], '0001.jpg': [0.765, 0.3152]}\n",
      "process subject:  elephant\n",
      "prompt:  prompt13\n",
      "{'0003.jpg': [0.6523, 0.3296], '0000.jpg': [0.6177, 0.3306], '0002.jpg': [0.6694, 0.3079], '0001.jpg': [0.605, 0.315]}\n",
      "prompt:  prompt8\n",
      "{'0003.jpg': [0.6045, 0.3462], '0000.jpg': [0.7856, 0.225], '0002.jpg': [0.7085, 0.253], '0001.jpg': [0.897, 0.2094]}\n",
      "prompt:  prompt17\n",
      "{'0003.jpg': [0.673, 0.2666], '0000.jpg': [0.727, 0.2416], '0002.jpg': [0.597, 0.2524], '0001.jpg': [0.5547, 0.2737]}\n",
      "prompt:  prompt19\n",
      "{'0003.jpg': [0.8535, 0.228], '0000.jpg': [0.8574, 0.2527], '0002.jpg': [0.7495, 0.2603], '0001.jpg': [0.7705, 0.2666]}\n",
      "prompt:  prompt10\n",
      "{'0003.jpg': [0.4978, 0.2957], '0000.jpg': [0.5195, 0.355], '0002.jpg': [0.5605, 0.3462], '0001.jpg': [0.4504, 0.2693]}\n",
      "prompt:  prompt2\n",
      "{'0003.jpg': [0.576, 0.328], '0000.jpg': [0.598, 0.3152], '0002.jpg': [0.7637, 0.2844], '0001.jpg': [0.529, 0.3203]}\n",
      "prompt:  prompt15\n",
      "{'0003.jpg': [0.549, 0.3386], '0000.jpg': [0.6353, 0.3655], '0002.jpg': [0.6333, 0.3313], '0001.jpg': [0.632, 0.319]}\n",
      "prompt:  prompt22\n",
      "{'0003.jpg': [0.8804, 0.258], '0000.jpg': [0.8716, 0.2666], '0002.jpg': [0.892, 0.2588], '0001.jpg': [0.8584, 0.2588]}\n",
      "prompt:  prompt1\n",
      "{'0003.jpg': [0.607, 0.289], '0000.jpg': [0.575, 0.3071], '0002.jpg': [0.4011, 0.3015], '0001.jpg': [0.5615, 0.3157]}\n",
      "prompt:  prompt14\n",
      "{'0003.jpg': [0.8877, 0.208], '0000.jpg': [0.868, 0.237], '0002.jpg': [0.8887, 0.2032], '0001.jpg': [0.6978, 0.3]}\n",
      "prompt:  prompt6\n",
      "{'0003.jpg': [0.735, 0.263], '0000.jpg': [0.5723, 0.2856], '0002.jpg': [0.7837, 0.2754], '0001.jpg': [0.7236, 0.2937]}\n",
      "prompt:  prompt5\n",
      "{'0003.jpg': [0.841, 0.2527], '0000.jpg': [0.8447, 0.269], '0002.jpg': [0.7993, 0.2996], '0001.jpg': [0.8423, 0.2832]}\n",
      "prompt:  prompt11\n",
      "{'0003.jpg': [0.5063, 0.2869], '0000.jpg': [0.5234, 0.3162], '0002.jpg': [0.526, 0.3113], '0001.jpg': [0.4578, 0.2969]}\n",
      "prompt:  prompt7\n",
      "{'0003.jpg': [0.762, 0.2617], '0000.jpg': [0.6147, 0.2925], '0002.jpg': [0.6255, 0.2893], '0001.jpg': [0.662, 0.274]}\n",
      "prompt:  prompt21\n",
      "{'0003.jpg': [0.863, 0.28], '0000.jpg': [0.821, 0.2441], '0002.jpg': [0.8774, 0.2715], '0001.jpg': [0.7837, 0.2869]}\n",
      "prompt:  prompt12\n",
      "{'0003.jpg': [0.525, 0.3208], '0000.jpg': [0.5776, 0.3208], '0002.jpg': [0.53, 0.2805], '0001.jpg': [0.505, 0.3008]}\n",
      "prompt:  prompt20\n",
      "{'0003.jpg': [0.833, 0.252], '0000.jpg': [0.815, 0.2688], '0002.jpg': [0.869, 0.2544], '0001.jpg': [0.8936, 0.2428]}\n",
      "prompt:  prompt4\n",
      "{'0003.jpg': [0.8423, 0.2148], '0000.jpg': [0.8745, 0.2294], '0002.jpg': [0.8755, 0.2205], '0001.jpg': [0.863, 0.2632]}\n",
      "prompt:  prompt3\n",
      "{'0003.jpg': [0.518, 0.3633], '0000.jpg': [0.636, 0.3313], '0002.jpg': [0.6196, 0.343], '0001.jpg': [0.744, 0.3103]}\n",
      "prompt:  prompt23\n",
      "{'0003.jpg': [0.8906, 0.191], '0000.jpg': [0.8276, 0.2354], '0002.jpg': [0.7324, 0.2773], '0001.jpg': [0.8374, 0.2092]}\n",
      "prompt:  prompt0\n",
      "{'0003.jpg': [0.6533, 0.3225], '0000.jpg': [0.712, 0.3176], '0002.jpg': [0.766, 0.2979], '0001.jpg': [0.772, 0.2944]}\n",
      "prompt:  prompt18\n",
      "{'0003.jpg': [0.664, 0.2773], '0000.jpg': [0.716, 0.2292], '0002.jpg': [0.5996, 0.2925], '0001.jpg': [0.667, 0.2588]}\n",
      "prompt:  prompt16\n",
      "{'0003.jpg': [0.6875, 0.2844], '0000.jpg': [0.6895, 0.3167], '0002.jpg': [0.7397, 0.3188], '0001.jpg': [0.644, 0.2966]}\n",
      "prompt:  prompt24\n",
      "{'0003.jpg': [0.721, 0.285], '0000.jpg': [0.733, 0.3167], '0002.jpg': [0.725, 0.304], '0001.jpg': [0.757, 0.3237]}\n",
      "prompt:  prompt9\n",
      "{'0003.jpg': [0.648, 0.3586], '0000.jpg': [0.8164, 0.317], '0002.jpg': [0.738, 0.339], '0001.jpg': [0.77, 0.3306]}\n"
     ]
    }
   ],
   "source": [
    "outputs_path = \"../../outputs/subjects/dreambooth\"\n",
    "eval_res_path = \"../../eval_results/subjects/dreambooth\"\n",
    "dataset_path = \"../../pcs_dataset/subjects\"\n",
    "dataset_info_path = \"../../pcs_dataset/info.json\"\n",
    "\n",
    "prompts_info, prompts = get_subjects_prompts_info(dataset_info_path)\n",
    "\n",
    "subjects_list = os.listdir(outputs_path)\n",
    "\n",
    "evaluation_res = dict()\n",
    "for subject in subjects_list:\n",
    "    print(\"process subject: \", subject)\n",
    "\n",
    "    res_for_each_subject =dict()\n",
    "\n",
    "    for sub_dir in os.listdir(os.path.join(outputs_path, subject)):\n",
    "        print(\"prompt: \", sub_dir)\n",
    "\n",
    "        prompt = prompts[prompts_info[subject][\"prompt_type\"]][extract_id(sub_dir)]\n",
    "        prompt = prompt.replace(\"{0} {1}\", prompts_info[subject][\"class\"])\n",
    "        res_for_each_prompt =dict()\n",
    "\n",
    "        for generate_img_name in os.listdir(os.path.join(outputs_path, subject, sub_dir)):\n",
    "            generate_img_path = os.path.join(outputs_path, subject, sub_dir, generate_img_name)\n",
    "            res_for_each_prompt[generate_img_name] = [evaluate_i2i(generate_img_path, os.path.join(dataset_path, subject)), evaluate_t2i(generate_img_path, prompt)]\n",
    "        \n",
    "        res_for_each_subject[prompt] = res_for_each_prompt\n",
    "\n",
    "        print(res_for_each_prompt)\n",
    "\n",
    "    evaluation_res[subject] = res_for_each_subject\n",
    "\n",
    "os.makedirs(eval_res_path, exist_ok=True)\n",
    "\n",
    "with open(os.path.join(eval_res_path, \"evaluation_results.json\"), \"w\") as json_file:\n",
    "    json.dump(convert_to_native(evaluation_res), json_file, indent=4)"
   ]
  },
  {
   "cell_type": "code",
   "execution_count": null,
   "metadata": {},
   "outputs": [],
   "source": []
  }
 ],
 "metadata": {
  "kernelspec": {
   "display_name": "pcs",
   "language": "python",
   "name": "python3"
  },
  "language_info": {
   "codemirror_mode": {
    "name": "ipython",
    "version": 3
   },
   "file_extension": ".py",
   "mimetype": "text/x-python",
   "name": "python",
   "nbconvert_exporter": "python",
   "pygments_lexer": "ipython3",
   "version": "3.8.19"
  }
 },
 "nbformat": 4,
 "nbformat_minor": 2
}
