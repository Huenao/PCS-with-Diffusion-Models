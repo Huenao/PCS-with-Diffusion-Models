{
 "cells": [
  {
   "cell_type": "markdown",
   "metadata": {},
   "source": [
    "## Generate images for evaluation"
   ]
  },
  {
   "cell_type": "code",
   "execution_count": 1,
   "metadata": {},
   "outputs": [
    {
     "name": "stderr",
     "output_type": "stream",
     "text": [
      "/home/huwentao/anaconda3/envs/pcs/lib/python3.8/site-packages/tqdm/auto.py:21: TqdmWarning: IProgress not found. Please update jupyter and ipywidgets. See https://ipywidgets.readthedocs.io/en/stable/user_install.html\n",
      "  from .autonotebook import tqdm as notebook_tqdm\n",
      "/home/huwentao/anaconda3/envs/pcs/lib/python3.8/site-packages/diffusers/models/transformers/transformer_2d.py:34: FutureWarning: `Transformer2DModelOutput` is deprecated and will be removed in version 1.0.0. Importing `Transformer2DModelOutput` from `diffusers.models.transformer_2d` is deprecated and this will be removed in a future version. Please use `from diffusers.models.modeling_outputs import Transformer2DModelOutput`, instead.\n",
      "  deprecate(\"Transformer2DModelOutput\", \"1.0.0\", deprecation_message)\n",
      "Loading pipeline components...: 100%|██████████| 7/7 [00:00<00:00,  8.28it/s]\n"
     ]
    },
    {
     "name": "stdout",
     "output_type": "stream",
     "text": [
      "prompt:  a <new1> in the jungle\n"
     ]
    },
    {
     "name": "stderr",
     "output_type": "stream",
     "text": [
      "100%|██████████| 50/50 [00:06<00:00,  8.25it/s]\n"
     ]
    },
    {
     "name": "stdout",
     "output_type": "stream",
     "text": [
      "prompt:  a <new1> in the snow\n"
     ]
    },
    {
     "name": "stderr",
     "output_type": "stream",
     "text": [
      "100%|██████████| 50/50 [00:05<00:00,  8.49it/s]\n"
     ]
    },
    {
     "name": "stdout",
     "output_type": "stream",
     "text": [
      "prompt:  a <new1> on the beach\n"
     ]
    },
    {
     "name": "stderr",
     "output_type": "stream",
     "text": [
      "100%|██████████| 50/50 [00:05<00:00,  8.51it/s]\n"
     ]
    },
    {
     "name": "stdout",
     "output_type": "stream",
     "text": [
      "prompt:  a <new1> on a cobblestone street\n"
     ]
    },
    {
     "name": "stderr",
     "output_type": "stream",
     "text": [
      "100%|██████████| 50/50 [00:05<00:00,  8.51it/s]\n"
     ]
    },
    {
     "name": "stdout",
     "output_type": "stream",
     "text": [
      "prompt:  a <new1> on top of pink fabric\n"
     ]
    },
    {
     "name": "stderr",
     "output_type": "stream",
     "text": [
      "100%|██████████| 50/50 [00:05<00:00,  8.44it/s]\n",
      "Potential NSFW content was detected in one or more images. A black image will be returned instead. Try again with a different prompt and/or seed.\n"
     ]
    },
    {
     "name": "stdout",
     "output_type": "stream",
     "text": [
      "prompt:  a <new1> on top of a wooden floor\n"
     ]
    },
    {
     "name": "stderr",
     "output_type": "stream",
     "text": [
      "100%|██████████| 50/50 [00:05<00:00,  8.39it/s]\n"
     ]
    },
    {
     "name": "stdout",
     "output_type": "stream",
     "text": [
      "prompt:  a <new1> with a city in the background\n"
     ]
    },
    {
     "name": "stderr",
     "output_type": "stream",
     "text": [
      "100%|██████████| 50/50 [00:05<00:00,  8.36it/s]\n"
     ]
    },
    {
     "name": "stdout",
     "output_type": "stream",
     "text": [
      "prompt:  a <new1> with a mountain in the background\n"
     ]
    },
    {
     "name": "stderr",
     "output_type": "stream",
     "text": [
      "100%|██████████| 50/50 [00:05<00:00,  8.35it/s]\n"
     ]
    },
    {
     "name": "stdout",
     "output_type": "stream",
     "text": [
      "prompt:  a <new1> with a blue house in the background\n"
     ]
    },
    {
     "name": "stderr",
     "output_type": "stream",
     "text": [
      "100%|██████████| 50/50 [00:06<00:00,  8.33it/s]\n"
     ]
    },
    {
     "name": "stdout",
     "output_type": "stream",
     "text": [
      "prompt:  a <new1> on top of a purple rug in a forest\n"
     ]
    },
    {
     "name": "stderr",
     "output_type": "stream",
     "text": [
      "100%|██████████| 50/50 [00:06<00:00,  8.31it/s]\n"
     ]
    },
    {
     "name": "stdout",
     "output_type": "stream",
     "text": [
      "prompt:  a <new1> with a wheat field in the background\n"
     ]
    },
    {
     "name": "stderr",
     "output_type": "stream",
     "text": [
      "100%|██████████| 50/50 [00:06<00:00,  8.31it/s]\n",
      "Potential NSFW content was detected in one or more images. A black image will be returned instead. Try again with a different prompt and/or seed.\n"
     ]
    },
    {
     "name": "stdout",
     "output_type": "stream",
     "text": [
      "prompt:  a <new1> with a tree and autumn leaves in the background\n"
     ]
    },
    {
     "name": "stderr",
     "output_type": "stream",
     "text": [
      "100%|██████████| 50/50 [00:06<00:00,  8.30it/s]\n"
     ]
    },
    {
     "name": "stdout",
     "output_type": "stream",
     "text": [
      "prompt:  a <new1> with the Eiffel Tower in the background\n"
     ]
    },
    {
     "name": "stderr",
     "output_type": "stream",
     "text": [
      "100%|██████████| 50/50 [00:10<00:00,  4.61it/s]\n"
     ]
    },
    {
     "name": "stdout",
     "output_type": "stream",
     "text": [
      "prompt:  a <new1> floating on top of water\n"
     ]
    },
    {
     "name": "stderr",
     "output_type": "stream",
     "text": [
      "100%|██████████| 50/50 [00:13<00:00,  3.82it/s]\n"
     ]
    },
    {
     "name": "stdout",
     "output_type": "stream",
     "text": [
      "prompt:  a <new1> floating in an ocean of milk\n"
     ]
    },
    {
     "name": "stderr",
     "output_type": "stream",
     "text": [
      "100%|██████████| 50/50 [00:13<00:00,  3.81it/s]\n"
     ]
    },
    {
     "name": "stdout",
     "output_type": "stream",
     "text": [
      "prompt:  a <new1> on top of green grass with sunflowers around it\n"
     ]
    },
    {
     "name": "stderr",
     "output_type": "stream",
     "text": [
      "100%|██████████| 50/50 [00:13<00:00,  3.82it/s]\n"
     ]
    },
    {
     "name": "stdout",
     "output_type": "stream",
     "text": [
      "prompt:  a <new1> on top of a mirror\n"
     ]
    },
    {
     "name": "stderr",
     "output_type": "stream",
     "text": [
      "100%|██████████| 50/50 [00:13<00:00,  3.81it/s]\n"
     ]
    },
    {
     "name": "stdout",
     "output_type": "stream",
     "text": [
      "prompt:  a <new1> on top of the sidewalk in a crowded street\n"
     ]
    },
    {
     "name": "stderr",
     "output_type": "stream",
     "text": [
      "100%|██████████| 50/50 [00:13<00:00,  3.80it/s]\n"
     ]
    },
    {
     "name": "stdout",
     "output_type": "stream",
     "text": [
      "prompt:  a <new1> on top of a dirt road\n"
     ]
    },
    {
     "name": "stderr",
     "output_type": "stream",
     "text": [
      "100%|██████████| 50/50 [00:13<00:00,  3.80it/s]\n"
     ]
    },
    {
     "name": "stdout",
     "output_type": "stream",
     "text": [
      "prompt:  a <new1> on top of a white rug\n"
     ]
    },
    {
     "name": "stderr",
     "output_type": "stream",
     "text": [
      "100%|██████████| 50/50 [00:13<00:00,  3.84it/s]\n"
     ]
    },
    {
     "name": "stdout",
     "output_type": "stream",
     "text": [
      "prompt:  a red <new1>\n"
     ]
    },
    {
     "name": "stderr",
     "output_type": "stream",
     "text": [
      "100%|██████████| 50/50 [00:13<00:00,  3.80it/s]\n"
     ]
    },
    {
     "name": "stdout",
     "output_type": "stream",
     "text": [
      "prompt:  a purple <new1>\n"
     ]
    },
    {
     "name": "stderr",
     "output_type": "stream",
     "text": [
      "100%|██████████| 50/50 [00:13<00:00,  3.80it/s]\n",
      "Potential NSFW content was detected in one or more images. A black image will be returned instead. Try again with a different prompt and/or seed.\n"
     ]
    },
    {
     "name": "stdout",
     "output_type": "stream",
     "text": [
      "prompt:  a shiny <new1>\n"
     ]
    },
    {
     "name": "stderr",
     "output_type": "stream",
     "text": [
      "100%|██████████| 50/50 [00:13<00:00,  3.80it/s]\n"
     ]
    },
    {
     "name": "stdout",
     "output_type": "stream",
     "text": [
      "prompt:  a wet <new1>\n"
     ]
    },
    {
     "name": "stderr",
     "output_type": "stream",
     "text": [
      "100%|██████████| 50/50 [00:13<00:00,  3.83it/s]\n"
     ]
    },
    {
     "name": "stdout",
     "output_type": "stream",
     "text": [
      "prompt:  a cube shaped <new1>\n"
     ]
    },
    {
     "name": "stderr",
     "output_type": "stream",
     "text": [
      "100%|██████████| 50/50 [00:13<00:00,  3.80it/s]\n"
     ]
    },
    {
     "name": "stdout",
     "output_type": "stream",
     "text": [
      "Finished textual inversion in subject: pink_sunglasses!\n"
     ]
    },
    {
     "name": "stderr",
     "output_type": "stream",
     "text": [
      "Loading pipeline components...: 100%|██████████| 7/7 [00:00<00:00,  7.44it/s]\n"
     ]
    },
    {
     "name": "stdout",
     "output_type": "stream",
     "text": [
      "prompt:  a <new1> in the jungle\n"
     ]
    },
    {
     "name": "stderr",
     "output_type": "stream",
     "text": [
      "100%|██████████| 50/50 [00:13<00:00,  3.79it/s]\n"
     ]
    },
    {
     "name": "stdout",
     "output_type": "stream",
     "text": [
      "prompt:  a <new1> in the snow\n"
     ]
    },
    {
     "name": "stderr",
     "output_type": "stream",
     "text": [
      "100%|██████████| 50/50 [00:13<00:00,  3.83it/s]\n"
     ]
    },
    {
     "name": "stdout",
     "output_type": "stream",
     "text": [
      "prompt:  a <new1> on the beach\n"
     ]
    },
    {
     "name": "stderr",
     "output_type": "stream",
     "text": [
      "100%|██████████| 50/50 [00:13<00:00,  3.80it/s]\n"
     ]
    },
    {
     "name": "stdout",
     "output_type": "stream",
     "text": [
      "prompt:  a <new1> on a cobblestone street\n"
     ]
    },
    {
     "name": "stderr",
     "output_type": "stream",
     "text": [
      "100%|██████████| 50/50 [00:13<00:00,  3.79it/s]\n"
     ]
    },
    {
     "name": "stdout",
     "output_type": "stream",
     "text": [
      "prompt:  a <new1> on top of pink fabric\n"
     ]
    },
    {
     "name": "stderr",
     "output_type": "stream",
     "text": [
      "100%|██████████| 50/50 [00:13<00:00,  3.83it/s]\n"
     ]
    },
    {
     "name": "stdout",
     "output_type": "stream",
     "text": [
      "prompt:  a <new1> on top of a wooden floor\n"
     ]
    },
    {
     "name": "stderr",
     "output_type": "stream",
     "text": [
      "100%|██████████| 50/50 [00:13<00:00,  3.80it/s]\n"
     ]
    },
    {
     "name": "stdout",
     "output_type": "stream",
     "text": [
      "prompt:  a <new1> with a city in the background\n"
     ]
    },
    {
     "name": "stderr",
     "output_type": "stream",
     "text": [
      "100%|██████████| 50/50 [00:13<00:00,  3.79it/s]\n"
     ]
    },
    {
     "name": "stdout",
     "output_type": "stream",
     "text": [
      "prompt:  a <new1> with a mountain in the background\n"
     ]
    },
    {
     "name": "stderr",
     "output_type": "stream",
     "text": [
      "100%|██████████| 50/50 [00:13<00:00,  3.80it/s]\n"
     ]
    },
    {
     "name": "stdout",
     "output_type": "stream",
     "text": [
      "prompt:  a <new1> with a blue house in the background\n"
     ]
    },
    {
     "name": "stderr",
     "output_type": "stream",
     "text": [
      "100%|██████████| 50/50 [00:13<00:00,  3.83it/s]\n"
     ]
    },
    {
     "name": "stdout",
     "output_type": "stream",
     "text": [
      "prompt:  a <new1> on top of a purple rug in a forest\n"
     ]
    },
    {
     "name": "stderr",
     "output_type": "stream",
     "text": [
      "100%|██████████| 50/50 [00:13<00:00,  3.80it/s]\n",
      "Potential NSFW content was detected in one or more images. A black image will be returned instead. Try again with a different prompt and/or seed.\n"
     ]
    },
    {
     "name": "stdout",
     "output_type": "stream",
     "text": [
      "prompt:  a <new1> with a wheat field in the background\n"
     ]
    },
    {
     "name": "stderr",
     "output_type": "stream",
     "text": [
      "100%|██████████| 50/50 [00:13<00:00,  3.80it/s]\n"
     ]
    },
    {
     "name": "stdout",
     "output_type": "stream",
     "text": [
      "prompt:  a <new1> with a tree and autumn leaves in the background\n"
     ]
    },
    {
     "name": "stderr",
     "output_type": "stream",
     "text": [
      "100%|██████████| 50/50 [00:13<00:00,  3.80it/s]\n"
     ]
    },
    {
     "name": "stdout",
     "output_type": "stream",
     "text": [
      "prompt:  a <new1> with the Eiffel Tower in the background\n"
     ]
    },
    {
     "name": "stderr",
     "output_type": "stream",
     "text": [
      "100%|██████████| 50/50 [00:13<00:00,  3.84it/s]\n"
     ]
    },
    {
     "name": "stdout",
     "output_type": "stream",
     "text": [
      "prompt:  a <new1> floating on top of water\n"
     ]
    },
    {
     "name": "stderr",
     "output_type": "stream",
     "text": [
      "100%|██████████| 50/50 [00:13<00:00,  3.79it/s]\n"
     ]
    },
    {
     "name": "stdout",
     "output_type": "stream",
     "text": [
      "prompt:  a <new1> floating in an ocean of milk\n"
     ]
    },
    {
     "name": "stderr",
     "output_type": "stream",
     "text": [
      "100%|██████████| 50/50 [00:13<00:00,  3.80it/s]\n"
     ]
    },
    {
     "name": "stdout",
     "output_type": "stream",
     "text": [
      "prompt:  a <new1> on top of green grass with sunflowers around it\n"
     ]
    },
    {
     "name": "stderr",
     "output_type": "stream",
     "text": [
      "100%|██████████| 50/50 [00:13<00:00,  3.84it/s]\n"
     ]
    },
    {
     "name": "stdout",
     "output_type": "stream",
     "text": [
      "prompt:  a <new1> on top of a mirror\n"
     ]
    },
    {
     "name": "stderr",
     "output_type": "stream",
     "text": [
      "100%|██████████| 50/50 [00:13<00:00,  3.79it/s]\n"
     ]
    },
    {
     "name": "stdout",
     "output_type": "stream",
     "text": [
      "prompt:  a <new1> on top of the sidewalk in a crowded street\n"
     ]
    },
    {
     "name": "stderr",
     "output_type": "stream",
     "text": [
      "100%|██████████| 50/50 [00:13<00:00,  3.79it/s]\n"
     ]
    },
    {
     "name": "stdout",
     "output_type": "stream",
     "text": [
      "prompt:  a <new1> on top of a dirt road\n"
     ]
    },
    {
     "name": "stderr",
     "output_type": "stream",
     "text": [
      "100%|██████████| 50/50 [00:13<00:00,  3.79it/s]\n"
     ]
    },
    {
     "name": "stdout",
     "output_type": "stream",
     "text": [
      "prompt:  a <new1> on top of a white rug\n"
     ]
    },
    {
     "name": "stderr",
     "output_type": "stream",
     "text": [
      "100%|██████████| 50/50 [00:13<00:00,  3.82it/s]\n"
     ]
    },
    {
     "name": "stdout",
     "output_type": "stream",
     "text": [
      "prompt:  a red <new1>\n"
     ]
    },
    {
     "name": "stderr",
     "output_type": "stream",
     "text": [
      "100%|██████████| 50/50 [00:13<00:00,  3.78it/s]\n"
     ]
    },
    {
     "name": "stdout",
     "output_type": "stream",
     "text": [
      "prompt:  a purple <new1>\n"
     ]
    },
    {
     "name": "stderr",
     "output_type": "stream",
     "text": [
      "100%|██████████| 50/50 [00:13<00:00,  3.79it/s]\n"
     ]
    },
    {
     "name": "stdout",
     "output_type": "stream",
     "text": [
      "prompt:  a shiny <new1>\n"
     ]
    },
    {
     "name": "stderr",
     "output_type": "stream",
     "text": [
      "100%|██████████| 50/50 [00:13<00:00,  3.83it/s]\n"
     ]
    },
    {
     "name": "stdout",
     "output_type": "stream",
     "text": [
      "prompt:  a wet <new1>\n"
     ]
    },
    {
     "name": "stderr",
     "output_type": "stream",
     "text": [
      "100%|██████████| 50/50 [00:13<00:00,  3.81it/s]\n"
     ]
    },
    {
     "name": "stdout",
     "output_type": "stream",
     "text": [
      "prompt:  a cube shaped <new1>\n"
     ]
    },
    {
     "name": "stderr",
     "output_type": "stream",
     "text": [
      "100%|██████████| 50/50 [00:13<00:00,  3.78it/s]\n"
     ]
    },
    {
     "name": "stdout",
     "output_type": "stream",
     "text": [
      "Finished textual inversion in subject: backpack!\n"
     ]
    },
    {
     "name": "stderr",
     "output_type": "stream",
     "text": [
      "Loading pipeline components...: 100%|██████████| 7/7 [00:00<00:00,  7.93it/s]\n"
     ]
    },
    {
     "name": "stdout",
     "output_type": "stream",
     "text": [
      "prompt:  a <new1> in the jungle\n"
     ]
    },
    {
     "name": "stderr",
     "output_type": "stream",
     "text": [
      "100%|██████████| 50/50 [00:13<00:00,  3.82it/s]\n"
     ]
    },
    {
     "name": "stdout",
     "output_type": "stream",
     "text": [
      "prompt:  a <new1> in the snow\n"
     ]
    },
    {
     "name": "stderr",
     "output_type": "stream",
     "text": [
      "100%|██████████| 50/50 [00:13<00:00,  3.78it/s]\n"
     ]
    },
    {
     "name": "stdout",
     "output_type": "stream",
     "text": [
      "prompt:  a <new1> on the beach\n"
     ]
    },
    {
     "name": "stderr",
     "output_type": "stream",
     "text": [
      "100%|██████████| 50/50 [00:13<00:00,  3.79it/s]\n"
     ]
    },
    {
     "name": "stdout",
     "output_type": "stream",
     "text": [
      "prompt:  a <new1> on a cobblestone street\n"
     ]
    },
    {
     "name": "stderr",
     "output_type": "stream",
     "text": [
      "100%|██████████| 50/50 [00:13<00:00,  3.78it/s]\n"
     ]
    },
    {
     "name": "stdout",
     "output_type": "stream",
     "text": [
      "prompt:  a <new1> on top of pink fabric\n"
     ]
    },
    {
     "name": "stderr",
     "output_type": "stream",
     "text": [
      "100%|██████████| 50/50 [00:13<00:00,  3.82it/s]\n"
     ]
    },
    {
     "name": "stdout",
     "output_type": "stream",
     "text": [
      "prompt:  a <new1> on top of a wooden floor\n"
     ]
    },
    {
     "name": "stderr",
     "output_type": "stream",
     "text": [
      "100%|██████████| 50/50 [00:13<00:00,  3.79it/s]\n"
     ]
    },
    {
     "name": "stdout",
     "output_type": "stream",
     "text": [
      "prompt:  a <new1> with a city in the background\n"
     ]
    },
    {
     "name": "stderr",
     "output_type": "stream",
     "text": [
      "100%|██████████| 50/50 [00:13<00:00,  3.79it/s]\n",
      "Potential NSFW content was detected in one or more images. A black image will be returned instead. Try again with a different prompt and/or seed.\n"
     ]
    },
    {
     "name": "stdout",
     "output_type": "stream",
     "text": [
      "prompt:  a <new1> with a mountain in the background\n"
     ]
    },
    {
     "name": "stderr",
     "output_type": "stream",
     "text": [
      "100%|██████████| 50/50 [00:13<00:00,  3.79it/s]\n"
     ]
    },
    {
     "name": "stdout",
     "output_type": "stream",
     "text": [
      "prompt:  a <new1> with a blue house in the background\n"
     ]
    },
    {
     "name": "stderr",
     "output_type": "stream",
     "text": [
      "100%|██████████| 50/50 [00:13<00:00,  3.80it/s]\n"
     ]
    },
    {
     "name": "stdout",
     "output_type": "stream",
     "text": [
      "prompt:  a <new1> on top of a purple rug in a forest\n"
     ]
    },
    {
     "name": "stderr",
     "output_type": "stream",
     "text": [
      "100%|██████████| 50/50 [00:13<00:00,  3.79it/s]\n"
     ]
    },
    {
     "name": "stdout",
     "output_type": "stream",
     "text": [
      "prompt:  a <new1> with a wheat field in the background\n"
     ]
    },
    {
     "name": "stderr",
     "output_type": "stream",
     "text": [
      "100%|██████████| 50/50 [00:13<00:00,  3.80it/s]\n"
     ]
    },
    {
     "name": "stdout",
     "output_type": "stream",
     "text": [
      "prompt:  a <new1> with a tree and autumn leaves in the background\n"
     ]
    },
    {
     "name": "stderr",
     "output_type": "stream",
     "text": [
      "100%|██████████| 50/50 [00:13<00:00,  3.84it/s]\n",
      "Potential NSFW content was detected in one or more images. A black image will be returned instead. Try again with a different prompt and/or seed.\n"
     ]
    },
    {
     "name": "stdout",
     "output_type": "stream",
     "text": [
      "prompt:  a <new1> with the Eiffel Tower in the background\n"
     ]
    },
    {
     "name": "stderr",
     "output_type": "stream",
     "text": [
      "100%|██████████| 50/50 [00:13<00:00,  3.80it/s]\n"
     ]
    },
    {
     "name": "stdout",
     "output_type": "stream",
     "text": [
      "prompt:  a <new1> floating on top of water\n"
     ]
    },
    {
     "name": "stderr",
     "output_type": "stream",
     "text": [
      "100%|██████████| 50/50 [00:13<00:00,  3.80it/s]\n"
     ]
    },
    {
     "name": "stdout",
     "output_type": "stream",
     "text": [
      "prompt:  a <new1> floating in an ocean of milk\n"
     ]
    },
    {
     "name": "stderr",
     "output_type": "stream",
     "text": [
      "100%|██████████| 50/50 [00:13<00:00,  3.78it/s]\n"
     ]
    },
    {
     "name": "stdout",
     "output_type": "stream",
     "text": [
      "prompt:  a <new1> on top of green grass with sunflowers around it\n"
     ]
    },
    {
     "name": "stderr",
     "output_type": "stream",
     "text": [
      "100%|██████████| 50/50 [00:13<00:00,  3.83it/s]\n"
     ]
    },
    {
     "name": "stdout",
     "output_type": "stream",
     "text": [
      "prompt:  a <new1> on top of a mirror\n"
     ]
    },
    {
     "name": "stderr",
     "output_type": "stream",
     "text": [
      "100%|██████████| 50/50 [00:13<00:00,  3.80it/s]\n"
     ]
    },
    {
     "name": "stdout",
     "output_type": "stream",
     "text": [
      "prompt:  a <new1> on top of the sidewalk in a crowded street\n"
     ]
    },
    {
     "name": "stderr",
     "output_type": "stream",
     "text": [
      "100%|██████████| 50/50 [00:13<00:00,  3.81it/s]\n"
     ]
    },
    {
     "name": "stdout",
     "output_type": "stream",
     "text": [
      "prompt:  a <new1> on top of a dirt road\n"
     ]
    },
    {
     "name": "stderr",
     "output_type": "stream",
     "text": [
      "100%|██████████| 50/50 [00:13<00:00,  3.85it/s]\n"
     ]
    },
    {
     "name": "stdout",
     "output_type": "stream",
     "text": [
      "prompt:  a <new1> on top of a white rug\n"
     ]
    },
    {
     "name": "stderr",
     "output_type": "stream",
     "text": [
      "100%|██████████| 50/50 [00:13<00:00,  3.81it/s]\n"
     ]
    },
    {
     "name": "stdout",
     "output_type": "stream",
     "text": [
      "prompt:  a red <new1>\n"
     ]
    },
    {
     "name": "stderr",
     "output_type": "stream",
     "text": [
      "100%|██████████| 50/50 [00:13<00:00,  3.81it/s]\n"
     ]
    },
    {
     "name": "stdout",
     "output_type": "stream",
     "text": [
      "prompt:  a purple <new1>\n"
     ]
    },
    {
     "name": "stderr",
     "output_type": "stream",
     "text": [
      "100%|██████████| 50/50 [00:13<00:00,  3.80it/s]\n"
     ]
    },
    {
     "name": "stdout",
     "output_type": "stream",
     "text": [
      "prompt:  a shiny <new1>\n"
     ]
    },
    {
     "name": "stderr",
     "output_type": "stream",
     "text": [
      "100%|██████████| 50/50 [00:12<00:00,  3.85it/s]\n"
     ]
    },
    {
     "name": "stdout",
     "output_type": "stream",
     "text": [
      "prompt:  a wet <new1>\n"
     ]
    },
    {
     "name": "stderr",
     "output_type": "stream",
     "text": [
      "100%|██████████| 50/50 [00:13<00:00,  3.81it/s]\n"
     ]
    },
    {
     "name": "stdout",
     "output_type": "stream",
     "text": [
      "prompt:  a cube shaped <new1>\n"
     ]
    },
    {
     "name": "stderr",
     "output_type": "stream",
     "text": [
      "100%|██████████| 50/50 [00:13<00:00,  3.80it/s]\n"
     ]
    },
    {
     "name": "stdout",
     "output_type": "stream",
     "text": [
      "Finished textual inversion in subject: mug_skulls!\n"
     ]
    },
    {
     "name": "stderr",
     "output_type": "stream",
     "text": [
      "Loading pipeline components...: 100%|██████████| 7/7 [00:00<00:00,  7.44it/s]\n"
     ]
    },
    {
     "name": "stdout",
     "output_type": "stream",
     "text": [
      "prompt:  a <new1> in the jungle\n"
     ]
    },
    {
     "name": "stderr",
     "output_type": "stream",
     "text": [
      "100%|██████████| 50/50 [00:13<00:00,  3.84it/s]\n"
     ]
    },
    {
     "name": "stdout",
     "output_type": "stream",
     "text": [
      "prompt:  a <new1> in the snow\n"
     ]
    },
    {
     "name": "stderr",
     "output_type": "stream",
     "text": [
      "100%|██████████| 50/50 [00:13<00:00,  3.80it/s]\n",
      "Potential NSFW content was detected in one or more images. A black image will be returned instead. Try again with a different prompt and/or seed.\n"
     ]
    },
    {
     "name": "stdout",
     "output_type": "stream",
     "text": [
      "prompt:  a <new1> on the beach\n"
     ]
    },
    {
     "name": "stderr",
     "output_type": "stream",
     "text": [
      "100%|██████████| 50/50 [00:13<00:00,  3.81it/s]\n"
     ]
    },
    {
     "name": "stdout",
     "output_type": "stream",
     "text": [
      "prompt:  a <new1> on a cobblestone street\n"
     ]
    },
    {
     "name": "stderr",
     "output_type": "stream",
     "text": [
      "100%|██████████| 50/50 [00:13<00:00,  3.80it/s]\n"
     ]
    },
    {
     "name": "stdout",
     "output_type": "stream",
     "text": [
      "prompt:  a <new1> on top of pink fabric\n"
     ]
    },
    {
     "name": "stderr",
     "output_type": "stream",
     "text": [
      "100%|██████████| 50/50 [00:13<00:00,  3.85it/s]\n"
     ]
    },
    {
     "name": "stdout",
     "output_type": "stream",
     "text": [
      "prompt:  a <new1> on top of a wooden floor\n"
     ]
    },
    {
     "name": "stderr",
     "output_type": "stream",
     "text": [
      "100%|██████████| 50/50 [00:13<00:00,  3.80it/s]\n"
     ]
    },
    {
     "name": "stdout",
     "output_type": "stream",
     "text": [
      "prompt:  a <new1> with a city in the background\n"
     ]
    },
    {
     "name": "stderr",
     "output_type": "stream",
     "text": [
      "100%|██████████| 50/50 [00:13<00:00,  3.80it/s]\n"
     ]
    },
    {
     "name": "stdout",
     "output_type": "stream",
     "text": [
      "prompt:  a <new1> with a mountain in the background\n"
     ]
    },
    {
     "name": "stderr",
     "output_type": "stream",
     "text": [
      "100%|██████████| 50/50 [00:13<00:00,  3.84it/s]\n"
     ]
    },
    {
     "name": "stdout",
     "output_type": "stream",
     "text": [
      "prompt:  a <new1> with a blue house in the background\n"
     ]
    },
    {
     "name": "stderr",
     "output_type": "stream",
     "text": [
      "100%|██████████| 50/50 [00:13<00:00,  3.80it/s]\n"
     ]
    },
    {
     "name": "stdout",
     "output_type": "stream",
     "text": [
      "prompt:  a <new1> on top of a purple rug in a forest\n"
     ]
    },
    {
     "name": "stderr",
     "output_type": "stream",
     "text": [
      "100%|██████████| 50/50 [00:13<00:00,  3.80it/s]\n"
     ]
    },
    {
     "name": "stdout",
     "output_type": "stream",
     "text": [
      "prompt:  a <new1> with a wheat field in the background\n"
     ]
    },
    {
     "name": "stderr",
     "output_type": "stream",
     "text": [
      "100%|██████████| 50/50 [00:13<00:00,  3.80it/s]\n"
     ]
    },
    {
     "name": "stdout",
     "output_type": "stream",
     "text": [
      "prompt:  a <new1> with a tree and autumn leaves in the background\n"
     ]
    },
    {
     "name": "stderr",
     "output_type": "stream",
     "text": [
      "100%|██████████| 50/50 [00:13<00:00,  3.84it/s]\n"
     ]
    },
    {
     "name": "stdout",
     "output_type": "stream",
     "text": [
      "prompt:  a <new1> with the Eiffel Tower in the background\n"
     ]
    },
    {
     "name": "stderr",
     "output_type": "stream",
     "text": [
      "100%|██████████| 50/50 [00:13<00:00,  3.79it/s]\n"
     ]
    },
    {
     "name": "stdout",
     "output_type": "stream",
     "text": [
      "prompt:  a <new1> floating on top of water\n"
     ]
    },
    {
     "name": "stderr",
     "output_type": "stream",
     "text": [
      "100%|██████████| 50/50 [00:13<00:00,  3.80it/s]\n"
     ]
    },
    {
     "name": "stdout",
     "output_type": "stream",
     "text": [
      "prompt:  a <new1> floating in an ocean of milk\n"
     ]
    },
    {
     "name": "stderr",
     "output_type": "stream",
     "text": [
      "100%|██████████| 50/50 [00:13<00:00,  3.83it/s]\n"
     ]
    },
    {
     "name": "stdout",
     "output_type": "stream",
     "text": [
      "prompt:  a <new1> on top of green grass with sunflowers around it\n"
     ]
    },
    {
     "name": "stderr",
     "output_type": "stream",
     "text": [
      "100%|██████████| 50/50 [00:13<00:00,  3.79it/s]\n"
     ]
    },
    {
     "name": "stdout",
     "output_type": "stream",
     "text": [
      "prompt:  a <new1> on top of a mirror\n"
     ]
    },
    {
     "name": "stderr",
     "output_type": "stream",
     "text": [
      "100%|██████████| 50/50 [00:13<00:00,  3.80it/s]\n"
     ]
    },
    {
     "name": "stdout",
     "output_type": "stream",
     "text": [
      "prompt:  a <new1> on top of the sidewalk in a crowded street\n"
     ]
    },
    {
     "name": "stderr",
     "output_type": "stream",
     "text": [
      "100%|██████████| 50/50 [00:13<00:00,  3.79it/s]\n"
     ]
    },
    {
     "name": "stdout",
     "output_type": "stream",
     "text": [
      "prompt:  a <new1> on top of a dirt road\n"
     ]
    },
    {
     "name": "stderr",
     "output_type": "stream",
     "text": [
      "100%|██████████| 50/50 [00:13<00:00,  3.83it/s]\n"
     ]
    },
    {
     "name": "stdout",
     "output_type": "stream",
     "text": [
      "prompt:  a <new1> on top of a white rug\n"
     ]
    },
    {
     "name": "stderr",
     "output_type": "stream",
     "text": [
      "100%|██████████| 50/50 [00:13<00:00,  3.80it/s]\n"
     ]
    },
    {
     "name": "stdout",
     "output_type": "stream",
     "text": [
      "prompt:  a red <new1>\n"
     ]
    },
    {
     "name": "stderr",
     "output_type": "stream",
     "text": [
      "100%|██████████| 50/50 [00:13<00:00,  3.80it/s]\n"
     ]
    },
    {
     "name": "stdout",
     "output_type": "stream",
     "text": [
      "prompt:  a purple <new1>\n"
     ]
    },
    {
     "name": "stderr",
     "output_type": "stream",
     "text": [
      "100%|██████████| 50/50 [00:13<00:00,  3.79it/s]\n"
     ]
    },
    {
     "name": "stdout",
     "output_type": "stream",
     "text": [
      "prompt:  a shiny <new1>\n"
     ]
    },
    {
     "name": "stderr",
     "output_type": "stream",
     "text": [
      "100%|██████████| 50/50 [00:13<00:00,  3.83it/s]\n"
     ]
    },
    {
     "name": "stdout",
     "output_type": "stream",
     "text": [
      "prompt:  a wet <new1>\n"
     ]
    },
    {
     "name": "stderr",
     "output_type": "stream",
     "text": [
      "100%|██████████| 50/50 [00:13<00:00,  3.80it/s]\n"
     ]
    },
    {
     "name": "stdout",
     "output_type": "stream",
     "text": [
      "prompt:  a cube shaped <new1>\n"
     ]
    },
    {
     "name": "stderr",
     "output_type": "stream",
     "text": [
      "100%|██████████| 50/50 [00:13<00:00,  3.80it/s]\n"
     ]
    },
    {
     "name": "stdout",
     "output_type": "stream",
     "text": [
      "Finished textual inversion in subject: red_teapot!\n"
     ]
    },
    {
     "name": "stderr",
     "output_type": "stream",
     "text": [
      "Loading pipeline components...: 100%|██████████| 7/7 [00:00<00:00,  7.18it/s]\n"
     ]
    },
    {
     "name": "stdout",
     "output_type": "stream",
     "text": [
      "prompt:  a <new1> in the jungle\n"
     ]
    },
    {
     "name": "stderr",
     "output_type": "stream",
     "text": [
      "100%|██████████| 50/50 [00:09<00:00,  5.50it/s]\n"
     ]
    },
    {
     "name": "stdout",
     "output_type": "stream",
     "text": [
      "prompt:  a <new1> in the snow\n"
     ]
    },
    {
     "name": "stderr",
     "output_type": "stream",
     "text": [
      "100%|██████████| 50/50 [00:13<00:00,  3.80it/s]\n"
     ]
    },
    {
     "name": "stdout",
     "output_type": "stream",
     "text": [
      "prompt:  a <new1> on the beach\n"
     ]
    },
    {
     "name": "stderr",
     "output_type": "stream",
     "text": [
      "100%|██████████| 50/50 [00:13<00:00,  3.80it/s]\n"
     ]
    },
    {
     "name": "stdout",
     "output_type": "stream",
     "text": [
      "prompt:  a <new1> on a cobblestone street\n"
     ]
    },
    {
     "name": "stderr",
     "output_type": "stream",
     "text": [
      "100%|██████████| 50/50 [00:13<00:00,  3.81it/s]\n"
     ]
    },
    {
     "name": "stdout",
     "output_type": "stream",
     "text": [
      "prompt:  a <new1> on top of pink fabric\n"
     ]
    },
    {
     "name": "stderr",
     "output_type": "stream",
     "text": [
      "100%|██████████| 50/50 [00:13<00:00,  3.84it/s]\n"
     ]
    },
    {
     "name": "stdout",
     "output_type": "stream",
     "text": [
      "prompt:  a <new1> on top of a wooden floor\n"
     ]
    },
    {
     "name": "stderr",
     "output_type": "stream",
     "text": [
      "100%|██████████| 50/50 [00:13<00:00,  3.80it/s]\n"
     ]
    },
    {
     "name": "stdout",
     "output_type": "stream",
     "text": [
      "prompt:  a <new1> with a city in the background\n"
     ]
    },
    {
     "name": "stderr",
     "output_type": "stream",
     "text": [
      "100%|██████████| 50/50 [00:13<00:00,  3.80it/s]\n"
     ]
    },
    {
     "name": "stdout",
     "output_type": "stream",
     "text": [
      "prompt:  a <new1> with a mountain in the background\n"
     ]
    },
    {
     "name": "stderr",
     "output_type": "stream",
     "text": [
      "100%|██████████| 50/50 [00:13<00:00,  3.83it/s]\n"
     ]
    },
    {
     "name": "stdout",
     "output_type": "stream",
     "text": [
      "prompt:  a <new1> with a blue house in the background\n"
     ]
    },
    {
     "name": "stderr",
     "output_type": "stream",
     "text": [
      "100%|██████████| 50/50 [00:13<00:00,  3.80it/s]\n"
     ]
    },
    {
     "name": "stdout",
     "output_type": "stream",
     "text": [
      "prompt:  a <new1> on top of a purple rug in a forest\n"
     ]
    },
    {
     "name": "stderr",
     "output_type": "stream",
     "text": [
      "100%|██████████| 50/50 [00:13<00:00,  3.80it/s]\n"
     ]
    },
    {
     "name": "stdout",
     "output_type": "stream",
     "text": [
      "prompt:  a <new1> with a wheat field in the background\n"
     ]
    },
    {
     "name": "stderr",
     "output_type": "stream",
     "text": [
      "100%|██████████| 50/50 [00:13<00:00,  3.80it/s]\n"
     ]
    },
    {
     "name": "stdout",
     "output_type": "stream",
     "text": [
      "prompt:  a <new1> with a tree and autumn leaves in the background\n"
     ]
    },
    {
     "name": "stderr",
     "output_type": "stream",
     "text": [
      "100%|██████████| 50/50 [00:13<00:00,  3.84it/s]\n"
     ]
    },
    {
     "name": "stdout",
     "output_type": "stream",
     "text": [
      "prompt:  a <new1> with the Eiffel Tower in the background\n"
     ]
    },
    {
     "name": "stderr",
     "output_type": "stream",
     "text": [
      "100%|██████████| 50/50 [00:13<00:00,  3.80it/s]\n"
     ]
    },
    {
     "name": "stdout",
     "output_type": "stream",
     "text": [
      "prompt:  a <new1> floating on top of water\n"
     ]
    },
    {
     "name": "stderr",
     "output_type": "stream",
     "text": [
      "100%|██████████| 50/50 [00:13<00:00,  3.80it/s]\n"
     ]
    },
    {
     "name": "stdout",
     "output_type": "stream",
     "text": [
      "prompt:  a <new1> floating in an ocean of milk\n"
     ]
    },
    {
     "name": "stderr",
     "output_type": "stream",
     "text": [
      "100%|██████████| 50/50 [00:13<00:00,  3.80it/s]\n"
     ]
    },
    {
     "name": "stdout",
     "output_type": "stream",
     "text": [
      "prompt:  a <new1> on top of green grass with sunflowers around it\n"
     ]
    },
    {
     "name": "stderr",
     "output_type": "stream",
     "text": [
      "100%|██████████| 50/50 [00:13<00:00,  3.84it/s]\n"
     ]
    },
    {
     "name": "stdout",
     "output_type": "stream",
     "text": [
      "prompt:  a <new1> on top of a mirror\n"
     ]
    },
    {
     "name": "stderr",
     "output_type": "stream",
     "text": [
      "100%|██████████| 50/50 [00:13<00:00,  3.80it/s]\n"
     ]
    },
    {
     "name": "stdout",
     "output_type": "stream",
     "text": [
      "prompt:  a <new1> on top of the sidewalk in a crowded street\n"
     ]
    },
    {
     "name": "stderr",
     "output_type": "stream",
     "text": [
      "100%|██████████| 50/50 [00:13<00:00,  3.80it/s]\n"
     ]
    },
    {
     "name": "stdout",
     "output_type": "stream",
     "text": [
      "prompt:  a <new1> on top of a dirt road\n"
     ]
    },
    {
     "name": "stderr",
     "output_type": "stream",
     "text": [
      "100%|██████████| 50/50 [00:13<00:00,  3.84it/s]\n"
     ]
    },
    {
     "name": "stdout",
     "output_type": "stream",
     "text": [
      "prompt:  a <new1> on top of a white rug\n"
     ]
    },
    {
     "name": "stderr",
     "output_type": "stream",
     "text": [
      "100%|██████████| 50/50 [00:13<00:00,  3.80it/s]\n"
     ]
    },
    {
     "name": "stdout",
     "output_type": "stream",
     "text": [
      "prompt:  a red <new1>\n"
     ]
    },
    {
     "name": "stderr",
     "output_type": "stream",
     "text": [
      "100%|██████████| 50/50 [00:13<00:00,  3.80it/s]\n"
     ]
    },
    {
     "name": "stdout",
     "output_type": "stream",
     "text": [
      "prompt:  a purple <new1>\n"
     ]
    },
    {
     "name": "stderr",
     "output_type": "stream",
     "text": [
      "100%|██████████| 50/50 [00:13<00:00,  3.80it/s]\n"
     ]
    },
    {
     "name": "stdout",
     "output_type": "stream",
     "text": [
      "prompt:  a shiny <new1>\n"
     ]
    },
    {
     "name": "stderr",
     "output_type": "stream",
     "text": [
      "100%|██████████| 50/50 [00:13<00:00,  3.84it/s]\n"
     ]
    },
    {
     "name": "stdout",
     "output_type": "stream",
     "text": [
      "prompt:  a wet <new1>\n"
     ]
    },
    {
     "name": "stderr",
     "output_type": "stream",
     "text": [
      "100%|██████████| 50/50 [00:13<00:00,  3.79it/s]\n"
     ]
    },
    {
     "name": "stdout",
     "output_type": "stream",
     "text": [
      "prompt:  a cube shaped <new1>\n"
     ]
    },
    {
     "name": "stderr",
     "output_type": "stream",
     "text": [
      "100%|██████████| 50/50 [00:13<00:00,  3.80it/s]\n"
     ]
    },
    {
     "name": "stdout",
     "output_type": "stream",
     "text": [
      "Finished textual inversion in subject: colorful_sneaker!\n"
     ]
    },
    {
     "name": "stderr",
     "output_type": "stream",
     "text": [
      "Loading pipeline components...: 100%|██████████| 7/7 [00:00<00:00,  7.41it/s]\n"
     ]
    },
    {
     "name": "stdout",
     "output_type": "stream",
     "text": [
      "prompt:  a <new1> in the jungle\n"
     ]
    },
    {
     "name": "stderr",
     "output_type": "stream",
     "text": [
      "100%|██████████| 50/50 [00:13<00:00,  3.83it/s]\n"
     ]
    },
    {
     "name": "stdout",
     "output_type": "stream",
     "text": [
      "prompt:  a <new1> in the snow\n"
     ]
    },
    {
     "name": "stderr",
     "output_type": "stream",
     "text": [
      "100%|██████████| 50/50 [00:13<00:00,  3.80it/s]\n"
     ]
    },
    {
     "name": "stdout",
     "output_type": "stream",
     "text": [
      "prompt:  a <new1> on the beach\n"
     ]
    },
    {
     "name": "stderr",
     "output_type": "stream",
     "text": [
      "100%|██████████| 50/50 [00:13<00:00,  3.80it/s]\n"
     ]
    },
    {
     "name": "stdout",
     "output_type": "stream",
     "text": [
      "prompt:  a <new1> on a cobblestone street\n"
     ]
    },
    {
     "name": "stderr",
     "output_type": "stream",
     "text": [
      "100%|██████████| 50/50 [00:13<00:00,  3.83it/s]\n"
     ]
    },
    {
     "name": "stdout",
     "output_type": "stream",
     "text": [
      "prompt:  a <new1> on top of pink fabric\n"
     ]
    },
    {
     "name": "stderr",
     "output_type": "stream",
     "text": [
      "100%|██████████| 50/50 [00:13<00:00,  3.80it/s]\n"
     ]
    },
    {
     "name": "stdout",
     "output_type": "stream",
     "text": [
      "prompt:  a <new1> on top of a wooden floor\n"
     ]
    },
    {
     "name": "stderr",
     "output_type": "stream",
     "text": [
      "100%|██████████| 50/50 [00:13<00:00,  3.80it/s]\n"
     ]
    },
    {
     "name": "stdout",
     "output_type": "stream",
     "text": [
      "prompt:  a <new1> with a city in the background\n"
     ]
    },
    {
     "name": "stderr",
     "output_type": "stream",
     "text": [
      "100%|██████████| 50/50 [00:13<00:00,  3.80it/s]\n"
     ]
    },
    {
     "name": "stdout",
     "output_type": "stream",
     "text": [
      "prompt:  a <new1> with a mountain in the background\n"
     ]
    },
    {
     "name": "stderr",
     "output_type": "stream",
     "text": [
      "100%|██████████| 50/50 [00:12<00:00,  3.85it/s]\n"
     ]
    },
    {
     "name": "stdout",
     "output_type": "stream",
     "text": [
      "prompt:  a <new1> with a blue house in the background\n"
     ]
    },
    {
     "name": "stderr",
     "output_type": "stream",
     "text": [
      "100%|██████████| 50/50 [00:13<00:00,  3.80it/s]\n"
     ]
    },
    {
     "name": "stdout",
     "output_type": "stream",
     "text": [
      "prompt:  a <new1> on top of a purple rug in a forest\n"
     ]
    },
    {
     "name": "stderr",
     "output_type": "stream",
     "text": [
      "100%|██████████| 50/50 [00:13<00:00,  3.81it/s]\n",
      "Potential NSFW content was detected in one or more images. A black image will be returned instead. Try again with a different prompt and/or seed.\n"
     ]
    },
    {
     "name": "stdout",
     "output_type": "stream",
     "text": [
      "prompt:  a <new1> with a wheat field in the background\n"
     ]
    },
    {
     "name": "stderr",
     "output_type": "stream",
     "text": [
      "100%|██████████| 50/50 [00:13<00:00,  3.80it/s]\n"
     ]
    },
    {
     "name": "stdout",
     "output_type": "stream",
     "text": [
      "prompt:  a <new1> with a tree and autumn leaves in the background\n"
     ]
    },
    {
     "name": "stderr",
     "output_type": "stream",
     "text": [
      "100%|██████████| 50/50 [00:12<00:00,  3.85it/s]\n"
     ]
    },
    {
     "name": "stdout",
     "output_type": "stream",
     "text": [
      "prompt:  a <new1> with the Eiffel Tower in the background\n"
     ]
    },
    {
     "name": "stderr",
     "output_type": "stream",
     "text": [
      "100%|██████████| 50/50 [00:13<00:00,  3.80it/s]\n"
     ]
    },
    {
     "name": "stdout",
     "output_type": "stream",
     "text": [
      "prompt:  a <new1> floating on top of water\n"
     ]
    },
    {
     "name": "stderr",
     "output_type": "stream",
     "text": [
      "100%|██████████| 50/50 [00:13<00:00,  3.80it/s]\n"
     ]
    },
    {
     "name": "stdout",
     "output_type": "stream",
     "text": [
      "prompt:  a <new1> floating in an ocean of milk\n"
     ]
    },
    {
     "name": "stderr",
     "output_type": "stream",
     "text": [
      "100%|██████████| 50/50 [00:13<00:00,  3.84it/s]\n"
     ]
    },
    {
     "name": "stdout",
     "output_type": "stream",
     "text": [
      "prompt:  a <new1> on top of green grass with sunflowers around it\n"
     ]
    },
    {
     "name": "stderr",
     "output_type": "stream",
     "text": [
      "100%|██████████| 50/50 [00:13<00:00,  3.80it/s]\n"
     ]
    },
    {
     "name": "stdout",
     "output_type": "stream",
     "text": [
      "prompt:  a <new1> on top of a mirror\n"
     ]
    },
    {
     "name": "stderr",
     "output_type": "stream",
     "text": [
      "100%|██████████| 50/50 [00:13<00:00,  3.80it/s]\n"
     ]
    },
    {
     "name": "stdout",
     "output_type": "stream",
     "text": [
      "prompt:  a <new1> on top of the sidewalk in a crowded street\n"
     ]
    },
    {
     "name": "stderr",
     "output_type": "stream",
     "text": [
      "100%|██████████| 50/50 [00:13<00:00,  3.80it/s]\n"
     ]
    },
    {
     "name": "stdout",
     "output_type": "stream",
     "text": [
      "prompt:  a <new1> on top of a dirt road\n"
     ]
    },
    {
     "name": "stderr",
     "output_type": "stream",
     "text": [
      "100%|██████████| 50/50 [00:13<00:00,  3.84it/s]\n"
     ]
    },
    {
     "name": "stdout",
     "output_type": "stream",
     "text": [
      "prompt:  a <new1> on top of a white rug\n"
     ]
    },
    {
     "name": "stderr",
     "output_type": "stream",
     "text": [
      "100%|██████████| 50/50 [00:13<00:00,  3.80it/s]\n"
     ]
    },
    {
     "name": "stdout",
     "output_type": "stream",
     "text": [
      "prompt:  a red <new1>\n"
     ]
    },
    {
     "name": "stderr",
     "output_type": "stream",
     "text": [
      "100%|██████████| 50/50 [00:13<00:00,  3.80it/s]\n"
     ]
    },
    {
     "name": "stdout",
     "output_type": "stream",
     "text": [
      "prompt:  a purple <new1>\n"
     ]
    },
    {
     "name": "stderr",
     "output_type": "stream",
     "text": [
      "100%|██████████| 50/50 [00:13<00:00,  3.84it/s]\n",
      "Potential NSFW content was detected in one or more images. A black image will be returned instead. Try again with a different prompt and/or seed.\n"
     ]
    },
    {
     "name": "stdout",
     "output_type": "stream",
     "text": [
      "prompt:  a shiny <new1>\n"
     ]
    },
    {
     "name": "stderr",
     "output_type": "stream",
     "text": [
      "100%|██████████| 50/50 [00:13<00:00,  3.80it/s]\n"
     ]
    },
    {
     "name": "stdout",
     "output_type": "stream",
     "text": [
      "prompt:  a wet <new1>\n"
     ]
    },
    {
     "name": "stderr",
     "output_type": "stream",
     "text": [
      "100%|██████████| 50/50 [00:13<00:00,  3.80it/s]\n",
      "Potential NSFW content was detected in one or more images. A black image will be returned instead. Try again with a different prompt and/or seed.\n"
     ]
    },
    {
     "name": "stdout",
     "output_type": "stream",
     "text": [
      "prompt:  a cube shaped <new1>\n"
     ]
    },
    {
     "name": "stderr",
     "output_type": "stream",
     "text": [
      "100%|██████████| 50/50 [00:13<00:00,  3.80it/s]\n"
     ]
    },
    {
     "name": "stdout",
     "output_type": "stream",
     "text": [
      "Finished textual inversion in subject: vase!\n"
     ]
    },
    {
     "name": "stderr",
     "output_type": "stream",
     "text": [
      "Loading pipeline components...: 100%|██████████| 7/7 [00:00<00:00,  7.57it/s]\n"
     ]
    },
    {
     "name": "stdout",
     "output_type": "stream",
     "text": [
      "prompt:  a <new1> in the jungle\n"
     ]
    },
    {
     "name": "stderr",
     "output_type": "stream",
     "text": [
      "100%|██████████| 50/50 [00:13<00:00,  3.81it/s]\n"
     ]
    },
    {
     "name": "stdout",
     "output_type": "stream",
     "text": [
      "prompt:  a <new1> in the snow\n"
     ]
    },
    {
     "name": "stderr",
     "output_type": "stream",
     "text": [
      "100%|██████████| 50/50 [00:13<00:00,  3.80it/s]\n"
     ]
    },
    {
     "name": "stdout",
     "output_type": "stream",
     "text": [
      "prompt:  a <new1> on the beach\n"
     ]
    },
    {
     "name": "stderr",
     "output_type": "stream",
     "text": [
      "100%|██████████| 50/50 [00:13<00:00,  3.81it/s]\n"
     ]
    },
    {
     "name": "stdout",
     "output_type": "stream",
     "text": [
      "prompt:  a <new1> on a cobblestone street\n"
     ]
    },
    {
     "name": "stderr",
     "output_type": "stream",
     "text": [
      "100%|██████████| 50/50 [00:12<00:00,  3.85it/s]\n"
     ]
    },
    {
     "name": "stdout",
     "output_type": "stream",
     "text": [
      "prompt:  a <new1> on top of pink fabric\n"
     ]
    },
    {
     "name": "stderr",
     "output_type": "stream",
     "text": [
      "100%|██████████| 50/50 [00:13<00:00,  3.80it/s]\n"
     ]
    },
    {
     "name": "stdout",
     "output_type": "stream",
     "text": [
      "prompt:  a <new1> on top of a wooden floor\n"
     ]
    },
    {
     "name": "stderr",
     "output_type": "stream",
     "text": [
      "100%|██████████| 50/50 [00:13<00:00,  3.81it/s]\n"
     ]
    },
    {
     "name": "stdout",
     "output_type": "stream",
     "text": [
      "prompt:  a <new1> with a city in the background\n"
     ]
    },
    {
     "name": "stderr",
     "output_type": "stream",
     "text": [
      "100%|██████████| 50/50 [00:13<00:00,  3.80it/s]\n"
     ]
    },
    {
     "name": "stdout",
     "output_type": "stream",
     "text": [
      "prompt:  a <new1> with a mountain in the background\n"
     ]
    },
    {
     "name": "stderr",
     "output_type": "stream",
     "text": [
      "100%|██████████| 50/50 [00:13<00:00,  3.84it/s]\n"
     ]
    },
    {
     "name": "stdout",
     "output_type": "stream",
     "text": [
      "prompt:  a <new1> with a blue house in the background\n"
     ]
    },
    {
     "name": "stderr",
     "output_type": "stream",
     "text": [
      "100%|██████████| 50/50 [00:13<00:00,  3.81it/s]\n"
     ]
    },
    {
     "name": "stdout",
     "output_type": "stream",
     "text": [
      "prompt:  a <new1> on top of a purple rug in a forest\n"
     ]
    },
    {
     "name": "stderr",
     "output_type": "stream",
     "text": [
      "100%|██████████| 50/50 [00:13<00:00,  3.80it/s]\n"
     ]
    },
    {
     "name": "stdout",
     "output_type": "stream",
     "text": [
      "prompt:  a <new1> with a wheat field in the background\n"
     ]
    },
    {
     "name": "stderr",
     "output_type": "stream",
     "text": [
      "100%|██████████| 50/50 [00:13<00:00,  3.84it/s]\n"
     ]
    },
    {
     "name": "stdout",
     "output_type": "stream",
     "text": [
      "prompt:  a <new1> with a tree and autumn leaves in the background\n"
     ]
    },
    {
     "name": "stderr",
     "output_type": "stream",
     "text": [
      "100%|██████████| 50/50 [00:13<00:00,  3.81it/s]\n"
     ]
    },
    {
     "name": "stdout",
     "output_type": "stream",
     "text": [
      "prompt:  a <new1> with the Eiffel Tower in the background\n"
     ]
    },
    {
     "name": "stderr",
     "output_type": "stream",
     "text": [
      "100%|██████████| 50/50 [00:13<00:00,  3.81it/s]\n"
     ]
    },
    {
     "name": "stdout",
     "output_type": "stream",
     "text": [
      "prompt:  a <new1> floating on top of water\n"
     ]
    },
    {
     "name": "stderr",
     "output_type": "stream",
     "text": [
      "100%|██████████| 50/50 [00:13<00:00,  3.81it/s]\n"
     ]
    },
    {
     "name": "stdout",
     "output_type": "stream",
     "text": [
      "prompt:  a <new1> floating in an ocean of milk\n"
     ]
    },
    {
     "name": "stderr",
     "output_type": "stream",
     "text": [
      "100%|██████████| 50/50 [00:13<00:00,  3.84it/s]\n"
     ]
    },
    {
     "name": "stdout",
     "output_type": "stream",
     "text": [
      "prompt:  a <new1> on top of green grass with sunflowers around it\n"
     ]
    },
    {
     "name": "stderr",
     "output_type": "stream",
     "text": [
      "100%|██████████| 50/50 [00:13<00:00,  3.81it/s]\n"
     ]
    },
    {
     "name": "stdout",
     "output_type": "stream",
     "text": [
      "prompt:  a <new1> on top of a mirror\n"
     ]
    },
    {
     "name": "stderr",
     "output_type": "stream",
     "text": [
      "100%|██████████| 50/50 [00:13<00:00,  3.80it/s]\n"
     ]
    },
    {
     "name": "stdout",
     "output_type": "stream",
     "text": [
      "prompt:  a <new1> on top of the sidewalk in a crowded street\n"
     ]
    },
    {
     "name": "stderr",
     "output_type": "stream",
     "text": [
      "100%|██████████| 50/50 [00:13<00:00,  3.81it/s]\n"
     ]
    },
    {
     "name": "stdout",
     "output_type": "stream",
     "text": [
      "prompt:  a <new1> on top of a dirt road\n"
     ]
    },
    {
     "name": "stderr",
     "output_type": "stream",
     "text": [
      "100%|██████████| 50/50 [00:13<00:00,  3.84it/s]\n"
     ]
    },
    {
     "name": "stdout",
     "output_type": "stream",
     "text": [
      "prompt:  a <new1> on top of a white rug\n"
     ]
    },
    {
     "name": "stderr",
     "output_type": "stream",
     "text": [
      "100%|██████████| 50/50 [00:13<00:00,  3.80it/s]\n"
     ]
    },
    {
     "name": "stdout",
     "output_type": "stream",
     "text": [
      "prompt:  a red <new1>\n"
     ]
    },
    {
     "name": "stderr",
     "output_type": "stream",
     "text": [
      "100%|██████████| 50/50 [00:13<00:00,  3.81it/s]\n"
     ]
    },
    {
     "name": "stdout",
     "output_type": "stream",
     "text": [
      "prompt:  a purple <new1>\n"
     ]
    },
    {
     "name": "stderr",
     "output_type": "stream",
     "text": [
      "100%|██████████| 50/50 [00:13<00:00,  3.84it/s]\n"
     ]
    },
    {
     "name": "stdout",
     "output_type": "stream",
     "text": [
      "prompt:  a shiny <new1>\n"
     ]
    },
    {
     "name": "stderr",
     "output_type": "stream",
     "text": [
      "100%|██████████| 50/50 [00:13<00:00,  3.80it/s]\n"
     ]
    },
    {
     "name": "stdout",
     "output_type": "stream",
     "text": [
      "prompt:  a wet <new1>\n"
     ]
    },
    {
     "name": "stderr",
     "output_type": "stream",
     "text": [
      "100%|██████████| 50/50 [00:13<00:00,  3.80it/s]\n"
     ]
    },
    {
     "name": "stdout",
     "output_type": "stream",
     "text": [
      "prompt:  a cube shaped <new1>\n"
     ]
    },
    {
     "name": "stderr",
     "output_type": "stream",
     "text": [
      "100%|██████████| 50/50 [00:13<00:00,  3.80it/s]\n"
     ]
    },
    {
     "name": "stdout",
     "output_type": "stream",
     "text": [
      "Finished textual inversion in subject: duck_toy!\n"
     ]
    },
    {
     "name": "stderr",
     "output_type": "stream",
     "text": [
      "Loading pipeline components...: 100%|██████████| 7/7 [00:00<00:00,  7.45it/s]\n"
     ]
    },
    {
     "name": "stdout",
     "output_type": "stream",
     "text": [
      "prompt:  a <new1> in the jungle\n"
     ]
    },
    {
     "name": "stderr",
     "output_type": "stream",
     "text": [
      "100%|██████████| 50/50 [00:13<00:00,  3.80it/s]\n"
     ]
    },
    {
     "name": "stdout",
     "output_type": "stream",
     "text": [
      "prompt:  a <new1> in the snow\n"
     ]
    },
    {
     "name": "stderr",
     "output_type": "stream",
     "text": [
      "100%|██████████| 50/50 [00:13<00:00,  3.80it/s]\n"
     ]
    },
    {
     "name": "stdout",
     "output_type": "stream",
     "text": [
      "prompt:  a <new1> on the beach\n"
     ]
    },
    {
     "name": "stderr",
     "output_type": "stream",
     "text": [
      "100%|██████████| 50/50 [00:13<00:00,  3.81it/s]\n"
     ]
    },
    {
     "name": "stdout",
     "output_type": "stream",
     "text": [
      "prompt:  a <new1> on a cobblestone street\n"
     ]
    },
    {
     "name": "stderr",
     "output_type": "stream",
     "text": [
      "100%|██████████| 50/50 [00:13<00:00,  3.83it/s]\n"
     ]
    },
    {
     "name": "stdout",
     "output_type": "stream",
     "text": [
      "prompt:  a <new1> on top of pink fabric\n"
     ]
    },
    {
     "name": "stderr",
     "output_type": "stream",
     "text": [
      "100%|██████████| 50/50 [00:13<00:00,  3.80it/s]\n"
     ]
    },
    {
     "name": "stdout",
     "output_type": "stream",
     "text": [
      "prompt:  a <new1> on top of a wooden floor\n"
     ]
    },
    {
     "name": "stderr",
     "output_type": "stream",
     "text": [
      "100%|██████████| 50/50 [00:13<00:00,  3.80it/s]\n"
     ]
    },
    {
     "name": "stdout",
     "output_type": "stream",
     "text": [
      "prompt:  a <new1> with a city in the background\n"
     ]
    },
    {
     "name": "stderr",
     "output_type": "stream",
     "text": [
      "100%|██████████| 50/50 [00:13<00:00,  3.83it/s]\n"
     ]
    },
    {
     "name": "stdout",
     "output_type": "stream",
     "text": [
      "prompt:  a <new1> with a mountain in the background\n"
     ]
    },
    {
     "name": "stderr",
     "output_type": "stream",
     "text": [
      "100%|██████████| 50/50 [00:13<00:00,  3.80it/s]\n"
     ]
    },
    {
     "name": "stdout",
     "output_type": "stream",
     "text": [
      "prompt:  a <new1> with a blue house in the background\n"
     ]
    },
    {
     "name": "stderr",
     "output_type": "stream",
     "text": [
      "100%|██████████| 50/50 [00:13<00:00,  3.80it/s]\n"
     ]
    },
    {
     "name": "stdout",
     "output_type": "stream",
     "text": [
      "prompt:  a <new1> on top of a purple rug in a forest\n"
     ]
    },
    {
     "name": "stderr",
     "output_type": "stream",
     "text": [
      "100%|██████████| 50/50 [00:13<00:00,  3.80it/s]\n"
     ]
    },
    {
     "name": "stdout",
     "output_type": "stream",
     "text": [
      "prompt:  a <new1> with a wheat field in the background\n"
     ]
    },
    {
     "name": "stderr",
     "output_type": "stream",
     "text": [
      "100%|██████████| 50/50 [00:13<00:00,  3.83it/s]\n"
     ]
    },
    {
     "name": "stdout",
     "output_type": "stream",
     "text": [
      "prompt:  a <new1> with a tree and autumn leaves in the background\n"
     ]
    },
    {
     "name": "stderr",
     "output_type": "stream",
     "text": [
      "100%|██████████| 50/50 [00:13<00:00,  3.79it/s]\n"
     ]
    },
    {
     "name": "stdout",
     "output_type": "stream",
     "text": [
      "prompt:  a <new1> with the Eiffel Tower in the background\n"
     ]
    },
    {
     "name": "stderr",
     "output_type": "stream",
     "text": [
      "100%|██████████| 50/50 [00:13<00:00,  3.80it/s]\n"
     ]
    },
    {
     "name": "stdout",
     "output_type": "stream",
     "text": [
      "prompt:  a <new1> floating on top of water\n"
     ]
    },
    {
     "name": "stderr",
     "output_type": "stream",
     "text": [
      "100%|██████████| 50/50 [00:13<00:00,  3.80it/s]\n"
     ]
    },
    {
     "name": "stdout",
     "output_type": "stream",
     "text": [
      "prompt:  a <new1> floating in an ocean of milk\n"
     ]
    },
    {
     "name": "stderr",
     "output_type": "stream",
     "text": [
      "100%|██████████| 50/50 [00:09<00:00,  5.50it/s]\n"
     ]
    },
    {
     "name": "stdout",
     "output_type": "stream",
     "text": [
      "prompt:  a <new1> on top of green grass with sunflowers around it\n"
     ]
    },
    {
     "name": "stderr",
     "output_type": "stream",
     "text": [
      "100%|██████████| 50/50 [00:13<00:00,  3.80it/s]\n"
     ]
    },
    {
     "name": "stdout",
     "output_type": "stream",
     "text": [
      "prompt:  a <new1> on top of a mirror\n"
     ]
    },
    {
     "name": "stderr",
     "output_type": "stream",
     "text": [
      "100%|██████████| 50/50 [00:13<00:00,  3.80it/s]\n"
     ]
    },
    {
     "name": "stdout",
     "output_type": "stream",
     "text": [
      "prompt:  a <new1> on top of the sidewalk in a crowded street\n"
     ]
    },
    {
     "name": "stderr",
     "output_type": "stream",
     "text": [
      "100%|██████████| 50/50 [00:13<00:00,  3.80it/s]\n"
     ]
    },
    {
     "name": "stdout",
     "output_type": "stream",
     "text": [
      "prompt:  a <new1> on top of a dirt road\n"
     ]
    },
    {
     "name": "stderr",
     "output_type": "stream",
     "text": [
      "100%|██████████| 50/50 [00:13<00:00,  3.84it/s]\n"
     ]
    },
    {
     "name": "stdout",
     "output_type": "stream",
     "text": [
      "prompt:  a <new1> on top of a white rug\n"
     ]
    },
    {
     "name": "stderr",
     "output_type": "stream",
     "text": [
      "100%|██████████| 50/50 [00:13<00:00,  3.80it/s]\n"
     ]
    },
    {
     "name": "stdout",
     "output_type": "stream",
     "text": [
      "prompt:  a red <new1>\n"
     ]
    },
    {
     "name": "stderr",
     "output_type": "stream",
     "text": [
      "100%|██████████| 50/50 [00:13<00:00,  3.80it/s]\n"
     ]
    },
    {
     "name": "stdout",
     "output_type": "stream",
     "text": [
      "prompt:  a purple <new1>\n"
     ]
    },
    {
     "name": "stderr",
     "output_type": "stream",
     "text": [
      "100%|██████████| 50/50 [00:13<00:00,  3.84it/s]\n"
     ]
    },
    {
     "name": "stdout",
     "output_type": "stream",
     "text": [
      "prompt:  a shiny <new1>\n"
     ]
    },
    {
     "name": "stderr",
     "output_type": "stream",
     "text": [
      "100%|██████████| 50/50 [00:13<00:00,  3.80it/s]\n"
     ]
    },
    {
     "name": "stdout",
     "output_type": "stream",
     "text": [
      "prompt:  a wet <new1>\n"
     ]
    },
    {
     "name": "stderr",
     "output_type": "stream",
     "text": [
      "100%|██████████| 50/50 [00:13<00:00,  3.80it/s]\n"
     ]
    },
    {
     "name": "stdout",
     "output_type": "stream",
     "text": [
      "prompt:  a cube shaped <new1>\n"
     ]
    },
    {
     "name": "stderr",
     "output_type": "stream",
     "text": [
      "100%|██████████| 50/50 [00:13<00:00,  3.80it/s]\n"
     ]
    },
    {
     "name": "stdout",
     "output_type": "stream",
     "text": [
      "Finished textual inversion in subject: robot_toy!\n"
     ]
    },
    {
     "name": "stderr",
     "output_type": "stream",
     "text": [
      "Loading pipeline components...: 100%|██████████| 7/7 [00:00<00:00,  7.77it/s]\n"
     ]
    },
    {
     "name": "stdout",
     "output_type": "stream",
     "text": [
      "prompt:  a <new1> in the jungle\n"
     ]
    },
    {
     "name": "stderr",
     "output_type": "stream",
     "text": [
      "100%|██████████| 50/50 [00:13<00:00,  3.80it/s]\n",
      "Potential NSFW content was detected in one or more images. A black image will be returned instead. Try again with a different prompt and/or seed.\n"
     ]
    },
    {
     "name": "stdout",
     "output_type": "stream",
     "text": [
      "prompt:  a <new1> in the snow\n"
     ]
    },
    {
     "name": "stderr",
     "output_type": "stream",
     "text": [
      "100%|██████████| 50/50 [00:13<00:00,  3.80it/s]\n"
     ]
    },
    {
     "name": "stdout",
     "output_type": "stream",
     "text": [
      "prompt:  a <new1> on the beach\n"
     ]
    },
    {
     "name": "stderr",
     "output_type": "stream",
     "text": [
      "100%|██████████| 50/50 [00:13<00:00,  3.80it/s]\n"
     ]
    },
    {
     "name": "stdout",
     "output_type": "stream",
     "text": [
      "prompt:  a <new1> on a cobblestone street\n"
     ]
    },
    {
     "name": "stderr",
     "output_type": "stream",
     "text": [
      "100%|██████████| 50/50 [00:13<00:00,  3.84it/s]\n"
     ]
    },
    {
     "name": "stdout",
     "output_type": "stream",
     "text": [
      "prompt:  a <new1> on top of pink fabric\n"
     ]
    },
    {
     "name": "stderr",
     "output_type": "stream",
     "text": [
      "100%|██████████| 50/50 [00:13<00:00,  3.80it/s]\n",
      "Potential NSFW content was detected in one or more images. A black image will be returned instead. Try again with a different prompt and/or seed.\n"
     ]
    },
    {
     "name": "stdout",
     "output_type": "stream",
     "text": [
      "prompt:  a <new1> on top of a wooden floor\n"
     ]
    },
    {
     "name": "stderr",
     "output_type": "stream",
     "text": [
      "100%|██████████| 50/50 [00:13<00:00,  3.80it/s]\n"
     ]
    },
    {
     "name": "stdout",
     "output_type": "stream",
     "text": [
      "prompt:  a <new1> with a city in the background\n"
     ]
    },
    {
     "name": "stderr",
     "output_type": "stream",
     "text": [
      "100%|██████████| 50/50 [00:13<00:00,  3.80it/s]\n"
     ]
    },
    {
     "name": "stdout",
     "output_type": "stream",
     "text": [
      "prompt:  a <new1> with a mountain in the background\n"
     ]
    },
    {
     "name": "stderr",
     "output_type": "stream",
     "text": [
      "100%|██████████| 50/50 [00:13<00:00,  3.84it/s]\n",
      "Potential NSFW content was detected in one or more images. A black image will be returned instead. Try again with a different prompt and/or seed.\n"
     ]
    },
    {
     "name": "stdout",
     "output_type": "stream",
     "text": [
      "prompt:  a <new1> with a blue house in the background\n"
     ]
    },
    {
     "name": "stderr",
     "output_type": "stream",
     "text": [
      "100%|██████████| 50/50 [00:13<00:00,  3.81it/s]\n",
      "Potential NSFW content was detected in one or more images. A black image will be returned instead. Try again with a different prompt and/or seed.\n"
     ]
    },
    {
     "name": "stdout",
     "output_type": "stream",
     "text": [
      "prompt:  a <new1> on top of a purple rug in a forest\n"
     ]
    },
    {
     "name": "stderr",
     "output_type": "stream",
     "text": [
      "100%|██████████| 50/50 [00:13<00:00,  3.80it/s]\n",
      "Potential NSFW content was detected in one or more images. A black image will be returned instead. Try again with a different prompt and/or seed.\n"
     ]
    },
    {
     "name": "stdout",
     "output_type": "stream",
     "text": [
      "prompt:  a <new1> with a wheat field in the background\n"
     ]
    },
    {
     "name": "stderr",
     "output_type": "stream",
     "text": [
      "100%|██████████| 50/50 [00:13<00:00,  3.84it/s]\n"
     ]
    },
    {
     "name": "stdout",
     "output_type": "stream",
     "text": [
      "prompt:  a <new1> with a tree and autumn leaves in the background\n"
     ]
    },
    {
     "name": "stderr",
     "output_type": "stream",
     "text": [
      "100%|██████████| 50/50 [00:13<00:00,  3.79it/s]\n",
      "Potential NSFW content was detected in one or more images. A black image will be returned instead. Try again with a different prompt and/or seed.\n"
     ]
    },
    {
     "name": "stdout",
     "output_type": "stream",
     "text": [
      "prompt:  a <new1> with the Eiffel Tower in the background\n"
     ]
    },
    {
     "name": "stderr",
     "output_type": "stream",
     "text": [
      "100%|██████████| 50/50 [00:13<00:00,  3.81it/s]\n"
     ]
    },
    {
     "name": "stdout",
     "output_type": "stream",
     "text": [
      "prompt:  a <new1> floating on top of water\n"
     ]
    },
    {
     "name": "stderr",
     "output_type": "stream",
     "text": [
      "100%|██████████| 50/50 [00:13<00:00,  3.80it/s]\n"
     ]
    },
    {
     "name": "stdout",
     "output_type": "stream",
     "text": [
      "prompt:  a <new1> floating in an ocean of milk\n"
     ]
    },
    {
     "name": "stderr",
     "output_type": "stream",
     "text": [
      "100%|██████████| 50/50 [00:13<00:00,  3.84it/s]\n"
     ]
    },
    {
     "name": "stdout",
     "output_type": "stream",
     "text": [
      "prompt:  a <new1> on top of green grass with sunflowers around it\n"
     ]
    },
    {
     "name": "stderr",
     "output_type": "stream",
     "text": [
      "100%|██████████| 50/50 [00:13<00:00,  3.80it/s]\n"
     ]
    },
    {
     "name": "stdout",
     "output_type": "stream",
     "text": [
      "prompt:  a <new1> on top of a mirror\n"
     ]
    },
    {
     "name": "stderr",
     "output_type": "stream",
     "text": [
      "100%|██████████| 50/50 [00:13<00:00,  3.80it/s]\n",
      "Potential NSFW content was detected in one or more images. A black image will be returned instead. Try again with a different prompt and/or seed.\n"
     ]
    },
    {
     "name": "stdout",
     "output_type": "stream",
     "text": [
      "prompt:  a <new1> on top of the sidewalk in a crowded street\n"
     ]
    },
    {
     "name": "stderr",
     "output_type": "stream",
     "text": [
      "100%|██████████| 50/50 [00:13<00:00,  3.83it/s]\n"
     ]
    },
    {
     "name": "stdout",
     "output_type": "stream",
     "text": [
      "prompt:  a <new1> on top of a dirt road\n"
     ]
    },
    {
     "name": "stderr",
     "output_type": "stream",
     "text": [
      "100%|██████████| 50/50 [00:13<00:00,  3.80it/s]\n"
     ]
    },
    {
     "name": "stdout",
     "output_type": "stream",
     "text": [
      "prompt:  a <new1> on top of a white rug\n"
     ]
    },
    {
     "name": "stderr",
     "output_type": "stream",
     "text": [
      "100%|██████████| 50/50 [00:13<00:00,  3.80it/s]\n",
      "Potential NSFW content was detected in one or more images. A black image will be returned instead. Try again with a different prompt and/or seed.\n"
     ]
    },
    {
     "name": "stdout",
     "output_type": "stream",
     "text": [
      "prompt:  a red <new1>\n"
     ]
    },
    {
     "name": "stderr",
     "output_type": "stream",
     "text": [
      "100%|██████████| 50/50 [00:13<00:00,  3.80it/s]\n",
      "Potential NSFW content was detected in one or more images. A black image will be returned instead. Try again with a different prompt and/or seed.\n"
     ]
    },
    {
     "name": "stdout",
     "output_type": "stream",
     "text": [
      "prompt:  a purple <new1>\n"
     ]
    },
    {
     "name": "stderr",
     "output_type": "stream",
     "text": [
      "100%|██████████| 50/50 [00:13<00:00,  3.84it/s]\n",
      "Potential NSFW content was detected in one or more images. A black image will be returned instead. Try again with a different prompt and/or seed.\n"
     ]
    },
    {
     "name": "stdout",
     "output_type": "stream",
     "text": [
      "prompt:  a shiny <new1>\n"
     ]
    },
    {
     "name": "stderr",
     "output_type": "stream",
     "text": [
      "100%|██████████| 50/50 [00:13<00:00,  3.80it/s]\n",
      "Potential NSFW content was detected in one or more images. A black image will be returned instead. Try again with a different prompt and/or seed.\n"
     ]
    },
    {
     "name": "stdout",
     "output_type": "stream",
     "text": [
      "prompt:  a wet <new1>\n"
     ]
    },
    {
     "name": "stderr",
     "output_type": "stream",
     "text": [
      "100%|██████████| 50/50 [00:13<00:00,  3.80it/s]\n"
     ]
    },
    {
     "name": "stdout",
     "output_type": "stream",
     "text": [
      "prompt:  a cube shaped <new1>\n"
     ]
    },
    {
     "name": "stderr",
     "output_type": "stream",
     "text": [
      "100%|██████████| 50/50 [00:13<00:00,  3.80it/s]\n"
     ]
    },
    {
     "name": "stdout",
     "output_type": "stream",
     "text": [
      "Finished textual inversion in subject: thin_bird!\n"
     ]
    },
    {
     "name": "stderr",
     "output_type": "stream",
     "text": [
      "Loading pipeline components...: 100%|██████████| 7/7 [00:01<00:00,  6.11it/s]\n"
     ]
    },
    {
     "name": "stdout",
     "output_type": "stream",
     "text": [
      "prompt:  a <new1> in the jungle\n"
     ]
    },
    {
     "name": "stderr",
     "output_type": "stream",
     "text": [
      "100%|██████████| 50/50 [00:13<00:00,  3.80it/s]\n"
     ]
    },
    {
     "name": "stdout",
     "output_type": "stream",
     "text": [
      "prompt:  a <new1> in the snow\n"
     ]
    },
    {
     "name": "stderr",
     "output_type": "stream",
     "text": [
      "100%|██████████| 50/50 [00:13<00:00,  3.81it/s]\n"
     ]
    },
    {
     "name": "stdout",
     "output_type": "stream",
     "text": [
      "prompt:  a <new1> on the beach\n"
     ]
    },
    {
     "name": "stderr",
     "output_type": "stream",
     "text": [
      "100%|██████████| 50/50 [00:13<00:00,  3.79it/s]\n"
     ]
    },
    {
     "name": "stdout",
     "output_type": "stream",
     "text": [
      "prompt:  a <new1> on a cobblestone street\n"
     ]
    },
    {
     "name": "stderr",
     "output_type": "stream",
     "text": [
      "100%|██████████| 50/50 [00:13<00:00,  3.83it/s]\n"
     ]
    },
    {
     "name": "stdout",
     "output_type": "stream",
     "text": [
      "prompt:  a <new1> on top of pink fabric\n"
     ]
    },
    {
     "name": "stderr",
     "output_type": "stream",
     "text": [
      "100%|██████████| 50/50 [00:13<00:00,  3.80it/s]\n"
     ]
    },
    {
     "name": "stdout",
     "output_type": "stream",
     "text": [
      "prompt:  a <new1> on top of a wooden floor\n"
     ]
    },
    {
     "name": "stderr",
     "output_type": "stream",
     "text": [
      "100%|██████████| 50/50 [00:13<00:00,  3.80it/s]\n"
     ]
    },
    {
     "name": "stdout",
     "output_type": "stream",
     "text": [
      "prompt:  a <new1> with a city in the background\n"
     ]
    },
    {
     "name": "stderr",
     "output_type": "stream",
     "text": [
      "100%|██████████| 50/50 [00:13<00:00,  3.83it/s]\n"
     ]
    },
    {
     "name": "stdout",
     "output_type": "stream",
     "text": [
      "prompt:  a <new1> with a mountain in the background\n"
     ]
    },
    {
     "name": "stderr",
     "output_type": "stream",
     "text": [
      "100%|██████████| 50/50 [00:13<00:00,  3.80it/s]\n"
     ]
    },
    {
     "name": "stdout",
     "output_type": "stream",
     "text": [
      "prompt:  a <new1> with a blue house in the background\n"
     ]
    },
    {
     "name": "stderr",
     "output_type": "stream",
     "text": [
      "100%|██████████| 50/50 [00:13<00:00,  3.80it/s]\n"
     ]
    },
    {
     "name": "stdout",
     "output_type": "stream",
     "text": [
      "prompt:  a <new1> on top of a purple rug in a forest\n"
     ]
    },
    {
     "name": "stderr",
     "output_type": "stream",
     "text": [
      "100%|██████████| 50/50 [00:13<00:00,  3.79it/s]\n"
     ]
    },
    {
     "name": "stdout",
     "output_type": "stream",
     "text": [
      "prompt:  a <new1> with a wheat field in the background\n"
     ]
    },
    {
     "name": "stderr",
     "output_type": "stream",
     "text": [
      "100%|██████████| 50/50 [00:13<00:00,  3.84it/s]\n"
     ]
    },
    {
     "name": "stdout",
     "output_type": "stream",
     "text": [
      "prompt:  a <new1> with a tree and autumn leaves in the background\n"
     ]
    },
    {
     "name": "stderr",
     "output_type": "stream",
     "text": [
      "100%|██████████| 50/50 [00:13<00:00,  3.79it/s]\n"
     ]
    },
    {
     "name": "stdout",
     "output_type": "stream",
     "text": [
      "prompt:  a <new1> with the Eiffel Tower in the background\n"
     ]
    },
    {
     "name": "stderr",
     "output_type": "stream",
     "text": [
      "100%|██████████| 50/50 [00:13<00:00,  3.80it/s]\n"
     ]
    },
    {
     "name": "stdout",
     "output_type": "stream",
     "text": [
      "prompt:  a <new1> floating on top of water\n"
     ]
    },
    {
     "name": "stderr",
     "output_type": "stream",
     "text": [
      "100%|██████████| 50/50 [00:13<00:00,  3.83it/s]\n"
     ]
    },
    {
     "name": "stdout",
     "output_type": "stream",
     "text": [
      "prompt:  a <new1> floating in an ocean of milk\n"
     ]
    },
    {
     "name": "stderr",
     "output_type": "stream",
     "text": [
      "100%|██████████| 50/50 [00:13<00:00,  3.79it/s]\n"
     ]
    },
    {
     "name": "stdout",
     "output_type": "stream",
     "text": [
      "prompt:  a <new1> on top of green grass with sunflowers around it\n"
     ]
    },
    {
     "name": "stderr",
     "output_type": "stream",
     "text": [
      "100%|██████████| 50/50 [00:13<00:00,  3.80it/s]\n"
     ]
    },
    {
     "name": "stdout",
     "output_type": "stream",
     "text": [
      "prompt:  a <new1> on top of a mirror\n"
     ]
    },
    {
     "name": "stderr",
     "output_type": "stream",
     "text": [
      "100%|██████████| 50/50 [00:13<00:00,  3.80it/s]\n"
     ]
    },
    {
     "name": "stdout",
     "output_type": "stream",
     "text": [
      "prompt:  a <new1> on top of the sidewalk in a crowded street\n"
     ]
    },
    {
     "name": "stderr",
     "output_type": "stream",
     "text": [
      "100%|██████████| 50/50 [00:13<00:00,  3.83it/s]\n"
     ]
    },
    {
     "name": "stdout",
     "output_type": "stream",
     "text": [
      "prompt:  a <new1> on top of a dirt road\n"
     ]
    },
    {
     "name": "stderr",
     "output_type": "stream",
     "text": [
      "100%|██████████| 50/50 [00:13<00:00,  3.80it/s]\n"
     ]
    },
    {
     "name": "stdout",
     "output_type": "stream",
     "text": [
      "prompt:  a <new1> on top of a white rug\n"
     ]
    },
    {
     "name": "stderr",
     "output_type": "stream",
     "text": [
      "100%|██████████| 50/50 [00:13<00:00,  3.79it/s]\n"
     ]
    },
    {
     "name": "stdout",
     "output_type": "stream",
     "text": [
      "prompt:  a red <new1>\n"
     ]
    },
    {
     "name": "stderr",
     "output_type": "stream",
     "text": [
      "100%|██████████| 50/50 [00:13<00:00,  3.79it/s]\n"
     ]
    },
    {
     "name": "stdout",
     "output_type": "stream",
     "text": [
      "prompt:  a purple <new1>\n"
     ]
    },
    {
     "name": "stderr",
     "output_type": "stream",
     "text": [
      "100%|██████████| 50/50 [00:13<00:00,  3.84it/s]\n"
     ]
    },
    {
     "name": "stdout",
     "output_type": "stream",
     "text": [
      "prompt:  a shiny <new1>\n"
     ]
    },
    {
     "name": "stderr",
     "output_type": "stream",
     "text": [
      "100%|██████████| 50/50 [00:13<00:00,  3.79it/s]\n"
     ]
    },
    {
     "name": "stdout",
     "output_type": "stream",
     "text": [
      "prompt:  a wet <new1>\n"
     ]
    },
    {
     "name": "stderr",
     "output_type": "stream",
     "text": [
      "100%|██████████| 50/50 [00:13<00:00,  3.79it/s]\n"
     ]
    },
    {
     "name": "stdout",
     "output_type": "stream",
     "text": [
      "prompt:  a cube shaped <new1>\n"
     ]
    },
    {
     "name": "stderr",
     "output_type": "stream",
     "text": [
      "100%|██████████| 50/50 [00:13<00:00,  3.83it/s]\n"
     ]
    },
    {
     "name": "stdout",
     "output_type": "stream",
     "text": [
      "Finished textual inversion in subject: teapot!\n"
     ]
    },
    {
     "name": "stderr",
     "output_type": "stream",
     "text": [
      "Loading pipeline components...: 100%|██████████| 7/7 [00:00<00:00,  7.45it/s]\n"
     ]
    },
    {
     "name": "stdout",
     "output_type": "stream",
     "text": [
      "prompt:  a <new1> in the jungle\n"
     ]
    },
    {
     "name": "stderr",
     "output_type": "stream",
     "text": [
      "100%|██████████| 50/50 [00:13<00:00,  3.80it/s]\n"
     ]
    },
    {
     "name": "stdout",
     "output_type": "stream",
     "text": [
      "prompt:  a <new1> in the snow\n"
     ]
    },
    {
     "name": "stderr",
     "output_type": "stream",
     "text": [
      "100%|██████████| 50/50 [00:13<00:00,  3.80it/s]\n"
     ]
    },
    {
     "name": "stdout",
     "output_type": "stream",
     "text": [
      "prompt:  a <new1> on the beach\n"
     ]
    },
    {
     "name": "stderr",
     "output_type": "stream",
     "text": [
      "100%|██████████| 50/50 [00:13<00:00,  3.84it/s]\n",
      "Potential NSFW content was detected in one or more images. A black image will be returned instead. Try again with a different prompt and/or seed.\n"
     ]
    },
    {
     "name": "stdout",
     "output_type": "stream",
     "text": [
      "prompt:  a <new1> on a cobblestone street\n"
     ]
    },
    {
     "name": "stderr",
     "output_type": "stream",
     "text": [
      "100%|██████████| 50/50 [00:13<00:00,  3.80it/s]\n"
     ]
    },
    {
     "name": "stdout",
     "output_type": "stream",
     "text": [
      "prompt:  a <new1> on top of pink fabric\n"
     ]
    },
    {
     "name": "stderr",
     "output_type": "stream",
     "text": [
      "100%|██████████| 50/50 [00:13<00:00,  3.80it/s]\n"
     ]
    },
    {
     "name": "stdout",
     "output_type": "stream",
     "text": [
      "prompt:  a <new1> on top of a wooden floor\n"
     ]
    },
    {
     "name": "stderr",
     "output_type": "stream",
     "text": [
      "100%|██████████| 50/50 [00:13<00:00,  3.80it/s]\n"
     ]
    },
    {
     "name": "stdout",
     "output_type": "stream",
     "text": [
      "prompt:  a <new1> with a city in the background\n"
     ]
    },
    {
     "name": "stderr",
     "output_type": "stream",
     "text": [
      "100%|██████████| 50/50 [00:13<00:00,  3.84it/s]\n"
     ]
    },
    {
     "name": "stdout",
     "output_type": "stream",
     "text": [
      "prompt:  a <new1> with a mountain in the background\n"
     ]
    },
    {
     "name": "stderr",
     "output_type": "stream",
     "text": [
      "100%|██████████| 50/50 [00:13<00:00,  3.80it/s]\n"
     ]
    },
    {
     "name": "stdout",
     "output_type": "stream",
     "text": [
      "prompt:  a <new1> with a blue house in the background\n"
     ]
    },
    {
     "name": "stderr",
     "output_type": "stream",
     "text": [
      "100%|██████████| 50/50 [00:13<00:00,  3.80it/s]\n"
     ]
    },
    {
     "name": "stdout",
     "output_type": "stream",
     "text": [
      "prompt:  a <new1> on top of a purple rug in a forest\n"
     ]
    },
    {
     "name": "stderr",
     "output_type": "stream",
     "text": [
      "100%|██████████| 50/50 [00:13<00:00,  3.82it/s]\n"
     ]
    },
    {
     "name": "stdout",
     "output_type": "stream",
     "text": [
      "prompt:  a <new1> with a wheat field in the background\n"
     ]
    },
    {
     "name": "stderr",
     "output_type": "stream",
     "text": [
      "100%|██████████| 50/50 [00:13<00:00,  3.80it/s]\n"
     ]
    },
    {
     "name": "stdout",
     "output_type": "stream",
     "text": [
      "prompt:  a <new1> with a tree and autumn leaves in the background\n"
     ]
    },
    {
     "name": "stderr",
     "output_type": "stream",
     "text": [
      "100%|██████████| 50/50 [00:13<00:00,  3.80it/s]\n"
     ]
    },
    {
     "name": "stdout",
     "output_type": "stream",
     "text": [
      "prompt:  a <new1> with the Eiffel Tower in the background\n"
     ]
    },
    {
     "name": "stderr",
     "output_type": "stream",
     "text": [
      "100%|██████████| 50/50 [00:13<00:00,  3.80it/s]\n"
     ]
    },
    {
     "name": "stdout",
     "output_type": "stream",
     "text": [
      "prompt:  a <new1> floating on top of water\n"
     ]
    },
    {
     "name": "stderr",
     "output_type": "stream",
     "text": [
      "100%|██████████| 50/50 [00:13<00:00,  3.83it/s]\n"
     ]
    },
    {
     "name": "stdout",
     "output_type": "stream",
     "text": [
      "prompt:  a <new1> floating in an ocean of milk\n"
     ]
    },
    {
     "name": "stderr",
     "output_type": "stream",
     "text": [
      "100%|██████████| 50/50 [00:13<00:00,  3.80it/s]\n"
     ]
    },
    {
     "name": "stdout",
     "output_type": "stream",
     "text": [
      "prompt:  a <new1> on top of green grass with sunflowers around it\n"
     ]
    },
    {
     "name": "stderr",
     "output_type": "stream",
     "text": [
      "100%|██████████| 50/50 [00:13<00:00,  3.80it/s]\n"
     ]
    },
    {
     "name": "stdout",
     "output_type": "stream",
     "text": [
      "prompt:  a <new1> on top of a mirror\n"
     ]
    },
    {
     "name": "stderr",
     "output_type": "stream",
     "text": [
      "100%|██████████| 50/50 [00:13<00:00,  3.80it/s]\n"
     ]
    },
    {
     "name": "stdout",
     "output_type": "stream",
     "text": [
      "prompt:  a <new1> on top of the sidewalk in a crowded street\n"
     ]
    },
    {
     "name": "stderr",
     "output_type": "stream",
     "text": [
      "100%|██████████| 50/50 [00:13<00:00,  3.84it/s]\n"
     ]
    },
    {
     "name": "stdout",
     "output_type": "stream",
     "text": [
      "prompt:  a <new1> on top of a dirt road\n"
     ]
    },
    {
     "name": "stderr",
     "output_type": "stream",
     "text": [
      "100%|██████████| 50/50 [00:13<00:00,  3.80it/s]\n"
     ]
    },
    {
     "name": "stdout",
     "output_type": "stream",
     "text": [
      "prompt:  a <new1> on top of a white rug\n"
     ]
    },
    {
     "name": "stderr",
     "output_type": "stream",
     "text": [
      "100%|██████████| 50/50 [00:13<00:00,  3.80it/s]\n"
     ]
    },
    {
     "name": "stdout",
     "output_type": "stream",
     "text": [
      "prompt:  a red <new1>\n"
     ]
    },
    {
     "name": "stderr",
     "output_type": "stream",
     "text": [
      "100%|██████████| 50/50 [00:13<00:00,  3.84it/s]\n"
     ]
    },
    {
     "name": "stdout",
     "output_type": "stream",
     "text": [
      "prompt:  a purple <new1>\n"
     ]
    },
    {
     "name": "stderr",
     "output_type": "stream",
     "text": [
      "100%|██████████| 50/50 [00:13<00:00,  3.80it/s]\n"
     ]
    },
    {
     "name": "stdout",
     "output_type": "stream",
     "text": [
      "prompt:  a shiny <new1>\n"
     ]
    },
    {
     "name": "stderr",
     "output_type": "stream",
     "text": [
      "100%|██████████| 50/50 [00:13<00:00,  3.80it/s]\n",
      "Potential NSFW content was detected in one or more images. A black image will be returned instead. Try again with a different prompt and/or seed.\n"
     ]
    },
    {
     "name": "stdout",
     "output_type": "stream",
     "text": [
      "prompt:  a wet <new1>\n"
     ]
    },
    {
     "name": "stderr",
     "output_type": "stream",
     "text": [
      "100%|██████████| 50/50 [00:13<00:00,  3.80it/s]\n"
     ]
    },
    {
     "name": "stdout",
     "output_type": "stream",
     "text": [
      "prompt:  a cube shaped <new1>\n"
     ]
    },
    {
     "name": "stderr",
     "output_type": "stream",
     "text": [
      "100%|██████████| 50/50 [00:13<00:00,  3.84it/s]\n"
     ]
    },
    {
     "name": "stdout",
     "output_type": "stream",
     "text": [
      "Finished textual inversion in subject: colorful_teapot!\n"
     ]
    },
    {
     "name": "stderr",
     "output_type": "stream",
     "text": [
      "Loading pipeline components...: 100%|██████████| 7/7 [00:00<00:00,  8.35it/s]\n"
     ]
    },
    {
     "name": "stdout",
     "output_type": "stream",
     "text": [
      "prompt:  a <new1> in the jungle\n"
     ]
    },
    {
     "name": "stderr",
     "output_type": "stream",
     "text": [
      "100%|██████████| 50/50 [00:13<00:00,  3.80it/s]\n"
     ]
    },
    {
     "name": "stdout",
     "output_type": "stream",
     "text": [
      "prompt:  a <new1> in the snow\n"
     ]
    },
    {
     "name": "stderr",
     "output_type": "stream",
     "text": [
      "100%|██████████| 50/50 [00:13<00:00,  3.79it/s]\n"
     ]
    },
    {
     "name": "stdout",
     "output_type": "stream",
     "text": [
      "prompt:  a <new1> on the beach\n"
     ]
    },
    {
     "name": "stderr",
     "output_type": "stream",
     "text": [
      "100%|██████████| 50/50 [00:09<00:00,  5.43it/s]\n"
     ]
    },
    {
     "name": "stdout",
     "output_type": "stream",
     "text": [
      "prompt:  a <new1> on a cobblestone street\n"
     ]
    },
    {
     "name": "stderr",
     "output_type": "stream",
     "text": [
      "100%|██████████| 50/50 [00:13<00:00,  3.80it/s]\n"
     ]
    },
    {
     "name": "stdout",
     "output_type": "stream",
     "text": [
      "prompt:  a <new1> on top of pink fabric\n"
     ]
    },
    {
     "name": "stderr",
     "output_type": "stream",
     "text": [
      "100%|██████████| 50/50 [00:13<00:00,  3.80it/s]\n"
     ]
    },
    {
     "name": "stdout",
     "output_type": "stream",
     "text": [
      "prompt:  a <new1> on top of a wooden floor\n"
     ]
    },
    {
     "name": "stderr",
     "output_type": "stream",
     "text": [
      "100%|██████████| 50/50 [00:13<00:00,  3.80it/s]\n"
     ]
    },
    {
     "name": "stdout",
     "output_type": "stream",
     "text": [
      "prompt:  a <new1> with a city in the background\n"
     ]
    },
    {
     "name": "stderr",
     "output_type": "stream",
     "text": [
      "100%|██████████| 50/50 [00:13<00:00,  3.84it/s]\n"
     ]
    },
    {
     "name": "stdout",
     "output_type": "stream",
     "text": [
      "prompt:  a <new1> with a mountain in the background\n"
     ]
    },
    {
     "name": "stderr",
     "output_type": "stream",
     "text": [
      "100%|██████████| 50/50 [00:13<00:00,  3.80it/s]\n"
     ]
    },
    {
     "name": "stdout",
     "output_type": "stream",
     "text": [
      "prompt:  a <new1> with a blue house in the background\n"
     ]
    },
    {
     "name": "stderr",
     "output_type": "stream",
     "text": [
      "100%|██████████| 50/50 [00:13<00:00,  3.80it/s]\n"
     ]
    },
    {
     "name": "stdout",
     "output_type": "stream",
     "text": [
      "prompt:  a <new1> on top of a purple rug in a forest\n"
     ]
    },
    {
     "name": "stderr",
     "output_type": "stream",
     "text": [
      "100%|██████████| 50/50 [00:13<00:00,  3.80it/s]\n"
     ]
    },
    {
     "name": "stdout",
     "output_type": "stream",
     "text": [
      "prompt:  a <new1> with a wheat field in the background\n"
     ]
    },
    {
     "name": "stderr",
     "output_type": "stream",
     "text": [
      "100%|██████████| 50/50 [00:13<00:00,  3.84it/s]\n"
     ]
    },
    {
     "name": "stdout",
     "output_type": "stream",
     "text": [
      "prompt:  a <new1> with a tree and autumn leaves in the background\n"
     ]
    },
    {
     "name": "stderr",
     "output_type": "stream",
     "text": [
      "100%|██████████| 50/50 [00:13<00:00,  3.80it/s]\n"
     ]
    },
    {
     "name": "stdout",
     "output_type": "stream",
     "text": [
      "prompt:  a <new1> with the Eiffel Tower in the background\n"
     ]
    },
    {
     "name": "stderr",
     "output_type": "stream",
     "text": [
      "100%|██████████| 50/50 [00:13<00:00,  3.80it/s]\n"
     ]
    },
    {
     "name": "stdout",
     "output_type": "stream",
     "text": [
      "prompt:  a <new1> floating on top of water\n"
     ]
    },
    {
     "name": "stderr",
     "output_type": "stream",
     "text": [
      "100%|██████████| 50/50 [00:13<00:00,  3.84it/s]\n"
     ]
    },
    {
     "name": "stdout",
     "output_type": "stream",
     "text": [
      "prompt:  a <new1> floating in an ocean of milk\n"
     ]
    },
    {
     "name": "stderr",
     "output_type": "stream",
     "text": [
      "100%|██████████| 50/50 [00:13<00:00,  3.80it/s]\n"
     ]
    },
    {
     "name": "stdout",
     "output_type": "stream",
     "text": [
      "prompt:  a <new1> on top of green grass with sunflowers around it\n"
     ]
    },
    {
     "name": "stderr",
     "output_type": "stream",
     "text": [
      "100%|██████████| 50/50 [00:13<00:00,  3.80it/s]\n"
     ]
    },
    {
     "name": "stdout",
     "output_type": "stream",
     "text": [
      "prompt:  a <new1> on top of a mirror\n"
     ]
    },
    {
     "name": "stderr",
     "output_type": "stream",
     "text": [
      "100%|██████████| 50/50 [00:13<00:00,  3.80it/s]\n"
     ]
    },
    {
     "name": "stdout",
     "output_type": "stream",
     "text": [
      "prompt:  a <new1> on top of the sidewalk in a crowded street\n"
     ]
    },
    {
     "name": "stderr",
     "output_type": "stream",
     "text": [
      "100%|██████████| 50/50 [00:13<00:00,  3.83it/s]\n"
     ]
    },
    {
     "name": "stdout",
     "output_type": "stream",
     "text": [
      "prompt:  a <new1> on top of a dirt road\n"
     ]
    },
    {
     "name": "stderr",
     "output_type": "stream",
     "text": [
      "100%|██████████| 50/50 [00:13<00:00,  3.80it/s]\n"
     ]
    },
    {
     "name": "stdout",
     "output_type": "stream",
     "text": [
      "prompt:  a <new1> on top of a white rug\n"
     ]
    },
    {
     "name": "stderr",
     "output_type": "stream",
     "text": [
      "100%|██████████| 50/50 [00:13<00:00,  3.80it/s]\n"
     ]
    },
    {
     "name": "stdout",
     "output_type": "stream",
     "text": [
      "prompt:  a red <new1>\n"
     ]
    },
    {
     "name": "stderr",
     "output_type": "stream",
     "text": [
      "100%|██████████| 50/50 [00:13<00:00,  3.79it/s]\n"
     ]
    },
    {
     "name": "stdout",
     "output_type": "stream",
     "text": [
      "prompt:  a purple <new1>\n"
     ]
    },
    {
     "name": "stderr",
     "output_type": "stream",
     "text": [
      "100%|██████████| 50/50 [00:13<00:00,  3.80it/s]\n"
     ]
    },
    {
     "name": "stdout",
     "output_type": "stream",
     "text": [
      "prompt:  a shiny <new1>\n"
     ]
    },
    {
     "name": "stderr",
     "output_type": "stream",
     "text": [
      "100%|██████████| 50/50 [00:13<00:00,  3.81it/s]\n"
     ]
    },
    {
     "name": "stdout",
     "output_type": "stream",
     "text": [
      "prompt:  a wet <new1>\n"
     ]
    },
    {
     "name": "stderr",
     "output_type": "stream",
     "text": [
      "100%|██████████| 50/50 [00:13<00:00,  3.80it/s]\n"
     ]
    },
    {
     "name": "stdout",
     "output_type": "stream",
     "text": [
      "prompt:  a cube shaped <new1>\n"
     ]
    },
    {
     "name": "stderr",
     "output_type": "stream",
     "text": [
      "100%|██████████| 50/50 [00:13<00:00,  3.83it/s]\n"
     ]
    },
    {
     "name": "stdout",
     "output_type": "stream",
     "text": [
      "Finished textual inversion in subject: rc_car!\n"
     ]
    },
    {
     "name": "stderr",
     "output_type": "stream",
     "text": [
      "Loading pipeline components...: 100%|██████████| 7/7 [00:00<00:00,  8.00it/s]\n"
     ]
    },
    {
     "name": "stdout",
     "output_type": "stream",
     "text": [
      "prompt:  a <new1> in the jungle\n"
     ]
    },
    {
     "name": "stderr",
     "output_type": "stream",
     "text": [
      "100%|██████████| 50/50 [00:13<00:00,  3.81it/s]\n"
     ]
    },
    {
     "name": "stdout",
     "output_type": "stream",
     "text": [
      "prompt:  a <new1> in the snow\n"
     ]
    },
    {
     "name": "stderr",
     "output_type": "stream",
     "text": [
      "100%|██████████| 50/50 [00:13<00:00,  3.80it/s]\n"
     ]
    },
    {
     "name": "stdout",
     "output_type": "stream",
     "text": [
      "prompt:  a <new1> on the beach\n"
     ]
    },
    {
     "name": "stderr",
     "output_type": "stream",
     "text": [
      "100%|██████████| 50/50 [00:13<00:00,  3.84it/s]\n"
     ]
    },
    {
     "name": "stdout",
     "output_type": "stream",
     "text": [
      "prompt:  a <new1> on a cobblestone street\n"
     ]
    },
    {
     "name": "stderr",
     "output_type": "stream",
     "text": [
      "100%|██████████| 50/50 [00:13<00:00,  3.80it/s]\n"
     ]
    },
    {
     "name": "stdout",
     "output_type": "stream",
     "text": [
      "prompt:  a <new1> on top of pink fabric\n"
     ]
    },
    {
     "name": "stderr",
     "output_type": "stream",
     "text": [
      "100%|██████████| 50/50 [00:13<00:00,  3.80it/s]\n"
     ]
    },
    {
     "name": "stdout",
     "output_type": "stream",
     "text": [
      "prompt:  a {o} {1} on top of a wooden floor\n"
     ]
    },
    {
     "name": "stderr",
     "output_type": "stream",
     "text": [
      "100%|██████████| 50/50 [00:13<00:00,  3.80it/s]\n"
     ]
    },
    {
     "name": "stdout",
     "output_type": "stream",
     "text": [
      "prompt:  a <new1> with a city in the background\n"
     ]
    },
    {
     "name": "stderr",
     "output_type": "stream",
     "text": [
      "100%|██████████| 50/50 [00:13<00:00,  3.84it/s]\n"
     ]
    },
    {
     "name": "stdout",
     "output_type": "stream",
     "text": [
      "prompt:  a <new1> with a mountain in the background\n"
     ]
    },
    {
     "name": "stderr",
     "output_type": "stream",
     "text": [
      "100%|██████████| 50/50 [00:13<00:00,  3.80it/s]\n"
     ]
    },
    {
     "name": "stdout",
     "output_type": "stream",
     "text": [
      "prompt:  a <new1> with a blue house in the background\n"
     ]
    },
    {
     "name": "stderr",
     "output_type": "stream",
     "text": [
      "100%|██████████| 50/50 [00:13<00:00,  3.80it/s]\n"
     ]
    },
    {
     "name": "stdout",
     "output_type": "stream",
     "text": [
      "prompt:  a <new1> on top of a purple rug in a forest\n"
     ]
    },
    {
     "name": "stderr",
     "output_type": "stream",
     "text": [
      "100%|██████████| 50/50 [00:12<00:00,  3.85it/s]\n"
     ]
    },
    {
     "name": "stdout",
     "output_type": "stream",
     "text": [
      "prompt:  a <new1> wearing a red hat\n"
     ]
    },
    {
     "name": "stderr",
     "output_type": "stream",
     "text": [
      "100%|██████████| 50/50 [00:13<00:00,  3.80it/s]\n"
     ]
    },
    {
     "name": "stdout",
     "output_type": "stream",
     "text": [
      "prompt:  a <new1> wearing a santa hat\n"
     ]
    },
    {
     "name": "stderr",
     "output_type": "stream",
     "text": [
      "100%|██████████| 50/50 [00:13<00:00,  3.81it/s]\n"
     ]
    },
    {
     "name": "stdout",
     "output_type": "stream",
     "text": [
      "prompt:  a <new1> wearing a rainbow scarf\n"
     ]
    },
    {
     "name": "stderr",
     "output_type": "stream",
     "text": [
      "100%|██████████| 50/50 [00:13<00:00,  3.80it/s]\n"
     ]
    },
    {
     "name": "stdout",
     "output_type": "stream",
     "text": [
      "prompt:  a <new1> wearing a black top hat and a monocle\n"
     ]
    },
    {
     "name": "stderr",
     "output_type": "stream",
     "text": [
      "100%|██████████| 50/50 [00:13<00:00,  3.84it/s]\n"
     ]
    },
    {
     "name": "stdout",
     "output_type": "stream",
     "text": [
      "prompt:  a <new1> in a chef outfit\n"
     ]
    },
    {
     "name": "stderr",
     "output_type": "stream",
     "text": [
      "100%|██████████| 50/50 [00:13<00:00,  3.80it/s]\n"
     ]
    },
    {
     "name": "stdout",
     "output_type": "stream",
     "text": [
      "prompt:  a <new1> in a firefighter outfit\n"
     ]
    },
    {
     "name": "stderr",
     "output_type": "stream",
     "text": [
      "100%|██████████| 50/50 [00:13<00:00,  3.80it/s]\n"
     ]
    },
    {
     "name": "stdout",
     "output_type": "stream",
     "text": [
      "prompt:  a <new1> in a police outfit\n"
     ]
    },
    {
     "name": "stderr",
     "output_type": "stream",
     "text": [
      "100%|██████████| 50/50 [00:13<00:00,  3.81it/s]\n",
      "Potential NSFW content was detected in one or more images. A black image will be returned instead. Try again with a different prompt and/or seed.\n"
     ]
    },
    {
     "name": "stdout",
     "output_type": "stream",
     "text": [
      "prompt:  a <new1> wearing pink glasses\n"
     ]
    },
    {
     "name": "stderr",
     "output_type": "stream",
     "text": [
      "100%|██████████| 50/50 [00:13<00:00,  3.83it/s]\n"
     ]
    },
    {
     "name": "stdout",
     "output_type": "stream",
     "text": [
      "prompt:  a <new1> wearing a yellow shirt\n"
     ]
    },
    {
     "name": "stderr",
     "output_type": "stream",
     "text": [
      "100%|██████████| 50/50 [00:13<00:00,  3.80it/s]\n"
     ]
    },
    {
     "name": "stdout",
     "output_type": "stream",
     "text": [
      "prompt:  a <new1> in a purple wizard outfit\n"
     ]
    },
    {
     "name": "stderr",
     "output_type": "stream",
     "text": [
      "100%|██████████| 50/50 [00:13<00:00,  3.80it/s]\n",
      "Potential NSFW content was detected in one or more images. A black image will be returned instead. Try again with a different prompt and/or seed.\n"
     ]
    },
    {
     "name": "stdout",
     "output_type": "stream",
     "text": [
      "prompt:  a red <new1>\n"
     ]
    },
    {
     "name": "stderr",
     "output_type": "stream",
     "text": [
      "100%|██████████| 50/50 [00:13<00:00,  3.84it/s]\n"
     ]
    },
    {
     "name": "stdout",
     "output_type": "stream",
     "text": [
      "prompt:  a purple <new1>\n"
     ]
    },
    {
     "name": "stderr",
     "output_type": "stream",
     "text": [
      "100%|██████████| 50/50 [00:13<00:00,  3.81it/s]\n"
     ]
    },
    {
     "name": "stdout",
     "output_type": "stream",
     "text": [
      "prompt:  a shiny <new1>\n"
     ]
    },
    {
     "name": "stderr",
     "output_type": "stream",
     "text": [
      "100%|██████████| 50/50 [00:13<00:00,  3.80it/s]\n"
     ]
    },
    {
     "name": "stdout",
     "output_type": "stream",
     "text": [
      "prompt:  a wet <new1>\n"
     ]
    },
    {
     "name": "stderr",
     "output_type": "stream",
     "text": [
      "100%|██████████| 50/50 [00:13<00:00,  3.80it/s]\n"
     ]
    },
    {
     "name": "stdout",
     "output_type": "stream",
     "text": [
      "prompt:  a cube shaped <new1>\n"
     ]
    },
    {
     "name": "stderr",
     "output_type": "stream",
     "text": [
      "100%|██████████| 50/50 [00:13<00:00,  3.84it/s]\n"
     ]
    },
    {
     "name": "stdout",
     "output_type": "stream",
     "text": [
      "Finished textual inversion in subject: cat2!\n"
     ]
    },
    {
     "name": "stderr",
     "output_type": "stream",
     "text": [
      "Loading pipeline components...: 100%|██████████| 7/7 [00:00<00:00,  7.08it/s]\n"
     ]
    },
    {
     "name": "stdout",
     "output_type": "stream",
     "text": [
      "prompt:  a <new1> in the jungle\n"
     ]
    },
    {
     "name": "stderr",
     "output_type": "stream",
     "text": [
      "100%|██████████| 50/50 [00:13<00:00,  3.80it/s]\n"
     ]
    },
    {
     "name": "stdout",
     "output_type": "stream",
     "text": [
      "prompt:  a <new1> in the snow\n"
     ]
    },
    {
     "name": "stderr",
     "output_type": "stream",
     "text": [
      "100%|██████████| 50/50 [00:13<00:00,  3.80it/s]\n"
     ]
    },
    {
     "name": "stdout",
     "output_type": "stream",
     "text": [
      "prompt:  a <new1> on the beach\n"
     ]
    },
    {
     "name": "stderr",
     "output_type": "stream",
     "text": [
      "100%|██████████| 50/50 [00:13<00:00,  3.83it/s]\n"
     ]
    },
    {
     "name": "stdout",
     "output_type": "stream",
     "text": [
      "prompt:  a <new1> on a cobblestone street\n"
     ]
    },
    {
     "name": "stderr",
     "output_type": "stream",
     "text": [
      "100%|██████████| 50/50 [00:13<00:00,  3.80it/s]\n"
     ]
    },
    {
     "name": "stdout",
     "output_type": "stream",
     "text": [
      "prompt:  a <new1> on top of pink fabric\n"
     ]
    },
    {
     "name": "stderr",
     "output_type": "stream",
     "text": [
      "100%|██████████| 50/50 [00:13<00:00,  3.80it/s]\n"
     ]
    },
    {
     "name": "stdout",
     "output_type": "stream",
     "text": [
      "prompt:  a <new1> on top of a wooden floor\n"
     ]
    },
    {
     "name": "stderr",
     "output_type": "stream",
     "text": [
      "100%|██████████| 50/50 [00:13<00:00,  3.83it/s]\n"
     ]
    },
    {
     "name": "stdout",
     "output_type": "stream",
     "text": [
      "prompt:  a <new1> with a city in the background\n"
     ]
    },
    {
     "name": "stderr",
     "output_type": "stream",
     "text": [
      "100%|██████████| 50/50 [00:13<00:00,  3.80it/s]\n"
     ]
    },
    {
     "name": "stdout",
     "output_type": "stream",
     "text": [
      "prompt:  a <new1> with a mountain in the background\n"
     ]
    },
    {
     "name": "stderr",
     "output_type": "stream",
     "text": [
      "100%|██████████| 50/50 [00:13<00:00,  3.80it/s]\n"
     ]
    },
    {
     "name": "stdout",
     "output_type": "stream",
     "text": [
      "prompt:  a <new1> with a blue house in the background\n"
     ]
    },
    {
     "name": "stderr",
     "output_type": "stream",
     "text": [
      "100%|██████████| 50/50 [00:13<00:00,  3.80it/s]\n"
     ]
    },
    {
     "name": "stdout",
     "output_type": "stream",
     "text": [
      "prompt:  a <new1> on top of a purple rug in a forest\n"
     ]
    },
    {
     "name": "stderr",
     "output_type": "stream",
     "text": [
      "100%|██████████| 50/50 [00:13<00:00,  3.83it/s]\n"
     ]
    },
    {
     "name": "stdout",
     "output_type": "stream",
     "text": [
      "prompt:  a <new1> with a wheat field in the background\n"
     ]
    },
    {
     "name": "stderr",
     "output_type": "stream",
     "text": [
      "100%|██████████| 50/50 [00:13<00:00,  3.80it/s]\n"
     ]
    },
    {
     "name": "stdout",
     "output_type": "stream",
     "text": [
      "prompt:  a <new1> with a tree and autumn leaves in the background\n"
     ]
    },
    {
     "name": "stderr",
     "output_type": "stream",
     "text": [
      "100%|██████████| 50/50 [00:13<00:00,  3.80it/s]\n"
     ]
    },
    {
     "name": "stdout",
     "output_type": "stream",
     "text": [
      "prompt:  a <new1> with the Eiffel Tower in the background\n"
     ]
    },
    {
     "name": "stderr",
     "output_type": "stream",
     "text": [
      "100%|██████████| 50/50 [00:13<00:00,  3.79it/s]\n"
     ]
    },
    {
     "name": "stdout",
     "output_type": "stream",
     "text": [
      "prompt:  a <new1> floating on top of water\n"
     ]
    },
    {
     "name": "stderr",
     "output_type": "stream",
     "text": [
      "100%|██████████| 50/50 [00:13<00:00,  3.83it/s]\n"
     ]
    },
    {
     "name": "stdout",
     "output_type": "stream",
     "text": [
      "prompt:  a <new1> floating in an ocean of milk\n"
     ]
    },
    {
     "name": "stderr",
     "output_type": "stream",
     "text": [
      "100%|██████████| 50/50 [00:13<00:00,  3.79it/s]\n"
     ]
    },
    {
     "name": "stdout",
     "output_type": "stream",
     "text": [
      "prompt:  a <new1> on top of green grass with sunflowers around it\n"
     ]
    },
    {
     "name": "stderr",
     "output_type": "stream",
     "text": [
      "100%|██████████| 50/50 [00:13<00:00,  3.80it/s]\n"
     ]
    },
    {
     "name": "stdout",
     "output_type": "stream",
     "text": [
      "prompt:  a <new1> on top of a mirror\n"
     ]
    },
    {
     "name": "stderr",
     "output_type": "stream",
     "text": [
      "100%|██████████| 50/50 [00:13<00:00,  3.83it/s]\n"
     ]
    },
    {
     "name": "stdout",
     "output_type": "stream",
     "text": [
      "prompt:  a <new1> on top of the sidewalk in a crowded street\n"
     ]
    },
    {
     "name": "stderr",
     "output_type": "stream",
     "text": [
      "100%|██████████| 50/50 [00:13<00:00,  3.80it/s]\n"
     ]
    },
    {
     "name": "stdout",
     "output_type": "stream",
     "text": [
      "prompt:  a <new1> on top of a dirt road\n"
     ]
    },
    {
     "name": "stderr",
     "output_type": "stream",
     "text": [
      "100%|██████████| 50/50 [00:13<00:00,  3.80it/s]\n"
     ]
    },
    {
     "name": "stdout",
     "output_type": "stream",
     "text": [
      "prompt:  a <new1> on top of a white rug\n"
     ]
    },
    {
     "name": "stderr",
     "output_type": "stream",
     "text": [
      "100%|██████████| 50/50 [00:13<00:00,  3.80it/s]\n"
     ]
    },
    {
     "name": "stdout",
     "output_type": "stream",
     "text": [
      "prompt:  a red <new1>\n"
     ]
    },
    {
     "name": "stderr",
     "output_type": "stream",
     "text": [
      "100%|██████████| 50/50 [00:13<00:00,  3.84it/s]\n"
     ]
    },
    {
     "name": "stdout",
     "output_type": "stream",
     "text": [
      "prompt:  a purple <new1>\n"
     ]
    },
    {
     "name": "stderr",
     "output_type": "stream",
     "text": [
      "100%|██████████| 50/50 [00:13<00:00,  3.80it/s]\n"
     ]
    },
    {
     "name": "stdout",
     "output_type": "stream",
     "text": [
      "prompt:  a shiny <new1>\n"
     ]
    },
    {
     "name": "stderr",
     "output_type": "stream",
     "text": [
      "100%|██████████| 50/50 [00:13<00:00,  3.80it/s]\n"
     ]
    },
    {
     "name": "stdout",
     "output_type": "stream",
     "text": [
      "prompt:  a wet <new1>\n"
     ]
    },
    {
     "name": "stderr",
     "output_type": "stream",
     "text": [
      "100%|██████████| 50/50 [00:13<00:00,  3.83it/s]\n"
     ]
    },
    {
     "name": "stdout",
     "output_type": "stream",
     "text": [
      "prompt:  a cube shaped <new1>\n"
     ]
    },
    {
     "name": "stderr",
     "output_type": "stream",
     "text": [
      "100%|██████████| 50/50 [00:13<00:00,  3.79it/s]\n"
     ]
    },
    {
     "name": "stdout",
     "output_type": "stream",
     "text": [
      "Finished textual inversion in subject: elephant!\n"
     ]
    },
    {
     "name": "stderr",
     "output_type": "stream",
     "text": [
      "Loading pipeline components...: 100%|██████████| 7/7 [00:00<00:00,  7.10it/s]\n"
     ]
    },
    {
     "ename": "OSError",
     "evalue": "Error no file named learned_embeds.bin found in directory ../../logs/subjects/textual_inversion/can.",
     "output_type": "error",
     "traceback": [
      "\u001b[0;31m---------------------------------------------------------------------------\u001b[0m",
      "\u001b[0;31mOSError\u001b[0m                                   Traceback (most recent call last)",
      "Cell \u001b[0;32mIn[1], line 22\u001b[0m\n\u001b[1;32m     19\u001b[0m \u001b[38;5;28;01mfor\u001b[39;00m subject \u001b[38;5;129;01min\u001b[39;00m embedding_folds:\n\u001b[1;32m     20\u001b[0m     \u001b[38;5;66;03m# load sd model\u001b[39;00m\n\u001b[1;32m     21\u001b[0m     pipeline \u001b[38;5;241m=\u001b[39m StableDiffusionPipeline\u001b[38;5;241m.\u001b[39mfrom_pretrained(\u001b[38;5;124m\"\u001b[39m\u001b[38;5;124mrunwayml/stable-diffusion-v1-5\u001b[39m\u001b[38;5;124m\"\u001b[39m, torch_dtype\u001b[38;5;241m=\u001b[39mtorch\u001b[38;5;241m.\u001b[39mfloat16)\u001b[38;5;241m.\u001b[39mto(\u001b[38;5;124m\"\u001b[39m\u001b[38;5;124mcuda\u001b[39m\u001b[38;5;124m\"\u001b[39m)\n\u001b[0;32m---> 22\u001b[0m     \u001b[43mpipeline\u001b[49m\u001b[38;5;241;43m.\u001b[39;49m\u001b[43mload_textual_inversion\u001b[49m\u001b[43m(\u001b[49m\u001b[38;5;124;43mf\u001b[39;49m\u001b[38;5;124;43m\"\u001b[39;49m\u001b[38;5;124;43m../../logs/subjects/textual_inversion/\u001b[39;49m\u001b[38;5;132;43;01m{\u001b[39;49;00m\u001b[43msubject\u001b[49m\u001b[38;5;132;43;01m}\u001b[39;49;00m\u001b[38;5;124;43m\"\u001b[39;49m\u001b[43m)\u001b[49m\n\u001b[1;32m     24\u001b[0m     \u001b[38;5;28;01mfor\u001b[39;00m idx, prompt \u001b[38;5;129;01min\u001b[39;00m \u001b[38;5;28menumerate\u001b[39m(prompts[prompts_info[subject][\u001b[38;5;124m\"\u001b[39m\u001b[38;5;124mprompt_type\u001b[39m\u001b[38;5;124m\"\u001b[39m]]):\n\u001b[1;32m     25\u001b[0m         prompt \u001b[38;5;241m=\u001b[39m prompt\u001b[38;5;241m.\u001b[39mreplace(\u001b[38;5;124m\"\u001b[39m\u001b[38;5;132;01m{0}\u001b[39;00m\u001b[38;5;124m \u001b[39m\u001b[38;5;132;01m{1}\u001b[39;00m\u001b[38;5;124m\"\u001b[39m, \u001b[38;5;124m\"\u001b[39m\u001b[38;5;124m<new1>\u001b[39m\u001b[38;5;124m\"\u001b[39m)\n",
      "File \u001b[0;32m~/anaconda3/envs/pcs/lib/python3.8/site-packages/huggingface_hub/utils/_validators.py:114\u001b[0m, in \u001b[0;36mvalidate_hf_hub_args.<locals>._inner_fn\u001b[0;34m(*args, **kwargs)\u001b[0m\n\u001b[1;32m    111\u001b[0m \u001b[38;5;28;01mif\u001b[39;00m check_use_auth_token:\n\u001b[1;32m    112\u001b[0m     kwargs \u001b[38;5;241m=\u001b[39m smoothly_deprecate_use_auth_token(fn_name\u001b[38;5;241m=\u001b[39mfn\u001b[38;5;241m.\u001b[39m\u001b[38;5;18m__name__\u001b[39m, has_token\u001b[38;5;241m=\u001b[39mhas_token, kwargs\u001b[38;5;241m=\u001b[39mkwargs)\n\u001b[0;32m--> 114\u001b[0m \u001b[38;5;28;01mreturn\u001b[39;00m \u001b[43mfn\u001b[49m\u001b[43m(\u001b[49m\u001b[38;5;241;43m*\u001b[39;49m\u001b[43margs\u001b[49m\u001b[43m,\u001b[49m\u001b[43m \u001b[49m\u001b[38;5;241;43m*\u001b[39;49m\u001b[38;5;241;43m*\u001b[39;49m\u001b[43mkwargs\u001b[49m\u001b[43m)\u001b[49m\n",
      "File \u001b[0;32m~/anaconda3/envs/pcs/lib/python3.8/site-packages/diffusers/loaders/textual_inversion.py:390\u001b[0m, in \u001b[0;36mTextualInversionLoaderMixin.load_textual_inversion\u001b[0;34m(self, pretrained_model_name_or_path, token, tokenizer, text_encoder, **kwargs)\u001b[0m\n\u001b[1;32m    387\u001b[0m \u001b[38;5;28mself\u001b[39m\u001b[38;5;241m.\u001b[39m_check_text_inv_inputs(tokenizer, text_encoder, pretrained_model_name_or_paths, tokens)\n\u001b[1;32m    389\u001b[0m \u001b[38;5;66;03m# 4. Load state dicts of textual embeddings\u001b[39;00m\n\u001b[0;32m--> 390\u001b[0m state_dicts \u001b[38;5;241m=\u001b[39m \u001b[43mload_textual_inversion_state_dicts\u001b[49m\u001b[43m(\u001b[49m\u001b[43mpretrained_model_name_or_paths\u001b[49m\u001b[43m,\u001b[49m\u001b[43m \u001b[49m\u001b[38;5;241;43m*\u001b[39;49m\u001b[38;5;241;43m*\u001b[39;49m\u001b[43mkwargs\u001b[49m\u001b[43m)\u001b[49m\n\u001b[1;32m    392\u001b[0m \u001b[38;5;66;03m# 4.1 Handle the special case when state_dict is a tensor that contains n embeddings for n tokens\u001b[39;00m\n\u001b[1;32m    393\u001b[0m \u001b[38;5;28;01mif\u001b[39;00m \u001b[38;5;28mlen\u001b[39m(tokens) \u001b[38;5;241m>\u001b[39m \u001b[38;5;241m1\u001b[39m \u001b[38;5;129;01mand\u001b[39;00m \u001b[38;5;28mlen\u001b[39m(state_dicts) \u001b[38;5;241m==\u001b[39m \u001b[38;5;241m1\u001b[39m:\n",
      "File \u001b[0;32m~/anaconda3/envs/pcs/lib/python3.8/site-packages/huggingface_hub/utils/_validators.py:114\u001b[0m, in \u001b[0;36mvalidate_hf_hub_args.<locals>._inner_fn\u001b[0;34m(*args, **kwargs)\u001b[0m\n\u001b[1;32m    111\u001b[0m \u001b[38;5;28;01mif\u001b[39;00m check_use_auth_token:\n\u001b[1;32m    112\u001b[0m     kwargs \u001b[38;5;241m=\u001b[39m smoothly_deprecate_use_auth_token(fn_name\u001b[38;5;241m=\u001b[39mfn\u001b[38;5;241m.\u001b[39m\u001b[38;5;18m__name__\u001b[39m, has_token\u001b[38;5;241m=\u001b[39mhas_token, kwargs\u001b[38;5;241m=\u001b[39mkwargs)\n\u001b[0;32m--> 114\u001b[0m \u001b[38;5;28;01mreturn\u001b[39;00m \u001b[43mfn\u001b[49m\u001b[43m(\u001b[49m\u001b[38;5;241;43m*\u001b[39;49m\u001b[43margs\u001b[49m\u001b[43m,\u001b[49m\u001b[43m \u001b[49m\u001b[38;5;241;43m*\u001b[39;49m\u001b[38;5;241;43m*\u001b[39;49m\u001b[43mkwargs\u001b[49m\u001b[43m)\u001b[49m\n",
      "File \u001b[0;32m~/anaconda3/envs/pcs/lib/python3.8/site-packages/diffusers/loaders/textual_inversion.py:91\u001b[0m, in \u001b[0;36mload_textual_inversion_state_dicts\u001b[0;34m(pretrained_model_name_or_paths, **kwargs)\u001b[0m\n\u001b[1;32m     88\u001b[0m             model_file \u001b[38;5;241m=\u001b[39m \u001b[38;5;28;01mNone\u001b[39;00m\n\u001b[1;32m     90\u001b[0m     \u001b[38;5;28;01mif\u001b[39;00m model_file \u001b[38;5;129;01mis\u001b[39;00m \u001b[38;5;28;01mNone\u001b[39;00m:\n\u001b[0;32m---> 91\u001b[0m         model_file \u001b[38;5;241m=\u001b[39m \u001b[43m_get_model_file\u001b[49m\u001b[43m(\u001b[49m\n\u001b[1;32m     92\u001b[0m \u001b[43m            \u001b[49m\u001b[43mpretrained_model_name_or_path\u001b[49m\u001b[43m,\u001b[49m\n\u001b[1;32m     93\u001b[0m \u001b[43m            \u001b[49m\u001b[43mweights_name\u001b[49m\u001b[38;5;241;43m=\u001b[39;49m\u001b[43mweight_name\u001b[49m\u001b[43m \u001b[49m\u001b[38;5;129;43;01mor\u001b[39;49;00m\u001b[43m \u001b[49m\u001b[43mTEXT_INVERSION_NAME\u001b[49m\u001b[43m,\u001b[49m\n\u001b[1;32m     94\u001b[0m \u001b[43m            \u001b[49m\u001b[43mcache_dir\u001b[49m\u001b[38;5;241;43m=\u001b[39;49m\u001b[43mcache_dir\u001b[49m\u001b[43m,\u001b[49m\n\u001b[1;32m     95\u001b[0m \u001b[43m            \u001b[49m\u001b[43mforce_download\u001b[49m\u001b[38;5;241;43m=\u001b[39;49m\u001b[43mforce_download\u001b[49m\u001b[43m,\u001b[49m\n\u001b[1;32m     96\u001b[0m \u001b[43m            \u001b[49m\u001b[43mresume_download\u001b[49m\u001b[38;5;241;43m=\u001b[39;49m\u001b[43mresume_download\u001b[49m\u001b[43m,\u001b[49m\n\u001b[1;32m     97\u001b[0m \u001b[43m            \u001b[49m\u001b[43mproxies\u001b[49m\u001b[38;5;241;43m=\u001b[39;49m\u001b[43mproxies\u001b[49m\u001b[43m,\u001b[49m\n\u001b[1;32m     98\u001b[0m \u001b[43m            \u001b[49m\u001b[43mlocal_files_only\u001b[49m\u001b[38;5;241;43m=\u001b[39;49m\u001b[43mlocal_files_only\u001b[49m\u001b[43m,\u001b[49m\n\u001b[1;32m     99\u001b[0m \u001b[43m            \u001b[49m\u001b[43mtoken\u001b[49m\u001b[38;5;241;43m=\u001b[39;49m\u001b[43mtoken\u001b[49m\u001b[43m,\u001b[49m\n\u001b[1;32m    100\u001b[0m \u001b[43m            \u001b[49m\u001b[43mrevision\u001b[49m\u001b[38;5;241;43m=\u001b[39;49m\u001b[43mrevision\u001b[49m\u001b[43m,\u001b[49m\n\u001b[1;32m    101\u001b[0m \u001b[43m            \u001b[49m\u001b[43msubfolder\u001b[49m\u001b[38;5;241;43m=\u001b[39;49m\u001b[43msubfolder\u001b[49m\u001b[43m,\u001b[49m\n\u001b[1;32m    102\u001b[0m \u001b[43m            \u001b[49m\u001b[43muser_agent\u001b[49m\u001b[38;5;241;43m=\u001b[39;49m\u001b[43muser_agent\u001b[49m\u001b[43m,\u001b[49m\n\u001b[1;32m    103\u001b[0m \u001b[43m        \u001b[49m\u001b[43m)\u001b[49m\n\u001b[1;32m    104\u001b[0m         state_dict \u001b[38;5;241m=\u001b[39m load_state_dict(model_file)\n\u001b[1;32m    105\u001b[0m \u001b[38;5;28;01melse\u001b[39;00m:\n",
      "File \u001b[0;32m~/anaconda3/envs/pcs/lib/python3.8/site-packages/huggingface_hub/utils/_validators.py:114\u001b[0m, in \u001b[0;36mvalidate_hf_hub_args.<locals>._inner_fn\u001b[0;34m(*args, **kwargs)\u001b[0m\n\u001b[1;32m    111\u001b[0m \u001b[38;5;28;01mif\u001b[39;00m check_use_auth_token:\n\u001b[1;32m    112\u001b[0m     kwargs \u001b[38;5;241m=\u001b[39m smoothly_deprecate_use_auth_token(fn_name\u001b[38;5;241m=\u001b[39mfn\u001b[38;5;241m.\u001b[39m\u001b[38;5;18m__name__\u001b[39m, has_token\u001b[38;5;241m=\u001b[39mhas_token, kwargs\u001b[38;5;241m=\u001b[39mkwargs)\n\u001b[0;32m--> 114\u001b[0m \u001b[38;5;28;01mreturn\u001b[39;00m \u001b[43mfn\u001b[49m\u001b[43m(\u001b[49m\u001b[38;5;241;43m*\u001b[39;49m\u001b[43margs\u001b[49m\u001b[43m,\u001b[49m\u001b[43m \u001b[49m\u001b[38;5;241;43m*\u001b[39;49m\u001b[38;5;241;43m*\u001b[39;49m\u001b[43mkwargs\u001b[49m\u001b[43m)\u001b[49m\n",
      "File \u001b[0;32m~/anaconda3/envs/pcs/lib/python3.8/site-packages/diffusers/utils/hub_utils.py:310\u001b[0m, in \u001b[0;36m_get_model_file\u001b[0;34m(pretrained_model_name_or_path, weights_name, subfolder, cache_dir, force_download, proxies, resume_download, local_files_only, token, user_agent, revision, commit_hash)\u001b[0m\n\u001b[1;32m    308\u001b[0m         \u001b[38;5;28;01mreturn\u001b[39;00m model_file\n\u001b[1;32m    309\u001b[0m     \u001b[38;5;28;01melse\u001b[39;00m:\n\u001b[0;32m--> 310\u001b[0m         \u001b[38;5;28;01mraise\u001b[39;00m \u001b[38;5;167;01mEnvironmentError\u001b[39;00m(\n\u001b[1;32m    311\u001b[0m             \u001b[38;5;124mf\u001b[39m\u001b[38;5;124m\"\u001b[39m\u001b[38;5;124mError no file named \u001b[39m\u001b[38;5;132;01m{\u001b[39;00mweights_name\u001b[38;5;132;01m}\u001b[39;00m\u001b[38;5;124m found in directory \u001b[39m\u001b[38;5;132;01m{\u001b[39;00mpretrained_model_name_or_path\u001b[38;5;132;01m}\u001b[39;00m\u001b[38;5;124m.\u001b[39m\u001b[38;5;124m\"\u001b[39m\n\u001b[1;32m    312\u001b[0m         )\n\u001b[1;32m    313\u001b[0m \u001b[38;5;28;01melse\u001b[39;00m:\n\u001b[1;32m    314\u001b[0m     \u001b[38;5;66;03m# 1. First check if deprecated way of loading from branches is used\u001b[39;00m\n\u001b[1;32m    315\u001b[0m     \u001b[38;5;28;01mif\u001b[39;00m (\n\u001b[1;32m    316\u001b[0m         revision \u001b[38;5;129;01min\u001b[39;00m DEPRECATED_REVISION_ARGS\n\u001b[1;32m    317\u001b[0m         \u001b[38;5;129;01mand\u001b[39;00m (weights_name \u001b[38;5;241m==\u001b[39m WEIGHTS_NAME \u001b[38;5;129;01mor\u001b[39;00m weights_name \u001b[38;5;241m==\u001b[39m SAFETENSORS_WEIGHTS_NAME)\n\u001b[1;32m    318\u001b[0m         \u001b[38;5;129;01mand\u001b[39;00m version\u001b[38;5;241m.\u001b[39mparse(version\u001b[38;5;241m.\u001b[39mparse(__version__)\u001b[38;5;241m.\u001b[39mbase_version) \u001b[38;5;241m>\u001b[39m\u001b[38;5;241m=\u001b[39m version\u001b[38;5;241m.\u001b[39mparse(\u001b[38;5;124m\"\u001b[39m\u001b[38;5;124m0.22.0\u001b[39m\u001b[38;5;124m\"\u001b[39m)\n\u001b[1;32m    319\u001b[0m     ):\n",
      "\u001b[0;31mOSError\u001b[0m: Error no file named learned_embeds.bin found in directory ../../logs/subjects/textual_inversion/can."
     ]
    }
   ],
   "source": [
    "import os\n",
    "os.environ[\"CUDA_VISIBLE_DEVICES\"] = \"7\"\n",
    "\n",
    "import sys\n",
    "utils_path = os.path.abspath(os.path.join('../..'))\n",
    "sys.path.append(utils_path)\n",
    "\n",
    "import torch\n",
    "from diffusers import StableDiffusionPipeline\n",
    "from utils.dataset_info import get_subjects_prompts_info\n",
    "\n",
    "output_path = \"../../outputs/subjects/textual_inversion\"\n",
    "embedding_folds = os.listdir(\"../../logs/subjects/textual_inversion/\")\n",
    "\n",
    "dataset_info_path = \"../../pcs_dataset/info.json\"\n",
    "\n",
    "prompts_info, prompts = get_subjects_prompts_info(dataset_info_path)\n",
    "\n",
    "for subject in embedding_folds:\n",
    "    # load sd model\n",
    "    pipeline = StableDiffusionPipeline.from_pretrained(\"runwayml/stable-diffusion-v1-5\", torch_dtype=torch.float16).to(\"cuda\")\n",
    "    pipeline.load_textual_inversion(f\"../../logs/subjects/textual_inversion/{subject}\")\n",
    "\n",
    "    for idx, prompt in enumerate(prompts[prompts_info[subject][\"prompt_type\"]]):\n",
    "        prompt = prompt.replace(\"{0} {1}\", \"<new1>\")\n",
    "        print(\"prompt: \", prompt)\n",
    "\n",
    "        image = pipeline(prompt, num_inference_steps=50, num_images_per_prompt=4).images\n",
    "\n",
    "        save_path = os.path.join(output_path, subject, f\"prompt{idx}\")\n",
    "        os.makedirs(save_path, exist_ok=True)\n",
    "\n",
    "        for img_idx, img in enumerate(image):\n",
    "            img.save(os.path.join(save_path, f\"{img_idx:04d}.jpg\"))\n",
    "    \n",
    "    print(f\"Finished textual inversion in subject: {subject}!\")\n"
   ]
  },
  {
   "cell_type": "markdown",
   "metadata": {},
   "source": [
    "## Evaluation"
   ]
  },
  {
   "cell_type": "markdown",
   "metadata": {},
   "source": [
    "Calculate img to img similarity and text to img similarity by CLIP Evaluator"
   ]
  },
  {
   "cell_type": "code",
   "execution_count": 7,
   "metadata": {},
   "outputs": [],
   "source": [
    "import os, sys, json\n",
    "\n",
    "os.environ[\"CUDA_VISIBLE_DEVICES\"] = \"6\"\n",
    "\n",
    "utils_path = os.path.abspath(os.path.join('../..'))\n",
    "sys.path.append(utils_path)\n",
    "\n",
    "import numpy as np\n",
    "from utils.clip_eval import CLIPEvaluator, evaluate_i2i, evaluate_t2i\n",
    "import re\n",
    "from utils.dataset_info import get_subjects_prompts_info"
   ]
  },
  {
   "cell_type": "code",
   "execution_count": 8,
   "metadata": {},
   "outputs": [],
   "source": [
    "def extract_id(folder_name):\n",
    "    match = re.search(r'\\d+', folder_name)\n",
    "    if match:\n",
    "        return int(match.group())\n",
    "    return None\n",
    "\n",
    "def convert_to_native(data):\n",
    "    if isinstance(data, np.ndarray):\n",
    "        return data.tolist()\n",
    "    elif isinstance(data, np.generic):\n",
    "        return data.item()\n",
    "    elif isinstance(data, dict):\n",
    "        return {key: convert_to_native(value) for key, value in data.items()}\n",
    "    elif isinstance(data, list):\n",
    "        return [convert_to_native(item) for item in data]\n",
    "    else:\n",
    "        return data"
   ]
  },
  {
   "cell_type": "code",
   "execution_count": 9,
   "metadata": {},
   "outputs": [
    {
     "name": "stdout",
     "output_type": "stream",
     "text": [
      "process subject:  pink_sunglasses\n",
      "prompt:  prompt13\n",
      "{'0003.jpg': [0.7627, 0.2015], '0000.jpg': [0.819, 0.1951], '0002.jpg': [0.7837, 0.208], '0001.jpg': [0.842, 0.1968]}\n",
      "prompt:  prompt8\n",
      "{'0003.jpg': [0.6064, 0.1769], '0000.jpg': [0.818, 0.201], '0002.jpg': [0.6753, 0.1957], '0001.jpg': [0.6787, 0.1995]}\n",
      "prompt:  prompt17\n",
      "{'0003.jpg': [0.518, 0.2039], '0000.jpg': [0.55, 0.2098], '0002.jpg': [0.852, 0.2314], '0001.jpg': [0.702, 0.2415]}\n",
      "prompt:  prompt19\n",
      "{'0003.jpg': [0.707, 0.2654], '0000.jpg': [0.644, 0.2588], '0002.jpg': [0.7217, 0.2769], '0001.jpg': [0.6494, 0.288]}\n",
      "prompt:  prompt10\n",
      "{'0003.jpg': [0.8105, 0.2178], '0000.jpg': [0.601, 0.2256], '0002.jpg': [0.8394, 0.2156], '0001.jpg': [0.6094, 0.2275]}\n",
      "prompt:  prompt2\n",
      "{'0003.jpg': [0.824, 0.226], '0000.jpg': [0.8057, 0.2507], '0002.jpg': [0.777, 0.21], '0001.jpg': [0.8086, 0.2482]}\n",
      "prompt:  prompt15\n",
      "{'0003.jpg': [0.6094, 0.3225], '0000.jpg': [0.6797, 0.3167], '0002.jpg': [0.6304, 0.3127], '0001.jpg': [0.657, 0.2979]}\n",
      "prompt:  prompt22\n",
      "{'0003.jpg': [0.8276, 0.2296], '0000.jpg': [0.7993, 0.225], '0002.jpg': [0.824, 0.2299], '0001.jpg': [0.8125, 0.2194]}\n",
      "prompt:  prompt1\n",
      "{'0003.jpg': [0.784, 0.2155], '0000.jpg': [0.7344, 0.179], '0002.jpg': [0.787, 0.2065], '0001.jpg': [0.704, 0.1804]}\n",
      "prompt:  prompt14\n",
      "{'0003.jpg': [0.7734, 0.1716], '0000.jpg': [0.747, 0.1917], '0002.jpg': [0.596, 0.2334], '0001.jpg': [0.775, 0.1814]}\n",
      "prompt:  prompt6\n",
      "{'0003.jpg': [0.8135, 0.1655], '0000.jpg': [0.7974, 0.1986], '0002.jpg': [0.8228, 0.1932], '0001.jpg': [0.8193, 0.1932]}\n",
      "prompt:  prompt5\n",
      "{'0003.jpg': [0.8384, 0.2144], '0000.jpg': [0.8213, 0.2114], '0002.jpg': [0.874, 0.2234], '0001.jpg': [0.812, 0.2318]}\n",
      "prompt:  prompt11\n",
      "{'0003.jpg': [0.8, 0.2761], '0000.jpg': [0.625, 0.2375], '0002.jpg': [0.6177, 0.2793], '0001.jpg': [0.673, 0.2695]}\n",
      "prompt:  prompt7\n",
      "{'0003.jpg': [0.7905, 0.2136], '0000.jpg': [0.844, 0.2188], '0002.jpg': [0.8394, 0.2046], '0001.jpg': [0.8037, 0.2034]}\n",
      "prompt:  prompt21\n",
      "{'0003.jpg': [0.8267, 0.2542], '0000.jpg': [0.6094, 0.2505], '0002.jpg': [0.797, 0.2622], '0001.jpg': [0.764, 0.2717]}\n",
      "prompt:  prompt12\n",
      "{'0003.jpg': [0.719, 0.2496], '0000.jpg': [0.776, 0.1946], '0002.jpg': [0.744, 0.2737], '0001.jpg': [0.6895, 0.2404]}\n",
      "prompt:  prompt20\n",
      "{'0003.jpg': [0.818, 0.2544], '0000.jpg': [0.8477, 0.252], '0002.jpg': [0.7793, 0.2408], '0001.jpg': [0.851, 0.2238]}\n",
      "prompt:  prompt4\n",
      "{'0003.jpg': [0.833, 0.2294], '0000.jpg': [0.7383, 0.2832], '0002.jpg': [0.6094, 0.2216], '0001.jpg': [0.7524, 0.211]}\n",
      "prompt:  prompt3\n",
      "{'0003.jpg': [0.863, 0.1818], '0000.jpg': [0.7705, 0.2087], '0002.jpg': [0.6914, 0.2078], '0001.jpg': [0.8027, 0.1808]}\n",
      "prompt:  prompt23\n",
      "{'0003.jpg': [0.7866, 0.223], '0000.jpg': [0.639, 0.2568], '0002.jpg': [0.816, 0.2142], '0001.jpg': [0.8096, 0.2465]}\n",
      "prompt:  prompt0\n",
      "{'0003.jpg': [0.7847, 0.1979], '0000.jpg': [0.844, 0.2087], '0002.jpg': [0.8057, 0.1881], '0001.jpg': [0.7886, 0.1857]}\n",
      "prompt:  prompt18\n",
      "{'0003.jpg': [0.5693, 0.1555], '0000.jpg': [0.8403, 0.182], '0002.jpg': [0.7715, 0.2177], '0001.jpg': [0.841, 0.2009]}\n",
      "prompt:  prompt16\n",
      "{'0003.jpg': [0.8374, 0.205], '0000.jpg': [0.826, 0.194], '0002.jpg': [0.648, 0.2356], '0001.jpg': [0.5884, 0.214]}\n",
      "prompt:  prompt24\n",
      "{'0003.jpg': [0.6426, 0.3137], '0000.jpg': [0.6904, 0.2585], '0002.jpg': [0.567, 0.2344], '0001.jpg': [0.784, 0.2128]}\n",
      "prompt:  prompt9\n",
      "{'0003.jpg': [0.7676, 0.2136], '0000.jpg': [0.696, 0.2922], '0002.jpg': [0.647, 0.311], '0001.jpg': [0.7075, 0.313]}\n",
      "process subject:  backpack\n",
      "prompt:  prompt13\n",
      "{'0003.jpg': [0.7236, 0.1589], '0000.jpg': [0.7334, 0.2106], '0002.jpg': [0.7427, 0.1755], '0001.jpg': [0.669, 0.1741]}\n",
      "prompt:  prompt8\n",
      "{'0003.jpg': [0.69, 0.1971], '0000.jpg': [0.516, 0.1929], '0002.jpg': [0.748, 0.2002], '0001.jpg': [0.767, 0.2014]}\n",
      "prompt:  prompt17\n",
      "{'0003.jpg': [0.7095, 0.2024], '0000.jpg': [0.5576, 0.1964], '0002.jpg': [0.7236, 0.2037], '0001.jpg': [0.5264, 0.2188]}\n",
      "prompt:  prompt19\n",
      "{'0003.jpg': [0.458, 0.1582], '0000.jpg': [0.6484, 0.1797], '0002.jpg': [0.5024, 0.2064], '0001.jpg': [0.54, 0.253]}\n",
      "prompt:  prompt10\n",
      "{'0003.jpg': [0.6914, 0.2303], '0000.jpg': [0.813, 0.191], '0002.jpg': [0.829, 0.2024], '0001.jpg': [0.6694, 0.1986]}\n",
      "prompt:  prompt2\n",
      "{'0003.jpg': [0.708, 0.2727], '0000.jpg': [0.764, 0.2158], '0002.jpg': [0.865, 0.1737], '0001.jpg': [0.7207, 0.2583]}\n",
      "prompt:  prompt15\n",
      "{'0003.jpg': [0.594, 0.3184], '0000.jpg': [0.664, 0.2812], '0002.jpg': [0.669, 0.2932], '0001.jpg': [0.621, 0.2942]}\n",
      "prompt:  prompt22\n",
      "{'0003.jpg': [0.775, 0.2024], '0000.jpg': [0.819, 0.1921], '0002.jpg': [0.824, 0.2128], '0001.jpg': [0.81, 0.2054]}\n",
      "prompt:  prompt1\n",
      "{'0003.jpg': [0.7373, 0.2556], '0000.jpg': [0.764, 0.1675], '0002.jpg': [0.8003, 0.2366], '0001.jpg': [0.786, 0.162]}\n",
      "prompt:  prompt14\n",
      "{'0003.jpg': [0.7563, 0.1989], '0000.jpg': [0.7417, 0.1705], '0002.jpg': [0.67, 0.1903], '0001.jpg': [0.716, 0.211]}\n",
      "prompt:  prompt6\n",
      "{'0003.jpg': [0.7993, 0.2094], '0000.jpg': [0.689, 0.1876], '0002.jpg': [0.723, 0.2036], '0001.jpg': [0.818, 0.2128]}\n",
      "prompt:  prompt5\n",
      "{'0003.jpg': [0.6694, 0.1527], '0000.jpg': [0.8174, 0.1426], '0002.jpg': [0.803, 0.1365], '0001.jpg': [0.7715, 0.1477]}\n",
      "prompt:  prompt11\n",
      "{'0003.jpg': [0.707, 0.268], '0000.jpg': [0.8057, 0.2482], '0002.jpg': [0.8037, 0.2316], '0001.jpg': [0.814, 0.2136]}\n",
      "prompt:  prompt7\n",
      "{'0003.jpg': [0.844, 0.2177], '0000.jpg': [0.786, 0.2302], '0002.jpg': [0.785, 0.2068], '0001.jpg': [0.8345, 0.2465]}\n",
      "prompt:  prompt21\n",
      "{'0003.jpg': [0.8394, 0.258], '0000.jpg': [0.742, 0.225], '0002.jpg': [0.784, 0.2556], '0001.jpg': [0.7983, 0.2374]}\n",
      "prompt:  prompt12\n",
      "{'0003.jpg': [0.6636, 0.265], '0000.jpg': [0.605, 0.2996], '0002.jpg': [0.67, 0.304], '0001.jpg': [0.654, 0.2795]}\n",
      "prompt:  prompt20\n",
      "{'0003.jpg': [0.832, 0.2178], '0000.jpg': [0.8374, 0.2092], '0002.jpg': [0.8716, 0.2249], '0001.jpg': [0.743, 0.226]}\n",
      "prompt:  prompt4\n",
      "{'0003.jpg': [0.7144, 0.1594], '0000.jpg': [0.8086, 0.1777], '0002.jpg': [0.8486, 0.1687], '0001.jpg': [0.8013, 0.2198]}\n",
      "prompt:  prompt3\n",
      "{'0003.jpg': [0.5854, 0.1973], '0000.jpg': [0.5713, 0.2308], '0002.jpg': [0.865, 0.1487], '0001.jpg': [0.844, 0.163]}\n",
      "prompt:  prompt23\n",
      "{'0003.jpg': [0.7617, 0.2198], '0000.jpg': [0.8286, 0.2009], '0002.jpg': [0.7095, 0.231], '0001.jpg': [0.8315, 0.189]}\n",
      "prompt:  prompt0\n",
      "{'0003.jpg': [0.8623, 0.2454], '0000.jpg': [0.6934, 0.2368], '0002.jpg': [0.825, 0.2198], '0001.jpg': [0.773, 0.2568]}\n",
      "prompt:  prompt18\n",
      "{'0003.jpg': [0.814, 0.1985], '0000.jpg': [0.8203, 0.194], '0002.jpg': [0.744, 0.2133], '0001.jpg': [0.7793, 0.193]}\n",
      "prompt:  prompt16\n",
      "{'0003.jpg': [0.609, 0.1532], '0000.jpg': [0.861, 0.1409], '0002.jpg': [0.7217, 0.1565], '0001.jpg': [0.7734, 0.1644]}\n",
      "prompt:  prompt24\n",
      "{'0003.jpg': [0.6636, 0.1964], '0000.jpg': [0.68, 0.2112], '0002.jpg': [0.793, 0.2021], '0001.jpg': [0.6113, 0.291]}\n",
      "prompt:  prompt9\n",
      "{'0003.jpg': [0.6177, 0.215], '0000.jpg': [0.6177, 0.215], '0002.jpg': [0.7134, 0.2903], '0001.jpg': [0.552, 0.2822]}\n",
      "process subject:  mug_skulls\n",
      "prompt:  prompt13\n",
      "{'0003.jpg': [0.623, 0.2566], '0000.jpg': [0.4316, 0.2231], '0002.jpg': [0.4011, 0.2487], '0001.jpg': [0.438, 0.2507]}\n",
      "prompt:  prompt8\n",
      "{'0003.jpg': [0.5654, 0.1866], '0000.jpg': [0.476, 0.1931], '0002.jpg': [0.5967, 0.1803], '0001.jpg': [0.475, 0.1615]}\n",
      "prompt:  prompt17\n",
      "{'0003.jpg': [0.5356, 0.1401], '0000.jpg': [0.5654, 0.1562], '0002.jpg': [0.446, 0.1548], '0001.jpg': [0.588, 0.1385]}\n",
      "prompt:  prompt19\n",
      "{'0003.jpg': [0.6885, 0.19], '0000.jpg': [0.564, 0.2474], '0002.jpg': [0.531, 0.241], '0001.jpg': [0.53, 0.2365]}\n",
      "prompt:  prompt10\n",
      "{'0003.jpg': [0.4412, 0.1509], '0000.jpg': [0.568, 0.1735], '0002.jpg': [0.609, 0.185], '0001.jpg': [0.608, 0.1951]}\n",
      "prompt:  prompt2\n",
      "{'0003.jpg': [0.707, 0.1511], '0000.jpg': [0.702, 0.178], '0002.jpg': [0.66, 0.1713], '0001.jpg': [0.671, 0.1564]}\n",
      "prompt:  prompt15\n",
      "{'0003.jpg': [0.4617, 0.2622], '0000.jpg': [0.588, 0.2332], '0002.jpg': [0.522, 0.2408], '0001.jpg': [0.4944, 0.1942]}\n",
      "prompt:  prompt22\n",
      "{'0003.jpg': [0.783, 0.2306], '0000.jpg': [0.667, 0.227], '0002.jpg': [0.7383, 0.2256], '0001.jpg': [0.7036, 0.21]}\n",
      "prompt:  prompt1\n",
      "{'0003.jpg': [0.6465, 0.1466], '0000.jpg': [0.542, 0.1285], '0002.jpg': [0.6245, 0.1703], '0001.jpg': [0.6494, 0.1465]}\n",
      "prompt:  prompt14\n",
      "{'0003.jpg': [0.663, 0.1671], '0000.jpg': [0.4897, 0.2527], '0002.jpg': [0.478, 0.2284], '0001.jpg': [0.618, 0.25]}\n",
      "prompt:  prompt6\n",
      "{'0003.jpg': [0.6367, 0.1777], '0000.jpg': [0.4714, 0.2275], '0002.jpg': [0.6104, 0.1831], '0001.jpg': [0.4363, 0.1445]}\n",
      "prompt:  prompt5\n",
      "{'0003.jpg': [0.7065, 0.2047], '0000.jpg': [0.701, 0.195], '0002.jpg': [0.654, 0.1948], '0001.jpg': [0.786, 0.1768]}\n",
      "prompt:  prompt11\n",
      "{'0003.jpg': [0.6543, 0.157], '0000.jpg': [0.576, 0.2332], '0002.jpg': [0.5835, 0.1963], '0001.jpg': [0.4714, 0.2188]}\n",
      "prompt:  prompt7\n",
      "{'0003.jpg': [0.639, 0.2036], '0000.jpg': [0.5674, 0.1998], '0002.jpg': [0.6846, 0.2136], '0001.jpg': [0.6646, 0.2062]}\n",
      "prompt:  prompt21\n",
      "{'0003.jpg': [0.6885, 0.2546], '0000.jpg': [0.773, 0.2332], '0002.jpg': [0.637, 0.2382], '0001.jpg': [0.6465, 0.2563]}\n",
      "prompt:  prompt12\n",
      "{'0003.jpg': [0.481, 0.186], '0000.jpg': [0.622, 0.1752], '0002.jpg': [0.648, 0.1683], '0001.jpg': [0.6187, 0.1597]}\n",
      "prompt:  prompt20\n",
      "{'0003.jpg': [0.647, 0.2286], '0000.jpg': [0.7393, 0.2468], '0002.jpg': [0.6797, 0.207], '0001.jpg': [0.7285, 0.261]}\n",
      "prompt:  prompt4\n",
      "{'0003.jpg': [0.766, 0.1349], '0000.jpg': [0.7515, 0.1654], '0002.jpg': [0.675, 0.1785], '0001.jpg': [0.7354, 0.1423]}\n",
      "prompt:  prompt3\n",
      "{'0003.jpg': [0.4583, 0.2434], '0000.jpg': [0.552, 0.2136], '0002.jpg': [0.595, 0.1959], '0001.jpg': [0.553, 0.2727]}\n",
      "prompt:  prompt23\n",
      "{'0003.jpg': [0.7373, 0.2308], '0000.jpg': [0.644, 0.2062], '0002.jpg': [0.655, 0.206], '0001.jpg': [0.7305, 0.2218]}\n",
      "prompt:  prompt0\n",
      "{'0003.jpg': [0.6567, 0.2087], '0000.jpg': [0.674, 0.1985], '0002.jpg': [0.6855, 0.198], '0001.jpg': [0.5723, 0.1741]}\n",
      "prompt:  prompt18\n",
      "{'0003.jpg': [0.581, 0.1531], '0000.jpg': [0.6387, 0.1635], '0002.jpg': [0.5264, 0.1549], '0001.jpg': [0.676, 0.145]}\n",
      "prompt:  prompt16\n",
      "{'0003.jpg': [0.7314, 0.1737], '0000.jpg': [0.723, 0.171], '0002.jpg': [0.6973, 0.1929], '0001.jpg': [0.7246, 0.1649]}\n",
      "prompt:  prompt24\n",
      "{'0003.jpg': [0.7207, 0.2083], '0000.jpg': [0.6772, 0.19], '0002.jpg': [0.6816, 0.2177], '0001.jpg': [0.6313, 0.2344]}\n",
      "prompt:  prompt9\n",
      "{'0003.jpg': [0.564, 0.2302], '0000.jpg': [0.617, 0.2264], '0002.jpg': [0.581, 0.247], '0001.jpg': [0.5547, 0.2437]}\n",
      "process subject:  red_teapot\n",
      "prompt:  prompt13\n",
      "{'0003.jpg': [0.8213, 0.1865], '0000.jpg': [0.6885, 0.1731], '0002.jpg': [0.8184, 0.1865], '0001.jpg': [0.7734, 0.179]}\n",
      "prompt:  prompt8\n",
      "{'0003.jpg': [0.817, 0.1432], '0000.jpg': [0.708, 0.1451], '0002.jpg': [0.7896, 0.1775], '0001.jpg': [0.621, 0.1351]}\n",
      "prompt:  prompt17\n",
      "{'0003.jpg': [0.723, 0.1787], '0000.jpg': [0.7256, 0.2013], '0002.jpg': [0.73, 0.1857], '0001.jpg': [0.7104, 0.2024]}\n",
      "prompt:  prompt19\n",
      "{'0003.jpg': [0.675, 0.2296], '0000.jpg': [0.68, 0.2402], '0002.jpg': [0.6753, 0.2583], '0001.jpg': [0.6753, 0.238]}\n",
      "prompt:  prompt10\n",
      "{'0003.jpg': [0.812, 0.1715], '0000.jpg': [0.6816, 0.1646], '0002.jpg': [0.764, 0.1859], '0001.jpg': [0.8467, 0.1564]}\n",
      "prompt:  prompt2\n",
      "{'0003.jpg': [0.808, 0.127], '0000.jpg': [0.8306, 0.1506], '0002.jpg': [0.7183, 0.1415], '0001.jpg': [0.7583, 0.1497]}\n",
      "prompt:  prompt15\n",
      "{'0003.jpg': [0.7925, 0.2299], '0000.jpg': [0.6, 0.2627], '0002.jpg': [0.6895, 0.2366], '0001.jpg': [0.7373, 0.2374]}\n",
      "prompt:  prompt22\n",
      "{'0003.jpg': [0.7905, 0.208], '0000.jpg': [0.6924, 0.2041], '0002.jpg': [0.827, 0.1967], '0001.jpg': [0.8184, 0.2029]}\n",
      "prompt:  prompt1\n",
      "{'0003.jpg': [0.805, 0.1533], '0000.jpg': [0.545, 0.2242], '0002.jpg': [0.8022, 0.163], '0001.jpg': [0.7583, 0.1624]}\n",
      "prompt:  prompt14\n",
      "{'0003.jpg': [0.6963, 0.174], '0000.jpg': [0.6685, 0.1678], '0002.jpg': [0.744, 0.1708], '0001.jpg': [0.8228, 0.1741]}\n",
      "prompt:  prompt6\n",
      "{'0003.jpg': [0.8047, 0.1841], '0000.jpg': [0.76, 0.1721], '0002.jpg': [0.733, 0.1737], '0001.jpg': [0.7144, 0.1735]}\n",
      "prompt:  prompt5\n",
      "{'0003.jpg': [0.686, 0.2174], '0000.jpg': [0.658, 0.2026], '0002.jpg': [0.627, 0.1908], '0001.jpg': [0.6826, 0.2019]}\n",
      "prompt:  prompt11\n",
      "{'0003.jpg': [0.732, 0.185], '0000.jpg': [0.871, 0.1642], '0002.jpg': [0.5537, 0.1671], '0001.jpg': [0.8286, 0.154]}\n",
      "prompt:  prompt7\n",
      "{'0003.jpg': [0.825, 0.1901], '0000.jpg': [0.844, 0.1985], '0002.jpg': [0.6934, 0.1786], '0001.jpg': [0.835, 0.1863]}\n",
      "prompt:  prompt21\n",
      "{'0003.jpg': [0.8066, 0.2368], '0000.jpg': [0.7983, 0.2585], '0002.jpg': [0.832, 0.2281], '0001.jpg': [0.7134, 0.2458]}\n",
      "prompt:  prompt12\n",
      "{'0003.jpg': [0.7783, 0.1699], '0000.jpg': [0.7676, 0.1742], '0002.jpg': [0.7476, 0.1765], '0001.jpg': [0.812, 0.151]}\n",
      "prompt:  prompt20\n",
      "{'0003.jpg': [0.813, 0.2224], '0000.jpg': [0.834, 0.2358], '0002.jpg': [0.8184, 0.2338], '0001.jpg': [0.8115, 0.223]}\n",
      "prompt:  prompt4\n",
      "{'0003.jpg': [0.665, 0.2042], '0000.jpg': [0.6836, 0.2264], '0002.jpg': [0.746, 0.1996], '0001.jpg': [0.618, 0.1909]}\n",
      "prompt:  prompt3\n",
      "{'0003.jpg': [0.682, 0.1426], '0000.jpg': [0.69, 0.2184], '0002.jpg': [0.7935, 0.1221], '0001.jpg': [0.6655, 0.1981]}\n",
      "prompt:  prompt23\n",
      "{'0003.jpg': [0.638, 0.1876], '0000.jpg': [0.7896, 0.2118], '0002.jpg': [0.7114, 0.1946], '0001.jpg': [0.7363, 0.1974]}\n",
      "prompt:  prompt0\n",
      "{'0003.jpg': [0.7275, 0.2017], '0000.jpg': [0.8374, 0.1794], '0002.jpg': [0.586, 0.1816], '0001.jpg': [0.765, 0.2064]}\n",
      "prompt:  prompt18\n",
      "{'0003.jpg': [0.797, 0.1126], '0000.jpg': [0.571, 0.2008], '0002.jpg': [0.7964, 0.1279], '0001.jpg': [0.809, 0.1313]}\n",
      "prompt:  prompt16\n",
      "{'0003.jpg': [0.6973, 0.1765], '0000.jpg': [0.6807, 0.2244], '0002.jpg': [0.8335, 0.1631], '0001.jpg': [0.7544, 0.1549]}\n",
      "prompt:  prompt24\n",
      "{'0003.jpg': [0.7305, 0.1743], '0000.jpg': [0.6978, 0.1926], '0002.jpg': [0.858, 0.2155], '0001.jpg': [0.849, 0.214]}\n",
      "prompt:  prompt9\n",
      "{'0003.jpg': [0.808, 0.2491], '0000.jpg': [0.686, 0.2734], '0002.jpg': [0.6562, 0.2651], '0001.jpg': [0.6704, 0.2703]}\n",
      "process subject:  colorful_sneaker\n",
      "prompt:  prompt13\n",
      "{'0003.jpg': [0.607, 0.2803], '0000.jpg': [0.5005, 0.2242], '0002.jpg': [0.512, 0.266], '0001.jpg': [0.5146, 0.2722]}\n",
      "prompt:  prompt8\n",
      "{'0003.jpg': [0.4858, 0.2588], '0000.jpg': [0.719, 0.1772], '0002.jpg': [0.7666, 0.1935], '0001.jpg': [0.4438, 0.2852]}\n",
      "prompt:  prompt17\n",
      "{'0003.jpg': [0.4167, 0.2534], '0000.jpg': [0.4705, 0.2502], '0002.jpg': [0.3853, 0.2046], '0001.jpg': [0.4658, 0.2456]}\n",
      "prompt:  prompt19\n",
      "{'0003.jpg': [0.5786, 0.2754], '0000.jpg': [0.581, 0.3037], '0002.jpg': [0.691, 0.2793], '0001.jpg': [0.712, 0.246]}\n",
      "prompt:  prompt10\n",
      "{'0003.jpg': [0.3782, 0.289], '0000.jpg': [0.4016, 0.2976], '0002.jpg': [0.3591, 0.2788], '0001.jpg': [0.3325, 0.28]}\n",
      "prompt:  prompt2\n",
      "{'0003.jpg': [0.7485, 0.2365], '0000.jpg': [0.5684, 0.2725], '0002.jpg': [0.6567, 0.2454], '0001.jpg': [0.811, 0.2098]}\n",
      "prompt:  prompt15\n",
      "{'0003.jpg': [0.4805, 0.2896], '0000.jpg': [0.4443, 0.309], '0002.jpg': [0.4797, 0.2935], '0001.jpg': [0.462, 0.2961]}\n",
      "prompt:  prompt22\n",
      "{'0003.jpg': [0.8003, 0.2024], '0000.jpg': [0.7905, 0.2042], '0002.jpg': [0.779, 0.2087], '0001.jpg': [0.786, 0.1965]}\n",
      "prompt:  prompt1\n",
      "{'0003.jpg': [0.767, 0.1531], '0000.jpg': [0.7715, 0.2773], '0002.jpg': [0.4792, 0.265], '0001.jpg': [0.7275, 0.2432]}\n",
      "prompt:  prompt14\n",
      "{'0003.jpg': [0.5327, 0.2272], '0000.jpg': [0.5024, 0.2664], '0002.jpg': [0.473, 0.2126], '0001.jpg': [0.4697, 0.2515]}\n",
      "prompt:  prompt6\n",
      "{'0003.jpg': [0.767, 0.1871], '0000.jpg': [0.7734, 0.1921], '0002.jpg': [0.818, 0.2084], '0001.jpg': [0.7827, 0.1985]}\n",
      "prompt:  prompt5\n",
      "{'0003.jpg': [0.7563, 0.2015], '0000.jpg': [0.728, 0.216], '0002.jpg': [0.6675, 0.259], '0001.jpg': [0.6934, 0.2563]}\n",
      "prompt:  prompt11\n",
      "{'0003.jpg': [0.4792, 0.255], '0000.jpg': [0.71, 0.2452], '0002.jpg': [0.4985, 0.27], '0001.jpg': [0.5117, 0.2578]}\n",
      "prompt:  prompt7\n",
      "{'0003.jpg': [0.7637, 0.1995], '0000.jpg': [0.6104, 0.261], '0002.jpg': [0.744, 0.266], '0001.jpg': [0.7627, 0.2314]}\n",
      "prompt:  prompt21\n",
      "{'0003.jpg': [0.768, 0.2396], '0000.jpg': [0.705, 0.2452], '0002.jpg': [0.77, 0.2374], '0001.jpg': [0.7744, 0.2288]}\n",
      "prompt:  prompt12\n",
      "{'0003.jpg': [0.4753, 0.2683], '0000.jpg': [0.4963, 0.269], '0002.jpg': [0.4954, 0.284], '0001.jpg': [0.457, 0.2625]}\n",
      "prompt:  prompt20\n",
      "{'0003.jpg': [0.7544, 0.205], '0000.jpg': [0.752, 0.2012], '0002.jpg': [0.7437, 0.1893], '0001.jpg': [0.7856, 0.2102]}\n",
      "prompt:  prompt4\n",
      "{'0003.jpg': [0.574, 0.227], '0000.jpg': [0.625, 0.2347], '0002.jpg': [0.6235, 0.2338], '0001.jpg': [0.5825, 0.2502]}\n",
      "prompt:  prompt3\n",
      "{'0003.jpg': [0.651, 0.283], '0000.jpg': [0.4812, 0.3], '0002.jpg': [0.4875, 0.2915], '0001.jpg': [0.6206, 0.2178]}\n",
      "prompt:  prompt23\n",
      "{'0003.jpg': [0.6885, 0.1982], '0000.jpg': [0.797, 0.203], '0002.jpg': [0.7847, 0.2128], '0001.jpg': [0.792, 0.216]}\n",
      "prompt:  prompt0\n",
      "{'0003.jpg': [0.7812, 0.229], '0000.jpg': [0.8003, 0.2393], '0002.jpg': [0.537, 0.249], '0001.jpg': [0.515, 0.237]}\n",
      "prompt:  prompt18\n",
      "{'0003.jpg': [0.6035, 0.2913], '0000.jpg': [0.743, 0.2358], '0002.jpg': [0.4492, 0.2281], '0001.jpg': [0.4717, 0.2568]}\n",
      "prompt:  prompt16\n",
      "{'0003.jpg': [0.5293, 0.2104], '0000.jpg': [0.4995, 0.259], '0002.jpg': [0.4883, 0.259], '0001.jpg': [0.4995, 0.2625]}\n",
      "prompt:  prompt24\n",
      "{'0003.jpg': [0.8047, 0.1726], '0000.jpg': [0.766, 0.1805], '0002.jpg': [0.5864, 0.2988], '0001.jpg': [0.788, 0.209]}\n",
      "prompt:  prompt9\n",
      "{'0003.jpg': [0.548, 0.3198], '0000.jpg': [0.5234, 0.3237], '0002.jpg': [0.67, 0.2825], '0001.jpg': [0.6514, 0.2957]}\n",
      "process subject:  vase\n",
      "prompt:  prompt13\n",
      "{'0003.jpg': [0.831, 0.1892], '0000.jpg': [0.793, 0.217], '0002.jpg': [0.7905, 0.2122], '0001.jpg': [0.671, 0.2023]}\n",
      "prompt:  prompt8\n",
      "{'0003.jpg': [0.718, 0.2205], '0000.jpg': [0.807, 0.1993], '0002.jpg': [0.808, 0.159], '0001.jpg': [0.6924, 0.1934]}\n",
      "prompt:  prompt17\n",
      "{'0003.jpg': [0.6426, 0.207], '0000.jpg': [0.6475, 0.2216], '0002.jpg': [0.672, 0.2062], '0001.jpg': [0.6196, 0.2076]}\n",
      "prompt:  prompt19\n",
      "{'0003.jpg': [0.747, 0.1982], '0000.jpg': [0.817, 0.1996], '0002.jpg': [0.7183, 0.1643], '0001.jpg': [0.777, 0.212]}\n",
      "prompt:  prompt10\n",
      "{'0003.jpg': [0.7666, 0.1823], '0000.jpg': [0.7886, 0.1635], '0002.jpg': [0.6797, 0.1812], '0001.jpg': [0.694, 0.2046]}\n",
      "prompt:  prompt2\n",
      "{'0003.jpg': [0.8115, 0.1538], '0000.jpg': [0.8438, 0.129], '0002.jpg': [0.7563, 0.1572], '0001.jpg': [0.739, 0.1449]}\n",
      "prompt:  prompt15\n",
      "{'0003.jpg': [0.661, 0.2426], '0000.jpg': [0.63, 0.2656], '0002.jpg': [0.6313, 0.2935], '0001.jpg': [0.7007, 0.22]}\n",
      "prompt:  prompt22\n",
      "{'0003.jpg': [0.707, 0.1832], '0000.jpg': [0.7285, 0.2306], '0002.jpg': [0.809, 0.2122], '0001.jpg': [0.831, 0.2275]}\n",
      "prompt:  prompt1\n",
      "{'0003.jpg': [0.7036, 0.2021], '0000.jpg': [0.79, 0.147], '0002.jpg': [0.659, 0.1705], '0001.jpg': [0.6973, 0.151]}\n",
      "prompt:  prompt14\n",
      "{'0003.jpg': [0.8, 0.1868], '0000.jpg': [0.8066, 0.1615], '0002.jpg': [0.797, 0.1698], '0001.jpg': [0.751, 0.201]}\n",
      "prompt:  prompt6\n",
      "{'0003.jpg': [0.751, 0.1766], '0000.jpg': [0.7666, 0.1876], '0002.jpg': [0.6396, 0.2136], '0001.jpg': [0.8003, 0.1978]}\n",
      "prompt:  prompt5\n",
      "{'0003.jpg': [0.778, 0.1876], '0000.jpg': [0.8433, 0.2065], '0002.jpg': [0.819, 0.1772], '0001.jpg': [0.767, 0.1798]}\n",
      "prompt:  prompt11\n",
      "{'0003.jpg': [0.6763, 0.2825], '0000.jpg': [0.6577, 0.278], '0002.jpg': [0.7427, 0.237], '0001.jpg': [0.623, 0.2722]}\n",
      "prompt:  prompt7\n",
      "{'0003.jpg': [0.7046, 0.2056], '0000.jpg': [0.707, 0.2188], '0002.jpg': [0.645, 0.2178], '0001.jpg': [0.8096, 0.2076]}\n",
      "prompt:  prompt21\n",
      "{'0003.jpg': [0.576, 0.2505], '0000.jpg': [0.7764, 0.264], '0002.jpg': [0.784, 0.2588], '0001.jpg': [0.721, 0.2102]}\n",
      "prompt:  prompt12\n",
      "{'0003.jpg': [0.569, 0.294], '0000.jpg': [0.5845, 0.2764], '0002.jpg': [0.634, 0.254], '0001.jpg': [0.599, 0.2654]}\n",
      "prompt:  prompt20\n",
      "{'0003.jpg': [0.67, 0.1791], '0000.jpg': [0.667, 0.2634], '0002.jpg': [0.8477, 0.261], '0001.jpg': [0.7803, 0.257]}\n",
      "prompt:  prompt4\n",
      "{'0003.jpg': [0.651, 0.1934], '0000.jpg': [0.7627, 0.223], '0002.jpg': [0.7563, 0.1814], '0001.jpg': [0.577, 0.2094]}\n",
      "prompt:  prompt3\n",
      "{'0003.jpg': [0.663, 0.1625], '0000.jpg': [0.794, 0.1743], '0002.jpg': [0.597, 0.1726], '0001.jpg': [0.739, 0.1393]}\n",
      "prompt:  prompt23\n",
      "{'0003.jpg': [0.7554, 0.2155], '0000.jpg': [0.793, 0.2374], '0002.jpg': [0.712, 0.2476], '0001.jpg': [0.576, 0.2512]}\n",
      "prompt:  prompt0\n",
      "{'0003.jpg': [0.749, 0.2152], '0000.jpg': [0.744, 0.2354], '0002.jpg': [0.8066, 0.2148], '0001.jpg': [0.766, 0.2344]}\n",
      "prompt:  prompt18\n",
      "{'0003.jpg': [0.696, 0.2128], '0000.jpg': [0.6357, 0.2177], '0002.jpg': [0.5728, 0.2416], '0001.jpg': [0.6377, 0.2253]}\n",
      "prompt:  prompt16\n",
      "{'0003.jpg': [0.675, 0.2617], '0000.jpg': [0.809, 0.1666], '0002.jpg': [0.7773, 0.1886], '0001.jpg': [0.781, 0.22]}\n",
      "prompt:  prompt24\n",
      "{'0003.jpg': [0.8145, 0.2124], '0000.jpg': [0.817, 0.207], '0002.jpg': [0.721, 0.2603], '0001.jpg': [0.7627, 0.2177]}\n",
      "prompt:  prompt9\n",
      "{'0003.jpg': [0.6494, 0.2566], '0000.jpg': [0.717, 0.2316], '0002.jpg': [0.576, 0.215], '0001.jpg': [0.7305, 0.2644]}\n",
      "process subject:  duck_toy\n",
      "prompt:  prompt13\n",
      "{'0003.jpg': [0.831, 0.2444], '0000.jpg': [0.841, 0.2336], '0002.jpg': [0.8916, 0.258], '0001.jpg': [0.8145, 0.2622]}\n",
      "prompt:  prompt8\n",
      "{'0003.jpg': [0.84, 0.1927], '0000.jpg': [0.7324, 0.2468], '0002.jpg': [0.8057, 0.1621], '0001.jpg': [0.789, 0.2318]}\n",
      "prompt:  prompt17\n",
      "{'0003.jpg': [0.7915, 0.2559], '0000.jpg': [0.782, 0.2422], '0002.jpg': [0.833, 0.1869], '0001.jpg': [0.8438, 0.227]}\n",
      "prompt:  prompt19\n",
      "{'0003.jpg': [0.712, 0.1467], '0000.jpg': [0.7715, 0.1642], '0002.jpg': [0.8555, 0.201], '0001.jpg': [0.7983, 0.1919]}\n",
      "prompt:  prompt10\n",
      "{'0003.jpg': [0.836, 0.2008], '0000.jpg': [0.8193, 0.1642], '0002.jpg': [0.8135, 0.1667], '0001.jpg': [0.8774, 0.2076]}\n",
      "prompt:  prompt2\n",
      "{'0003.jpg': [0.842, 0.1873], '0000.jpg': [0.7783, 0.207], '0002.jpg': [0.869, 0.2482], '0001.jpg': [0.8135, 0.2554]}\n",
      "prompt:  prompt15\n",
      "{'0003.jpg': [0.752, 0.2346], '0000.jpg': [0.84, 0.1901], '0002.jpg': [0.782, 0.2238], '0001.jpg': [0.8193, 0.2366]}\n",
      "prompt:  prompt22\n",
      "{'0003.jpg': [0.8306, 0.1975], '0000.jpg': [0.8486, 0.2166], '0002.jpg': [0.807, 0.2316], '0001.jpg': [0.7695, 0.2084]}\n",
      "prompt:  prompt1\n",
      "{'0003.jpg': [0.7705, 0.225], '0000.jpg': [0.7983, 0.231], '0002.jpg': [0.83, 0.2026], '0001.jpg': [0.751, 0.2238]}\n",
      "prompt:  prompt14\n",
      "{'0003.jpg': [0.853, 0.2004], '0000.jpg': [0.85, 0.2031], '0002.jpg': [0.8745, 0.2076], '0001.jpg': [0.8936, 0.2198]}\n",
      "prompt:  prompt6\n",
      "{'0003.jpg': [0.878, 0.193], '0000.jpg': [0.834, 0.1908], '0002.jpg': [0.8594, 0.1912], '0001.jpg': [0.8623, 0.1797]}\n",
      "prompt:  prompt5\n",
      "{'0003.jpg': [0.888, 0.1971], '0000.jpg': [0.8594, 0.2218], '0002.jpg': [0.7764, 0.1532], '0001.jpg': [0.8457, 0.1871]}\n",
      "prompt:  prompt11\n",
      "{'0003.jpg': [0.8105, 0.2222], '0000.jpg': [0.7305, 0.223], '0002.jpg': [0.809, 0.2244], '0001.jpg': [0.8184, 0.2266]}\n",
      "prompt:  prompt7\n",
      "{'0003.jpg': [0.7915, 0.2404], '0000.jpg': [0.8438, 0.2137], '0002.jpg': [0.819, 0.2001], '0001.jpg': [0.8203, 0.2474]}\n",
      "prompt:  prompt21\n",
      "{'0003.jpg': [0.833, 0.2432], '0000.jpg': [0.82, 0.2512], '0002.jpg': [0.798, 0.2343], '0001.jpg': [0.791, 0.2264]}\n",
      "prompt:  prompt12\n",
      "{'0003.jpg': [0.7607, 0.255], '0000.jpg': [0.706, 0.2832], '0002.jpg': [0.715, 0.2646], '0001.jpg': [0.7397, 0.2666]}\n",
      "prompt:  prompt20\n",
      "{'0003.jpg': [0.8057, 0.2192], '0000.jpg': [0.8184, 0.2104], '0002.jpg': [0.8345, 0.2186], '0001.jpg': [0.793, 0.2024]}\n",
      "prompt:  prompt4\n",
      "{'0003.jpg': [0.873, 0.2178], '0000.jpg': [0.8184, 0.1938], '0002.jpg': [0.838, 0.24], '0001.jpg': [0.78, 0.2322]}\n",
      "prompt:  prompt3\n",
      "{'0003.jpg': [0.857, 0.2122], '0000.jpg': [0.875, 0.2142], '0002.jpg': [0.8154, 0.268], '0001.jpg': [0.781, 0.2168]}\n",
      "prompt:  prompt23\n",
      "{'0003.jpg': [0.804, 0.2155], '0000.jpg': [0.8105, 0.2177], '0002.jpg': [0.8677, 0.2314], '0001.jpg': [0.836, 0.2306]}\n",
      "prompt:  prompt0\n",
      "{'0003.jpg': [0.8228, 0.1692], '0000.jpg': [0.843, 0.1666], '0002.jpg': [0.891, 0.188], '0001.jpg': [0.8115, 0.1733]}\n",
      "prompt:  prompt18\n",
      "{'0003.jpg': [0.7695, 0.204], '0000.jpg': [0.783, 0.163], '0002.jpg': [0.7563, 0.1886], '0001.jpg': [0.8086, 0.1783]}\n",
      "prompt:  prompt16\n",
      "{'0003.jpg': [0.832, 0.1761], '0000.jpg': [0.817, 0.1915], '0002.jpg': [0.841, 0.1951], '0001.jpg': [0.814, 0.1703]}\n",
      "prompt:  prompt24\n",
      "{'0003.jpg': [0.8296, 0.1969], '0000.jpg': [0.8457, 0.1954], '0002.jpg': [0.8267, 0.2046], '0001.jpg': [0.87, 0.1956]}\n",
      "prompt:  prompt9\n",
      "{'0003.jpg': [0.8096, 0.211], '0000.jpg': [0.7803, 0.2842], '0002.jpg': [0.832, 0.2452], '0001.jpg': [0.747, 0.27]}\n",
      "process subject:  robot_toy\n",
      "prompt:  prompt13\n",
      "{'0003.jpg': [0.7954, 0.216], '0000.jpg': [0.7314, 0.2096], '0002.jpg': [0.723, 0.2693], '0001.jpg': [0.777, 0.19]}\n",
      "prompt:  prompt8\n",
      "{'0003.jpg': [0.7783, 0.1925], '0000.jpg': [0.842, 0.2152], '0002.jpg': [0.8047, 0.2563], '0001.jpg': [0.8066, 0.1957]}\n",
      "prompt:  prompt17\n",
      "{'0003.jpg': [0.7876, 0.2133], '0000.jpg': [0.7676, 0.2188], '0002.jpg': [0.787, 0.2087], '0001.jpg': [0.7646, 0.1625]}\n",
      "prompt:  prompt19\n",
      "{'0003.jpg': [0.7954, 0.1799], '0000.jpg': [0.827, 0.1688], '0002.jpg': [0.812, 0.1672], '0001.jpg': [0.8027, 0.1707]}\n",
      "prompt:  prompt10\n",
      "{'0003.jpg': [0.7812, 0.1609], '0000.jpg': [0.808, 0.175], '0002.jpg': [0.7666, 0.1311], '0001.jpg': [0.77, 0.1746]}\n",
      "prompt:  prompt2\n",
      "{'0003.jpg': [0.793, 0.2268], '0000.jpg': [0.782, 0.251], '0002.jpg': [0.776, 0.2585], '0001.jpg': [0.7783, 0.2402]}\n",
      "prompt:  prompt15\n",
      "{'0003.jpg': [0.7593, 0.2458], '0000.jpg': [0.7666, 0.2607], '0002.jpg': [0.743, 0.2446], '0001.jpg': [0.7866, 0.2386]}\n",
      "prompt:  prompt22\n",
      "{'0003.jpg': [0.796, 0.2036], '0000.jpg': [0.8125, 0.2126], '0002.jpg': [0.7964, 0.2302], '0001.jpg': [0.791, 0.1947]}\n",
      "prompt:  prompt1\n",
      "{'0003.jpg': [0.7876, 0.1683], '0000.jpg': [0.79, 0.1697], '0002.jpg': [0.8276, 0.1976], '0001.jpg': [0.719, 0.179]}\n",
      "prompt:  prompt14\n",
      "{'0003.jpg': [0.7134, 0.2025], '0000.jpg': [0.8228, 0.1708], '0002.jpg': [0.7305, 0.1772], '0001.jpg': [0.8125, 0.1967]}\n",
      "prompt:  prompt6\n",
      "{'0003.jpg': [0.7573, 0.204], '0000.jpg': [0.774, 0.1886], '0002.jpg': [0.7812, 0.2192], '0001.jpg': [0.7524, 0.1873]}\n",
      "prompt:  prompt5\n",
      "{'0003.jpg': [0.8125, 0.2148], '0000.jpg': [0.779, 0.2012], '0002.jpg': [0.7744, 0.2158], '0001.jpg': [0.817, 0.2194]}\n",
      "prompt:  prompt11\n",
      "{'0003.jpg': [0.7295, 0.2325], '0000.jpg': [0.773, 0.2374], '0002.jpg': [0.785, 0.2178], '0001.jpg': [0.796, 0.2284]}\n",
      "prompt:  prompt7\n",
      "{'0003.jpg': [0.791, 0.235], '0000.jpg': [0.749, 0.2302], '0002.jpg': [0.774, 0.1992], '0001.jpg': [0.7725, 0.1687]}\n",
      "prompt:  prompt21\n",
      "{'0003.jpg': [0.7637, 0.2688], '0000.jpg': [0.7964, 0.2465], '0002.jpg': [0.7515, 0.2316], '0001.jpg': [0.745, 0.2627]}\n",
      "prompt:  prompt12\n",
      "{'0003.jpg': [0.7896, 0.1807], '0000.jpg': [0.6226, 0.2876], '0002.jpg': [0.78, 0.2249], '0001.jpg': [0.632, 0.2646]}\n",
      "prompt:  prompt20\n",
      "{'0003.jpg': [0.7646, 0.2294], '0000.jpg': [0.7544, 0.2487], '0002.jpg': [0.805, 0.2041], '0001.jpg': [0.784, 0.2262]}\n",
      "prompt:  prompt4\n",
      "{'0003.jpg': [0.812, 0.1838], '0000.jpg': [0.824, 0.1443], '0002.jpg': [0.781, 0.1362], '0001.jpg': [0.7964, 0.1404]}\n",
      "prompt:  prompt3\n",
      "{'0003.jpg': [0.774, 0.2192], '0000.jpg': [0.7656, 0.1473], '0002.jpg': [0.7764, 0.218], '0001.jpg': [0.7603, 0.1826]}\n",
      "prompt:  prompt23\n",
      "{'0003.jpg': [0.7886, 0.2052], '0000.jpg': [0.754, 0.1952], '0002.jpg': [0.785, 0.1853], '0001.jpg': [0.7905, 0.1919]}\n",
      "prompt:  prompt0\n",
      "{'0003.jpg': [0.796, 0.222], '0000.jpg': [0.823, 0.212], '0002.jpg': [0.7935, 0.1832], '0001.jpg': [0.781, 0.2358]}\n",
      "prompt:  prompt18\n",
      "{'0003.jpg': [0.7725, 0.2234], '0000.jpg': [0.808, 0.2242], '0002.jpg': [0.7925, 0.2031], '0001.jpg': [0.798, 0.216]}\n",
      "prompt:  prompt16\n",
      "{'0003.jpg': [0.824, 0.1636], '0000.jpg': [0.8037, 0.1582], '0002.jpg': [0.8145, 0.1488], '0001.jpg': [0.781, 0.1385]}\n",
      "prompt:  prompt24\n",
      "{'0003.jpg': [0.814, 0.1715], '0000.jpg': [0.7637, 0.1699], '0002.jpg': [0.802, 0.184], '0001.jpg': [0.819, 0.183]}\n",
      "prompt:  prompt9\n",
      "{'0003.jpg': [0.7764, 0.1997], '0000.jpg': [0.74, 0.2644], '0002.jpg': [0.7793, 0.2352], '0001.jpg': [0.7593, 0.2324]}\n",
      "process subject:  thin_bird\n",
      "prompt:  prompt13\n",
      "{'0003.jpg': [0.749, 0.2366], '0000.jpg': [0.73, 0.214], '0002.jpg': [0.7344, 0.2122], '0001.jpg': [0.705, 0.2202]}\n",
      "prompt:  prompt8\n",
      "{'0003.jpg': [0.75, 0.1987], '0000.jpg': [0.72, 0.1823], '0002.jpg': [0.7476, 0.1582], '0001.jpg': [0.57, 0.2086]}\n",
      "prompt:  prompt17\n",
      "{'0003.jpg': [0.78, 0.2338], '0000.jpg': [0.6777, 0.2249], '0002.jpg': [0.7275, 0.2372], '0001.jpg': [0.6914, 0.1842]}\n",
      "prompt:  prompt19\n",
      "{'0003.jpg': [0.658, 0.2208], '0000.jpg': [0.57, 0.2332], '0002.jpg': [0.666, 0.2266], '0001.jpg': [0.745, 0.2474]}\n",
      "prompt:  prompt10\n",
      "{'0003.jpg': [0.725, 0.1951], '0000.jpg': [0.7114, 0.2126], '0002.jpg': [0.7407, 0.2024], '0001.jpg': [0.771, 0.2299]}\n",
      "prompt:  prompt2\n",
      "{'0003.jpg': [0.8164, 0.2136], '0000.jpg': [0.7153, 0.2007], '0002.jpg': [0.725, 0.2062], '0001.jpg': [0.7734, 0.2014]}\n",
      "prompt:  prompt15\n",
      "{'0003.jpg': [0.6265, 0.2343], '0000.jpg': [0.5654, 0.229], '0002.jpg': [0.767, 0.1805], '0001.jpg': [0.6963, 0.1705]}\n",
      "prompt:  prompt22\n",
      "{'0003.jpg': [0.723, 0.2312], '0000.jpg': [0.57, 0.2465], '0002.jpg': [0.801, 0.2184], '0001.jpg': [0.8213, 0.2281]}\n",
      "prompt:  prompt1\n",
      "{'0003.jpg': [0.81, 0.1682], '0000.jpg': [0.7866, 0.1932], '0002.jpg': [0.7534, 0.1366], '0001.jpg': [0.7017, 0.1757]}\n",
      "prompt:  prompt14\n",
      "{'0003.jpg': [0.758, 0.2288], '0000.jpg': [0.75, 0.2172], '0002.jpg': [0.7812, 0.1948], '0001.jpg': [0.8057, 0.2102]}\n",
      "prompt:  prompt6\n",
      "{'0003.jpg': [0.734, 0.1882], '0000.jpg': [0.6685, 0.173], '0002.jpg': [0.7524, 0.1918], '0001.jpg': [0.7646, 0.2065]}\n",
      "prompt:  prompt5\n",
      "{'0003.jpg': [0.702, 0.2299], '0000.jpg': [0.6167, 0.2622], '0002.jpg': [0.63, 0.297], '0001.jpg': [0.6406, 0.2441]}\n",
      "prompt:  prompt11\n",
      "{'0003.jpg': [0.57, 0.2188], '0000.jpg': [0.79, 0.2084], '0002.jpg': [0.57, 0.2188], '0001.jpg': [0.6934, 0.1705]}\n",
      "prompt:  prompt7\n",
      "{'0003.jpg': [0.57, 0.2402], '0000.jpg': [0.682, 0.2296], '0002.jpg': [0.693, 0.1948], '0001.jpg': [0.6406, 0.1869]}\n",
      "prompt:  prompt21\n",
      "{'0003.jpg': [0.689, 0.2498], '0000.jpg': [0.7515, 0.2394], '0002.jpg': [0.57, 0.2505], '0001.jpg': [0.7573, 0.1907]}\n",
      "prompt:  prompt12\n",
      "{'0003.jpg': [0.672, 0.189], '0000.jpg': [0.7324, 0.2242], '0002.jpg': [0.7373, 0.1835], '0001.jpg': [0.77, 0.1967]}\n",
      "prompt:  prompt20\n",
      "{'0003.jpg': [0.6787, 0.1893], '0000.jpg': [0.7163, 0.2115], '0002.jpg': [0.57, 0.2607], '0001.jpg': [0.839, 0.2146]}\n",
      "prompt:  prompt4\n",
      "{'0003.jpg': [0.6943, 0.2365], '0000.jpg': [0.782, 0.1989], '0002.jpg': [0.57, 0.2216], '0001.jpg': [0.6797, 0.22]}\n",
      "prompt:  prompt3\n",
      "{'0003.jpg': [0.7725, 0.1881], '0000.jpg': [0.752, 0.1571], '0002.jpg': [0.5396, 0.1526], '0001.jpg': [0.71, 0.2238]}\n",
      "prompt:  prompt23\n",
      "{'0003.jpg': [0.807, 0.2174], '0000.jpg': [0.7847, 0.2228], '0002.jpg': [0.8003, 0.2256], '0001.jpg': [0.742, 0.21]}\n",
      "prompt:  prompt0\n",
      "{'0003.jpg': [0.57, 0.2242], '0000.jpg': [0.7427, 0.2052], '0002.jpg': [0.7246, 0.1885], '0001.jpg': [0.697, 0.1964]}\n",
      "prompt:  prompt18\n",
      "{'0003.jpg': [0.7344, 0.1796], '0000.jpg': [0.701, 0.1759], '0002.jpg': [0.6973, 0.1853], '0001.jpg': [0.7256, 0.1915]}\n",
      "prompt:  prompt16\n",
      "{'0003.jpg': [0.57, 0.245], '0000.jpg': [0.57, 0.245], '0002.jpg': [0.776, 0.2002], '0001.jpg': [0.57, 0.245]}\n",
      "prompt:  prompt24\n",
      "{'0003.jpg': [0.699, 0.1715], '0000.jpg': [0.735, 0.2452], '0002.jpg': [0.682, 0.3264], '0001.jpg': [0.6523, 0.3267]}\n",
      "prompt:  prompt9\n",
      "{'0003.jpg': [0.7056, 0.2155], '0000.jpg': [0.7036, 0.192], '0002.jpg': [0.57, 0.215], '0001.jpg': [0.743, 0.2013]}\n",
      "process subject:  teapot\n",
      "prompt:  prompt13\n",
      "{'0003.jpg': [0.7383, 0.2087], '0000.jpg': [0.797, 0.2136], '0002.jpg': [0.8247, 0.1963], '0001.jpg': [0.7983, 0.2126]}\n",
      "prompt:  prompt8\n",
      "{'0003.jpg': [0.866, 0.1919], '0000.jpg': [0.8267, 0.1663], '0002.jpg': [0.8267, 0.1636], '0001.jpg': [0.8677, 0.194]}\n",
      "prompt:  prompt17\n",
      "{'0003.jpg': [0.769, 0.2146], '0000.jpg': [0.794, 0.2384], '0002.jpg': [0.8267, 0.2084], '0001.jpg': [0.7085, 0.2292]}\n",
      "prompt:  prompt19\n",
      "{'0003.jpg': [0.8457, 0.18], '0000.jpg': [0.7573, 0.229], '0002.jpg': [0.797, 0.1892], '0001.jpg': [0.791, 0.194]}\n",
      "prompt:  prompt10\n",
      "{'0003.jpg': [0.697, 0.2076], '0000.jpg': [0.76, 0.1567], '0002.jpg': [0.825, 0.1595], '0001.jpg': [0.757, 0.1407]}\n",
      "prompt:  prompt2\n",
      "{'0003.jpg': [0.715, 0.266], '0000.jpg': [0.716, 0.2474], '0002.jpg': [0.7417, 0.2156], '0001.jpg': [0.8022, 0.1832]}\n",
      "prompt:  prompt15\n",
      "{'0003.jpg': [0.6377, 0.2188], '0000.jpg': [0.765, 0.2415], '0002.jpg': [0.653, 0.2441], '0001.jpg': [0.8296, 0.1849]}\n",
      "prompt:  prompt22\n",
      "{'0003.jpg': [0.825, 0.1842], '0000.jpg': [0.762, 0.1985], '0002.jpg': [0.836, 0.1776], '0001.jpg': [0.858, 0.1812]}\n",
      "prompt:  prompt1\n",
      "{'0003.jpg': [0.834, 0.1334], '0000.jpg': [0.8394, 0.1554], '0002.jpg': [0.763, 0.1792], '0001.jpg': [0.8315, 0.1558]}\n",
      "prompt:  prompt14\n",
      "{'0003.jpg': [0.749, 0.209], '0000.jpg': [0.841, 0.2034], '0002.jpg': [0.7725, 0.1923], '0001.jpg': [0.85, 0.2086]}\n",
      "prompt:  prompt6\n",
      "{'0003.jpg': [0.83, 0.18], '0000.jpg': [0.726, 0.1675], '0002.jpg': [0.7627, 0.2218], '0001.jpg': [0.8086, 0.174]}\n",
      "prompt:  prompt5\n",
      "{'0003.jpg': [0.8286, 0.2354], '0000.jpg': [0.806, 0.2094], '0002.jpg': [0.8086, 0.203], '0001.jpg': [0.808, 0.1674]}\n",
      "prompt:  prompt11\n",
      "{'0003.jpg': [0.8237, 0.2094], '0000.jpg': [0.828, 0.1993], '0002.jpg': [0.7446, 0.214], '0001.jpg': [0.8066, 0.2054]}\n",
      "prompt:  prompt7\n",
      "{'0003.jpg': [0.8076, 0.1926], '0000.jpg': [0.861, 0.188], '0002.jpg': [0.8267, 0.1897], '0001.jpg': [0.8423, 0.2006]}\n",
      "prompt:  prompt21\n",
      "{'0003.jpg': [0.838, 0.2188], '0000.jpg': [0.851, 0.258], '0002.jpg': [0.782, 0.2725], '0001.jpg': [0.848, 0.2532]}\n",
      "prompt:  prompt12\n",
      "{'0003.jpg': [0.7046, 0.2505], '0000.jpg': [0.7007, 0.2408], '0002.jpg': [0.7, 0.2502], '0001.jpg': [0.699, 0.255]}\n",
      "prompt:  prompt20\n",
      "{'0003.jpg': [0.761, 0.2186], '0000.jpg': [0.858, 0.2296], '0002.jpg': [0.8213, 0.2014], '0001.jpg': [0.8584, 0.2092]}\n",
      "prompt:  prompt4\n",
      "{'0003.jpg': [0.76, 0.2014], '0000.jpg': [0.7427, 0.2137], '0002.jpg': [0.615, 0.2402], '0001.jpg': [0.7495, 0.2162]}\n",
      "prompt:  prompt3\n",
      "{'0003.jpg': [0.6562, 0.2296], '0000.jpg': [0.7188, 0.2242], '0002.jpg': [0.8403, 0.1528], '0001.jpg': [0.7847, 0.213]}\n",
      "prompt:  prompt23\n",
      "{'0003.jpg': [0.821, 0.2031], '0000.jpg': [0.884, 0.2058], '0002.jpg': [0.8555, 0.194], '0001.jpg': [0.8496, 0.1815]}\n",
      "prompt:  prompt0\n",
      "{'0003.jpg': [0.8086, 0.207], '0000.jpg': [0.8496, 0.1677], '0002.jpg': [0.7974, 0.2058], '0001.jpg': [0.8296, 0.1904]}\n",
      "prompt:  prompt18\n",
      "{'0003.jpg': [0.7773, 0.1829], '0000.jpg': [0.785, 0.1445], '0002.jpg': [0.8022, 0.1719], '0001.jpg': [0.8403, 0.1217]}\n",
      "prompt:  prompt16\n",
      "{'0003.jpg': [0.8823, 0.161], '0000.jpg': [0.8306, 0.1772], '0002.jpg': [0.8477, 0.1649], '0001.jpg': [0.7954, 0.1992]}\n",
      "prompt:  prompt24\n",
      "{'0003.jpg': [0.778, 0.2347], '0000.jpg': [0.8027, 0.1785], '0002.jpg': [0.7734, 0.215], '0001.jpg': [0.8555, 0.1803]}\n",
      "prompt:  prompt9\n",
      "{'0003.jpg': [0.761, 0.1823], '0000.jpg': [0.8237, 0.1766], '0002.jpg': [0.7275, 0.267], '0001.jpg': [0.8535, 0.1333]}\n",
      "process subject:  colorful_teapot\n",
      "prompt:  prompt13\n",
      "{'0003.jpg': [0.705, 0.211], '0000.jpg': [0.69, 0.2072], '0002.jpg': [0.7695, 0.225], '0001.jpg': [0.7153, 0.2002]}\n",
      "prompt:  prompt8\n",
      "{'0003.jpg': [0.647, 0.1937], '0000.jpg': [0.671, 0.1854], '0002.jpg': [0.601, 0.2559], '0001.jpg': [0.7183, 0.1826]}\n",
      "prompt:  prompt17\n",
      "{'0003.jpg': [0.6733, 0.1886], '0000.jpg': [0.6094, 0.1777], '0002.jpg': [0.753, 0.2208], '0001.jpg': [0.6504, 0.2262]}\n",
      "prompt:  prompt19\n",
      "{'0003.jpg': [0.731, 0.2328], '0000.jpg': [0.5903, 0.1531], '0002.jpg': [0.7017, 0.1786], '0001.jpg': [0.7085, 0.154]}\n",
      "prompt:  prompt10\n",
      "{'0003.jpg': [0.6855, 0.184], '0000.jpg': [0.605, 0.1957], '0002.jpg': [0.694, 0.2012], '0001.jpg': [0.6953, 0.1882]}\n",
      "prompt:  prompt2\n",
      "{'0003.jpg': [0.6807, 0.1978], '0000.jpg': [0.6704, 0.2043], '0002.jpg': [0.677, 0.2108], '0001.jpg': [0.5645, 0.2142]}\n",
      "prompt:  prompt15\n",
      "{'0003.jpg': [0.6206, 0.3052], '0000.jpg': [0.634, 0.3171], '0002.jpg': [0.6934, 0.2532], '0001.jpg': [0.675, 0.3005]}\n",
      "prompt:  prompt22\n",
      "{'0003.jpg': [0.5645, 0.2465], '0000.jpg': [0.732, 0.2354], '0002.jpg': [0.7427, 0.2142], '0001.jpg': [0.7124, 0.2166]}\n",
      "prompt:  prompt1\n",
      "{'0003.jpg': [0.67, 0.1777], '0000.jpg': [0.667, 0.1731], '0002.jpg': [0.7334, 0.1785], '0001.jpg': [0.7754, 0.1626]}\n",
      "prompt:  prompt14\n",
      "{'0003.jpg': [0.666, 0.2019], '0000.jpg': [0.6694, 0.1967], '0002.jpg': [0.6846, 0.1893], '0001.jpg': [0.745, 0.226]}\n",
      "prompt:  prompt6\n",
      "{'0003.jpg': [0.646, 0.1869], '0000.jpg': [0.666, 0.1975], '0002.jpg': [0.626, 0.1713], '0001.jpg': [0.656, 0.1522]}\n",
      "prompt:  prompt5\n",
      "{'0003.jpg': [0.6807, 0.2546], '0000.jpg': [0.661, 0.2358], '0002.jpg': [0.7417, 0.261], '0001.jpg': [0.6084, 0.237]}\n",
      "prompt:  prompt11\n",
      "{'0003.jpg': [0.7173, 0.1647], '0000.jpg': [0.669, 0.1902], '0002.jpg': [0.7275, 0.1647], '0001.jpg': [0.6763, 0.2188]}\n",
      "prompt:  prompt7\n",
      "{'0003.jpg': [0.7124, 0.2043], '0000.jpg': [0.752, 0.1986], '0002.jpg': [0.6436, 0.2133], '0001.jpg': [0.683, 0.1959]}\n",
      "prompt:  prompt21\n",
      "{'0003.jpg': [0.7, 0.2133], '0000.jpg': [0.853, 0.2096], '0002.jpg': [0.676, 0.2156], '0001.jpg': [0.665, 0.228]}\n",
      "prompt:  prompt12\n",
      "{'0003.jpg': [0.7446, 0.1681], '0000.jpg': [0.701, 0.1624], '0002.jpg': [0.692, 0.1355], '0001.jpg': [0.763, 0.1339]}\n",
      "prompt:  prompt20\n",
      "{'0003.jpg': [0.612, 0.1995], '0000.jpg': [0.7363, 0.2507], '0002.jpg': [0.615, 0.216], '0001.jpg': [0.6694, 0.224]}\n",
      "prompt:  prompt4\n",
      "{'0003.jpg': [0.689, 0.2314], '0000.jpg': [0.7046, 0.1937], '0002.jpg': [0.719, 0.1843], '0001.jpg': [0.692, 0.1633]}\n",
      "prompt:  prompt3\n",
      "{'0003.jpg': [0.7803, 0.1732], '0000.jpg': [0.6934, 0.2274], '0002.jpg': [0.6514, 0.1895], '0001.jpg': [0.64, 0.202]}\n",
      "prompt:  prompt23\n",
      "{'0003.jpg': [0.7524, 0.2299], '0000.jpg': [0.665, 0.239], '0002.jpg': [0.7676, 0.2268], '0001.jpg': [0.672, 0.1938]}\n",
      "prompt:  prompt0\n",
      "{'0003.jpg': [0.512, 0.1827], '0000.jpg': [0.576, 0.1978], '0002.jpg': [0.6523, 0.2052], '0001.jpg': [0.59, 0.221]}\n",
      "prompt:  prompt18\n",
      "{'0003.jpg': [0.596, 0.1674], '0000.jpg': [0.6387, 0.21], '0002.jpg': [0.6665, 0.177], '0001.jpg': [0.6543, 0.1902]}\n",
      "prompt:  prompt16\n",
      "{'0003.jpg': [0.693, 0.2047], '0000.jpg': [0.7354, 0.1744], '0002.jpg': [0.6406, 0.1853], '0001.jpg': [0.6934, 0.181]}\n",
      "prompt:  prompt24\n",
      "{'0003.jpg': [0.806, 0.2227], '0000.jpg': [0.8105, 0.2424], '0002.jpg': [0.68, 0.253], '0001.jpg': [0.6826, 0.248]}\n",
      "prompt:  prompt9\n",
      "{'0003.jpg': [0.661, 0.227], '0000.jpg': [0.6626, 0.2302], '0002.jpg': [0.579, 0.294], '0001.jpg': [0.693, 0.229]}\n",
      "process subject:  rc_car\n",
      "prompt:  prompt13\n",
      "{'0003.jpg': [0.6973, 0.2646], '0000.jpg': [0.7134, 0.2593], '0002.jpg': [0.7563, 0.195], '0001.jpg': [0.66, 0.238]}\n",
      "prompt:  prompt8\n",
      "{'0003.jpg': [0.7295, 0.1611], '0000.jpg': [0.686, 0.182], '0002.jpg': [0.781, 0.2054], '0001.jpg': [0.698, 0.1929]}\n",
      "prompt:  prompt17\n",
      "{'0003.jpg': [0.7383, 0.2133], '0000.jpg': [0.7773, 0.21], '0002.jpg': [0.74, 0.1566], '0001.jpg': [0.7256, 0.2084]}\n",
      "prompt:  prompt19\n",
      "{'0003.jpg': [0.81, 0.2003], '0000.jpg': [0.8, 0.1825], '0002.jpg': [0.7246, 0.226], '0001.jpg': [0.693, 0.1816]}\n",
      "prompt:  prompt10\n",
      "{'0003.jpg': [0.7856, 0.1747], '0000.jpg': [0.7666, 0.2617], '0002.jpg': [0.746, 0.1998], '0001.jpg': [0.771, 0.1677]}\n",
      "prompt:  prompt2\n",
      "{'0003.jpg': [0.7217, 0.1638], '0000.jpg': [0.7207, 0.1404], '0002.jpg': [0.7803, 0.1503], '0001.jpg': [0.7896, 0.1576]}\n",
      "prompt:  prompt15\n",
      "{'0003.jpg': [0.726, 0.1779], '0000.jpg': [0.746, 0.2155], '0002.jpg': [0.7764, 0.2041], '0001.jpg': [0.7456, 0.232]}\n",
      "prompt:  prompt22\n",
      "{'0003.jpg': [0.7803, 0.1881], '0000.jpg': [0.7715, 0.2188], '0002.jpg': [0.7554, 0.1772], '0001.jpg': [0.727, 0.2054]}\n",
      "prompt:  prompt1\n",
      "{'0003.jpg': [0.7163, 0.1581], '0000.jpg': [0.776, 0.1699], '0002.jpg': [0.7324, 0.1654], '0001.jpg': [0.7705, 0.1869]}\n",
      "prompt:  prompt14\n",
      "{'0003.jpg': [0.7686, 0.2054], '0000.jpg': [0.742, 0.1885], '0002.jpg': [0.717, 0.1685], '0001.jpg': [0.737, 0.1887]}\n",
      "prompt:  prompt6\n",
      "{'0003.jpg': [0.7676, 0.1656], '0000.jpg': [0.773, 0.164], '0002.jpg': [0.759, 0.1786], '0001.jpg': [0.798, 0.1765]}\n",
      "prompt:  prompt5\n",
      "{'0003.jpg': [0.7104, 0.21], '0000.jpg': [0.734, 0.2184], '0002.jpg': [0.7666, 0.2256], '0001.jpg': [0.7344, 0.2205]}\n",
      "prompt:  prompt11\n",
      "{'0003.jpg': [0.7944, 0.1617], '0000.jpg': [0.785, 0.1698], '0002.jpg': [0.727, 0.21], '0001.jpg': [0.7534, 0.1624]}\n",
      "prompt:  prompt7\n",
      "{'0003.jpg': [0.775, 0.1836], '0000.jpg': [0.7344, 0.2238], '0002.jpg': [0.793, 0.1903], '0001.jpg': [0.789, 0.1844]}\n",
      "prompt:  prompt21\n",
      "{'0003.jpg': [0.7285, 0.2617], '0000.jpg': [0.768, 0.2134], '0002.jpg': [0.686, 0.2098], '0001.jpg': [0.7456, 0.1974]}\n",
      "prompt:  prompt12\n",
      "{'0003.jpg': [0.772, 0.2482], '0000.jpg': [0.686, 0.2676], '0002.jpg': [0.7383, 0.1793], '0001.jpg': [0.72, 0.206]}\n",
      "prompt:  prompt20\n",
      "{'0003.jpg': [0.744, 0.2441], '0000.jpg': [0.757, 0.1986], '0002.jpg': [0.7017, 0.188], '0001.jpg': [0.7363, 0.199]}\n",
      "prompt:  prompt4\n",
      "{'0003.jpg': [0.7017, 0.181], '0000.jpg': [0.7954, 0.1759], '0002.jpg': [0.6865, 0.2262], '0001.jpg': [0.7285, 0.2102]}\n",
      "prompt:  prompt3\n",
      "{'0003.jpg': [0.777, 0.1814], '0000.jpg': [0.7456, 0.2181], '0002.jpg': [0.7495, 0.1708], '0001.jpg': [0.785, 0.2256]}\n",
      "prompt:  prompt23\n",
      "{'0003.jpg': [0.79, 0.226], '0000.jpg': [0.78, 0.1779], '0002.jpg': [0.7773, 0.2023], '0001.jpg': [0.7812, 0.1864]}\n",
      "prompt:  prompt0\n",
      "{'0003.jpg': [0.7744, 0.2178], '0000.jpg': [0.735, 0.2054], '0002.jpg': [0.698, 0.2034], '0001.jpg': [0.771, 0.2026]}\n",
      "prompt:  prompt18\n",
      "{'0003.jpg': [0.7295, 0.2338], '0000.jpg': [0.716, 0.2324], '0002.jpg': [0.7705, 0.2181], '0001.jpg': [0.7256, 0.2568]}\n",
      "prompt:  prompt16\n",
      "{'0003.jpg': [0.769, 0.2144], '0000.jpg': [0.7515, 0.1897], '0002.jpg': [0.739, 0.2274], '0001.jpg': [0.7305, 0.205]}\n",
      "prompt:  prompt24\n",
      "{'0003.jpg': [0.7524, 0.1923], '0000.jpg': [0.678, 0.1775], '0002.jpg': [0.782, 0.1852], '0001.jpg': [0.648, 0.1991]}\n",
      "prompt:  prompt9\n",
      "{'0003.jpg': [0.7334, 0.2598], '0000.jpg': [0.78, 0.178], '0002.jpg': [0.7363, 0.2083], '0001.jpg': [0.7456, 0.223]}\n",
      "process subject:  cat2\n",
      "prompt:  prompt13\n",
      "{'0003.jpg': [0.715, 0.282], '0000.jpg': [0.6973, 0.3108], '0002.jpg': [0.7354, 0.302], '0001.jpg': [0.7495, 0.3254]}\n",
      "prompt:  prompt8\n",
      "{'0003.jpg': [0.857, 0.2576], '0000.jpg': [0.853, 0.2346], '0002.jpg': [0.794, 0.2664], '0001.jpg': [0.836, 0.2656]}\n",
      "prompt:  prompt17\n",
      "{'0003.jpg': [0.768, 0.279], '0000.jpg': [0.7603, 0.2524], '0002.jpg': [0.7534, 0.2281], '0001.jpg': [0.7705, 0.2595]}\n",
      "prompt:  prompt19\n",
      "{'0003.jpg': [0.7646, 0.2756], '0000.jpg': [0.7285, 0.2695], '0002.jpg': [0.811, 0.272], '0001.jpg': [0.5454, 0.2043]}\n",
      "prompt:  prompt10\n",
      "{'0003.jpg': [0.731, 0.2874], '0000.jpg': [0.8394, 0.2303], '0002.jpg': [0.734, 0.2925], '0001.jpg': [0.7793, 0.2935]}\n",
      "prompt:  prompt2\n",
      "{'0003.jpg': [0.767, 0.2756], '0000.jpg': [0.827, 0.266], '0002.jpg': [0.7305, 0.2302], '0001.jpg': [0.742, 0.272]}\n",
      "prompt:  prompt15\n",
      "{'0003.jpg': [0.806, 0.2362], '0000.jpg': [0.715, 0.2751], '0002.jpg': [0.717, 0.2365], '0001.jpg': [0.7773, 0.2487]}\n",
      "prompt:  prompt22\n",
      "{'0003.jpg': [0.869, 0.2242], '0000.jpg': [0.8545, 0.2168], '0002.jpg': [0.9014, 0.2162], '0001.jpg': [0.893, 0.2094]}\n",
      "prompt:  prompt1\n",
      "{'0003.jpg': [0.782, 0.276], '0000.jpg': [0.851, 0.2502], '0002.jpg': [0.7812, 0.2605], '0001.jpg': [0.7944, 0.2507]}\n",
      "prompt:  prompt14\n",
      "{'0003.jpg': [0.8867, 0.1958], '0000.jpg': [0.732, 0.1823], '0002.jpg': [0.902, 0.1897], '0001.jpg': [0.729, 0.2128]}\n",
      "prompt:  prompt6\n",
      "{'0003.jpg': [0.878, 0.192], '0000.jpg': [0.8735, 0.172], '0002.jpg': [0.836, 0.1908], '0001.jpg': [0.8413, 0.1996]}\n",
      "prompt:  prompt5\n",
      "{'0003.jpg': [0.585, 0.2524], '0000.jpg': [0.5728, 0.2913], '0002.jpg': [0.5796, 0.2568], '0001.jpg': [0.6113, 0.2673]}\n",
      "prompt:  prompt11\n",
      "{'0003.jpg': [0.741, 0.2432], '0000.jpg': [0.7803, 0.2527], '0002.jpg': [0.7646, 0.2712], '0001.jpg': [0.7666, 0.268]}\n",
      "prompt:  prompt7\n",
      "{'0003.jpg': [0.8833, 0.2083], '0000.jpg': [0.752, 0.1864], '0002.jpg': [0.8657, 0.188], '0001.jpg': [0.872, 0.2368]}\n",
      "prompt:  prompt21\n",
      "{'0003.jpg': [0.818, 0.2368], '0000.jpg': [0.771, 0.2732], '0002.jpg': [0.838, 0.2472], '0001.jpg': [0.821, 0.2522]}\n",
      "prompt:  prompt12\n",
      "{'0003.jpg': [0.775, 0.3022], '0000.jpg': [0.7505, 0.3193], '0002.jpg': [0.7104, 0.317], '0001.jpg': [0.7676, 0.314]}\n",
      "prompt:  prompt20\n",
      "{'0003.jpg': [0.812, 0.2258], '0000.jpg': [0.749, 0.224], '0002.jpg': [0.807, 0.2437], '0001.jpg': [0.8955, 0.2162]}\n",
      "prompt:  prompt4\n",
      "{'0003.jpg': [0.6343, 0.2651], '0000.jpg': [0.868, 0.2964], '0002.jpg': [0.8477, 0.2773], '0001.jpg': [0.8604, 0.2693]}\n",
      "prompt:  prompt3\n",
      "{'0003.jpg': [0.8174, 0.2646], '0000.jpg': [0.792, 0.2583], '0002.jpg': [0.802, 0.2869], '0001.jpg': [0.761, 0.2888]}\n",
      "prompt:  prompt23\n",
      "{'0003.jpg': [0.8813, 0.216], '0000.jpg': [0.867, 0.2155], '0002.jpg': [0.798, 0.1963], '0001.jpg': [0.8765, 0.2074]}\n",
      "prompt:  prompt0\n",
      "{'0003.jpg': [0.7856, 0.2284], '0000.jpg': [0.8867, 0.2181], '0002.jpg': [0.883, 0.2198], '0001.jpg': [0.851, 0.232]}\n",
      "prompt:  prompt18\n",
      "{'0003.jpg': [0.822, 0.2334], '0000.jpg': [0.891, 0.1871], '0002.jpg': [0.826, 0.144], '0001.jpg': [0.8877, 0.2042]}\n",
      "prompt:  prompt16\n",
      "{'0003.jpg': [0.8413, 0.209], '0000.jpg': [0.864, 0.198], '0002.jpg': [0.5454, 0.2186], '0001.jpg': [0.87, 0.2098]}\n",
      "prompt:  prompt24\n",
      "{'0003.jpg': [0.874, 0.207], '0000.jpg': [0.757, 0.2388], '0002.jpg': [0.8867, 0.1903], '0001.jpg': [0.8594, 0.1859]}\n",
      "prompt:  prompt9\n",
      "{'0003.jpg': [0.8774, 0.2842], '0000.jpg': [0.8325, 0.3184], '0002.jpg': [0.6035, 0.3079], '0001.jpg': [0.8193, 0.3254]}\n",
      "process subject:  elephant\n",
      "prompt:  prompt13\n",
      "{'0003.jpg': [0.646, 0.1825], '0000.jpg': [0.678, 0.2394], '0002.jpg': [0.7983, 0.2094], '0001.jpg': [0.5835, 0.2654]}\n",
      "prompt:  prompt8\n",
      "{'0003.jpg': [0.7944, 0.1763], '0000.jpg': [0.7, 0.1476], '0002.jpg': [0.75, 0.187], '0001.jpg': [0.7744, 0.1458]}\n",
      "prompt:  prompt17\n",
      "{'0003.jpg': [0.419, 0.2156], '0000.jpg': [0.682, 0.1724], '0002.jpg': [0.447, 0.2062], '0001.jpg': [0.4126, 0.227]}\n",
      "prompt:  prompt19\n",
      "{'0003.jpg': [0.6807, 0.2065], '0000.jpg': [0.666, 0.272], '0002.jpg': [0.713, 0.203], '0001.jpg': [0.711, 0.2861]}\n",
      "prompt:  prompt10\n",
      "{'0003.jpg': [0.7207, 0.2406], '0000.jpg': [0.774, 0.2023], '0002.jpg': [0.6963, 0.2094], '0001.jpg': [0.8115, 0.2072]}\n",
      "prompt:  prompt2\n",
      "{'0003.jpg': [0.695, 0.2496], '0000.jpg': [0.822, 0.2023], '0002.jpg': [0.696, 0.2673], '0001.jpg': [0.6646, 0.2347]}\n",
      "prompt:  prompt15\n",
      "{'0003.jpg': [0.6147, 0.304], '0000.jpg': [0.6143, 0.1991], '0002.jpg': [0.8667, 0.238], '0001.jpg': [0.4434, 0.2615]}\n",
      "prompt:  prompt22\n",
      "{'0003.jpg': [0.8286, 0.1931], '0000.jpg': [0.7593, 0.1995], '0002.jpg': [0.8696, 0.1896], '0001.jpg': [0.843, 0.2017]}\n",
      "prompt:  prompt1\n",
      "{'0003.jpg': [0.8076, 0.1552], '0000.jpg': [0.8555, 0.1615], '0002.jpg': [0.7803, 0.2015], '0001.jpg': [0.795, 0.1431]}\n",
      "prompt:  prompt14\n",
      "{'0003.jpg': [0.7295, 0.2196], '0000.jpg': [0.581, 0.2014], '0002.jpg': [0.76, 0.2023], '0001.jpg': [0.6895, 0.2181]}\n",
      "prompt:  prompt6\n",
      "{'0003.jpg': [0.6924, 0.175], '0000.jpg': [0.6797, 0.1692], '0002.jpg': [0.7905, 0.1946], '0001.jpg': [0.688, 0.1833]}\n",
      "prompt:  prompt5\n",
      "{'0003.jpg': [0.6816, 0.2156], '0000.jpg': [0.863, 0.2106], '0002.jpg': [0.6494, 0.2406], '0001.jpg': [0.6426, 0.212]}\n",
      "prompt:  prompt11\n",
      "{'0003.jpg': [0.7886, 0.1782], '0000.jpg': [0.7476, 0.1843], '0002.jpg': [0.67, 0.1489], '0001.jpg': [0.7173, 0.1731]}\n",
      "prompt:  prompt7\n",
      "{'0003.jpg': [0.64, 0.1997], '0000.jpg': [0.844, 0.1892], '0002.jpg': [0.752, 0.1808], '0001.jpg': [0.818, 0.19]}\n",
      "prompt:  prompt21\n",
      "{'0003.jpg': [0.8716, 0.1885], '0000.jpg': [0.884, 0.1826], '0002.jpg': [0.853, 0.1884], '0001.jpg': [0.811, 0.1987]}\n",
      "prompt:  prompt12\n",
      "{'0003.jpg': [0.84, 0.2054], '0000.jpg': [0.8687, 0.1849], '0002.jpg': [0.6, 0.2605], '0001.jpg': [0.637, 0.208]}\n",
      "prompt:  prompt20\n",
      "{'0003.jpg': [0.86, 0.1908], '0000.jpg': [0.858, 0.1913], '0002.jpg': [0.784, 0.1698], '0001.jpg': [0.7603, 0.1818]}\n",
      "prompt:  prompt4\n",
      "{'0003.jpg': [0.7466, 0.228], '0000.jpg': [0.743, 0.1929], '0002.jpg': [0.6064, 0.2566], '0001.jpg': [0.6987, 0.1902]}\n",
      "prompt:  prompt3\n",
      "{'0003.jpg': [0.7666, 0.1692], '0000.jpg': [0.4434, 0.1481], '0002.jpg': [0.478, 0.2155], '0001.jpg': [0.386, 0.1427]}\n",
      "prompt:  prompt23\n",
      "{'0003.jpg': [0.6787, 0.2008], '0000.jpg': [0.8237, 0.212], '0002.jpg': [0.763, 0.1923], '0001.jpg': [0.863, 0.1862]}\n",
      "prompt:  prompt0\n",
      "{'0003.jpg': [0.7417, 0.228], '0000.jpg': [0.7866, 0.2281], '0002.jpg': [0.831, 0.221], '0001.jpg': [0.695, 0.2087]}\n",
      "prompt:  prompt18\n",
      "{'0003.jpg': [0.4468, 0.2234], '0000.jpg': [0.7266, 0.2312], '0002.jpg': [0.4092, 0.25], '0001.jpg': [0.675, 0.2186]}\n",
      "prompt:  prompt16\n",
      "{'0003.jpg': [0.7036, 0.1971], '0000.jpg': [0.8296, 0.212], '0002.jpg': [0.807, 0.1537], '0001.jpg': [0.795, 0.1823]}\n",
      "prompt:  prompt24\n",
      "{'0003.jpg': [0.872, 0.2252], '0000.jpg': [0.7554, 0.248], '0002.jpg': [0.8594, 0.2262], '0001.jpg': [0.877, 0.2332]}\n",
      "prompt:  prompt9\n",
      "{'0003.jpg': [0.6694, 0.231], '0000.jpg': [0.617, 0.258], '0002.jpg': [0.5386, 0.269], '0001.jpg': [0.764, 0.2224]}\n"
     ]
    }
   ],
   "source": [
    "outputs_path = \"../../outputs/subjects/textual_inversion\"\n",
    "eval_res_path = \"../../eval_results/subjects/textual_inversion\"\n",
    "dataset_path = \"../../pcs_dataset/subjects\"\n",
    "dataset_info_path = \"../../pcs_dataset/info.json\"\n",
    "\n",
    "prompts_info, prompts = get_subjects_prompts_info(dataset_info_path)\n",
    "\n",
    "subjects_list = os.listdir(outputs_path)\n",
    "\n",
    "evaluation_res = dict()\n",
    "for subject in subjects_list:\n",
    "    print(\"process subject: \", subject)\n",
    "\n",
    "    res_for_each_subject =dict()\n",
    "\n",
    "    for sub_dir in os.listdir(os.path.join(outputs_path, subject)):\n",
    "        print(\"prompt: \", sub_dir)\n",
    "\n",
    "        prompt = prompts[prompts_info[subject][\"prompt_type\"]][extract_id(sub_dir)]\n",
    "        res_for_each_prompt =dict()\n",
    "\n",
    "        for generate_img_name in os.listdir(os.path.join(outputs_path, subject, sub_dir)):\n",
    "            generate_img_path = os.path.join(outputs_path, subject, sub_dir, generate_img_name)\n",
    "            res_for_each_prompt[generate_img_name] = [evaluate_i2i(generate_img_path, os.path.join(dataset_path, subject)), evaluate_t2i(generate_img_path, prompt)]\n",
    "        \n",
    "        res_for_each_subject[prompt] = res_for_each_prompt\n",
    "\n",
    "        print(res_for_each_prompt)\n",
    "\n",
    "    evaluation_res[subject] = res_for_each_subject\n",
    "\n",
    "os.makedirs(eval_res_path, exist_ok=True)\n",
    "\n",
    "with open(os.path.join(eval_res_path, \"evaluation_results.json\"), \"w\") as json_file:\n",
    "    json.dump(convert_to_native(evaluation_res), json_file, indent=4)\n"
   ]
  },
  {
   "cell_type": "code",
   "execution_count": null,
   "metadata": {},
   "outputs": [],
   "source": []
  }
 ],
 "metadata": {
  "kernelspec": {
   "display_name": "pcs",
   "language": "python",
   "name": "python3"
  },
  "language_info": {
   "codemirror_mode": {
    "name": "ipython",
    "version": 3
   },
   "file_extension": ".py",
   "mimetype": "text/x-python",
   "name": "python",
   "nbconvert_exporter": "python",
   "pygments_lexer": "ipython3",
   "version": "3.8.19"
  }
 },
 "nbformat": 4,
 "nbformat_minor": 2
}
